{
  "nbformat": 4,
  "nbformat_minor": 0,
  "metadata": {
    "colab": {
      "name": "자연어1.ipynb",
      "provenance": [],
      "collapsed_sections": [],
      "authorship_tag": "ABX9TyNz6/Et6jqPshBD/mHyxpol",
      "include_colab_link": true
    },
    "kernelspec": {
      "name": "python3",
      "display_name": "Python 3"
    },
    "language_info": {
      "name": "python"
    }
  },
  "cells": [
    {
      "cell_type": "markdown",
      "metadata": {
        "id": "view-in-github",
        "colab_type": "text"
      },
      "source": [
        "<a href=\"https://colab.research.google.com/github/SonDongBin/python-file/blob/master/%EC%9E%90%EC%97%B0%EC%96%B41.ipynb\" target=\"_parent\"><img src=\"https://colab.research.google.com/assets/colab-badge.svg\" alt=\"Open In Colab\"/></a>"
      ]
    },
    {
      "cell_type": "code",
      "source": [
        "def AND_gate(x1, x2):\n",
        "    w1 = 0.5\n",
        "    w2 = 0.5\n",
        "    b = -0.7\n",
        "    result = x1*w1 + x2*w2 + b\n",
        "    if result <= 0:\n",
        "        return 0\n",
        "    else:\n",
        "        return 1\n",
        "\n",
        "AND_gate(0, 0), AND_gate(0, 1), AND_gate(1, 0), AND_gate(1, 1)"
      ],
      "metadata": {
        "colab": {
          "base_uri": "https://localhost:8080/"
        },
        "id": "k66ioKrrA1U3",
        "outputId": "5c27671c-1a31-4221-e19a-496e1f85df0c"
      },
      "execution_count": null,
      "outputs": [
        {
          "output_type": "execute_result",
          "data": {
            "text/plain": [
              "(0, 0, 0, 1)"
            ]
          },
          "metadata": {},
          "execution_count": 1
        }
      ]
    },
    {
      "cell_type": "code",
      "source": [
        "def NAND_gate(x1, x2):\n",
        "    w1 = -0.5\n",
        "    w2 = -0.5\n",
        "    b = 0.7\n",
        "    result = x1*w1 + x2*w2 + b\n",
        "    if result <= 0:\n",
        "        return 0\n",
        "    else:\n",
        "        return 1\n",
        "\n",
        "NAND_gate(0, 0), NAND_gate(0, 1), NAND_gate(1, 0), NAND_gate(1, 1)"
      ],
      "metadata": {
        "colab": {
          "base_uri": "https://localhost:8080/"
        },
        "id": "0xVnMhoEAxHl",
        "outputId": "1c381798-07aa-4e09-b69e-476656aab55c"
      },
      "execution_count": null,
      "outputs": [
        {
          "output_type": "execute_result",
          "data": {
            "text/plain": [
              "(1, 1, 1, 0)"
            ]
          },
          "metadata": {},
          "execution_count": 2
        }
      ]
    },
    {
      "cell_type": "code",
      "source": [
        "def OR_gate(x1, x2):\n",
        "    w1 = 0.6\n",
        "    w2 = 0.6\n",
        "    b = -0.5\n",
        "    result = x1*w1 + x2*w2 + b\n",
        "    if result <= 0:\n",
        "        return 0\n",
        "    else:\n",
        "        return 1\n",
        "\n",
        "OR_gate(0, 0), OR_gate(0, 1), OR_gate(1, 0), OR_gate(1, 1)"
      ],
      "metadata": {
        "colab": {
          "base_uri": "https://localhost:8080/"
        },
        "id": "0T729Gv7Asud",
        "outputId": "8c497bba-10a1-4d7a-de43-a0e5958377b7"
      },
      "execution_count": null,
      "outputs": [
        {
          "output_type": "execute_result",
          "data": {
            "text/plain": [
              "(0, 1, 1, 1)"
            ]
          },
          "metadata": {},
          "execution_count": 3
        }
      ]
    },
    {
      "cell_type": "code",
      "source": [
        "import numpy as np\n",
        "import matplotlib.pyplot as plt\n",
        "\n",
        "def step(x):\n",
        "    return np.array(x > 0, dtype=np.int)\n",
        "x = np.arange(-5.0, 5.0, 0.1) # -5.0부터 5.0까지 0.1 간격 생성\n",
        "y = step(x)\n",
        "plt.title('Step Function')\n",
        "plt.plot(x,y)\n",
        "plt.show()"
      ],
      "metadata": {
        "colab": {
          "base_uri": "https://localhost:8080/",
          "height": 356
        },
        "id": "WH3-yRh7Alpt",
        "outputId": "91b7a642-5d1a-4e98-f22d-1d3f5940a282"
      },
      "execution_count": null,
      "outputs": [
        {
          "output_type": "stream",
          "name": "stderr",
          "text": [
            "/usr/local/lib/python3.7/dist-packages/ipykernel_launcher.py:5: DeprecationWarning: `np.int` is a deprecated alias for the builtin `int`. To silence this warning, use `int` by itself. Doing this will not modify any behavior and is safe. When replacing `np.int`, you may wish to use e.g. `np.int64` or `np.int32` to specify the precision. If you wish to review your current use, check the release note link for additional information.\n",
            "Deprecated in NumPy 1.20; for more details and guidance: https://numpy.org/devdocs/release/1.20.0-notes.html#deprecations\n",
            "  \"\"\"\n"
          ]
        },
        {
          "output_type": "display_data",
          "data": {
            "text/plain": [
              "<Figure size 432x288 with 1 Axes>"
            ],
            "image/png": "[encoded data removed]"
          },
          "metadata": {
            "needs_background": "light"
          }
        }
      ]
    },
    {
      "cell_type": "code",
      "source": [
        "# 시그모이드 함수 그래프를 그리는 코드\n",
        "def sigmoid(x):\n",
        "    return 1/(1+np.exp(-x))\n",
        "x = np.arange(-5.0, 5.0, 0.1)\n",
        "y = sigmoid(x)\n",
        "\n",
        "plt.plot(x, y)\n",
        "plt.plot([0,0],[1.0,0.0], ':') # 가운데 점선 추가\n",
        "plt.title('Sigmoid Function')\n",
        "plt.show()"
      ],
      "metadata": {
        "colab": {
          "base_uri": "https://localhost:8080/",
          "height": 281
        },
        "id": "kWj_tAbQAkKf",
        "outputId": "97bc0c0a-6709-4565-9a89-123b92294659"
      },
      "execution_count": null,
      "outputs": [
        {
          "output_type": "display_data",
          "data": {
            "text/plain": [
              "<Figure size 432x288 with 1 Axes>"
            ],
            "image/png": "[encoded data removed]"
          },
          "metadata": {
            "needs_background": "light"
          }
        }
      ]
    },
    {
      "cell_type": "code",
      "source": [
        "x = np.arange(-5.0, 5.0, 0.1) # -5.0부터 5.0까지 0.1 간격 생성\n",
        "y = np.tanh(x)\n",
        "\n",
        "plt.plot(x, y)\n",
        "plt.plot([0,0],[1.0,-1.0], ':')\n",
        "plt.axhline(y=0, color='orange', linestyle='--')\n",
        "plt.title('Tanh Function')\n",
        "plt.show()"
      ],
      "metadata": {
        "colab": {
          "base_uri": "https://localhost:8080/",
          "height": 281
        },
        "id": "Hee4krizAiV2",
        "outputId": "8c1b77cf-af4e-4691-eed4-6bc96494db14"
      },
      "execution_count": null,
      "outputs": [
        {
          "output_type": "display_data",
          "data": {
            "text/plain": [
              "<Figure size 432x288 with 1 Axes>"
            ],
            "image/png": "[encoded data removed]"
          },
          "metadata": {
            "needs_background": "light"
          }
        }
      ]
    },
    {
      "cell_type": "code",
      "source": [
        "def relu(x):\n",
        "    return np.maximum(0, x)\n",
        "\n",
        "x = np.arange(-5.0, 5.0, 0.1)\n",
        "y = relu(x)\n",
        "\n",
        "plt.plot(x, y)\n",
        "plt.plot([0,0],[5.0,0.0], ':')\n",
        "plt.title('Relu Function')\n",
        "plt.show()"
      ],
      "metadata": {
        "colab": {
          "base_uri": "https://localhost:8080/",
          "height": 281
        },
        "id": "5tB7kFyHAgwN",
        "outputId": "97215bcb-6774-41d3-ee96-fef0388c4189"
      },
      "execution_count": null,
      "outputs": [
        {
          "output_type": "display_data",
          "data": {
            "text/plain": [
              "<Figure size 432x288 with 1 Axes>"
            ],
            "image/png": "[encoded data removed]"
          },
          "metadata": {
            "needs_background": "light"
          }
        }
      ]
    },
    {
      "cell_type": "code",
      "source": [
        "a = 0.1\n",
        "\n",
        "def leaky_relu(x):\n",
        "    return np.maximum(a*x, x)\n",
        "\n",
        "x = np.arange(-5.0, 5.0, 0.1)\n",
        "y = leaky_relu(x)\n",
        "\n",
        "plt.plot(x, y)\n",
        "plt.plot([0,0],[5.0,0.0], ':')\n",
        "plt.title('Leaky ReLU Function')\n",
        "plt.show()"
      ],
      "metadata": {
        "colab": {
          "base_uri": "https://localhost:8080/",
          "height": 281
        },
        "id": "ChzQN-owAfFN",
        "outputId": "4c8021f7-e118-41f2-9042-57097c35ee67"
      },
      "execution_count": null,
      "outputs": [
        {
          "output_type": "display_data",
          "data": {
            "text/plain": [
              "<Figure size 432x288 with 1 Axes>"
            ],
            "image/png": "[encoded data removed]"
          },
          "metadata": {
            "needs_background": "light"
          }
        }
      ]
    },
    {
      "cell_type": "code",
      "source": [
        "x = np.arange(-5.0, 5.0, 0.1) # -5.0부터 5.0까지 0.1 간격 생성\n",
        "y = np.exp(x) / np.sum(np.exp(x))\n",
        "\n",
        "plt.plot(x, y)\n",
        "plt.title('Softmax Function')\n",
        "plt.show()"
      ],
      "metadata": {
        "colab": {
          "base_uri": "https://localhost:8080/",
          "height": 281
        },
        "id": "GdN_qecDAdhm",
        "outputId": "2d1c75e1-f78b-4b92-9c84-252d36753e2b"
      },
      "execution_count": null,
      "outputs": [
        {
          "output_type": "display_data",
          "data": {
            "text/plain": [
              "<Figure size 432x288 with 1 Axes>"
            ],
            "image/png": "[encoded data removed]"
          },
          "metadata": {
            "needs_background": "light"
          }
        }
      ]
    },
    {
      "cell_type": "code",
      "source": [
        "from tensorflow.keras.models import Sequential\n",
        "from tensorflow.keras.layers import Dense\n",
        "\n",
        "model = Sequential()\n",
        "\n",
        "# 3개의 입력과 2개의 출력\n",
        "model.add(Dense(2, input_dim=3, activation='softmax'))"
      ],
      "metadata": {
        "id": "Oh-vBM2HAagO"
      },
      "execution_count": null,
      "outputs": []
    },
    {
      "cell_type": "code",
      "source": [
        "model.summary()"
      ],
      "metadata": {
        "colab": {
          "base_uri": "https://localhost:8080/"
        },
        "id": "TlgTfGRlAZUt",
        "outputId": "a3778b37-5642-4727-d770-77500886f1ff"
      },
      "execution_count": null,
      "outputs": [
        {
          "output_type": "stream",
          "name": "stdout",
          "text": [
            "Model: \"sequential\"\n",
            "_________________________________________________________________\n",
            " Layer (type)                Output Shape              Param #   \n",
            "=================================================================\n",
            " dense (Dense)               (None, 2)                 8         \n",
            "                                                                 \n",
            "=================================================================\n",
            "Total params: 8\n",
            "Trainable params: 8\n",
            "Non-trainable params: 0\n",
            "_________________________________________________________________\n"
          ]
        }
      ]
    },
    {
      "cell_type": "code",
      "source": [
        "from tensorflow.keras.models import Sequential\n",
        "from tensorflow.keras.layers import Dense\n",
        "\n",
        "model = Sequential()\n",
        "\n",
        "# 4개의 입력과 8개의 출력\n",
        "model.add(Dense(8, input_dim=4, activation='relu'))\n",
        "\n",
        "# 이어서 8개의 출력\n",
        "model.add(Dense(8, activation='relu'))\n",
        "\n",
        "# 이어서 3개의 출력\n",
        "model.add(Dense(3, activation='softmax'))"
      ],
      "metadata": {
        "id": "BjXB5T5vAVOG"
      },
      "execution_count": null,
      "outputs": []
    },
    {
      "cell_type": "code",
      "source": [
        "model.compile(optimizer='adam', loss='mse', metrics=['mse'])"
      ],
      "metadata": {
        "id": "GyM1hk-BAROq"
      },
      "execution_count": null,
      "outputs": []
    },
    {
      "cell_type": "code",
      "source": [
        "model.compile(optimizer='adam', loss=tf.keras.losses.MeanSquaredError(), metrics=['mse'])"
      ],
      "metadata": {
        "colab": {
          "base_uri": "https://localhost:8080/",
          "height": 174
        },
        "id": "XH5Hz-H6AP_O",
        "outputId": "ebaf3844-eddf-4630-9b83-1dfa163aaf70"
      },
      "execution_count": null,
      "outputs": [
        {
          "output_type": "error",
          "ename": "NameError",
          "evalue": "ignored",
          "traceback": [
            "\u001b[0;31m---------------------------------------------------------------------------\u001b[0m",
            "\u001b[0;31mNameError\u001b[0m                                 Traceback (most recent call last)",
            "\u001b[0;32m<ipython-input-14-3d7ca906d361>\u001b[0m in \u001b[0;36m<module>\u001b[0;34m()\u001b[0m\n\u001b[0;32m----> 1\u001b[0;31m \u001b[0mmodel\u001b[0m\u001b[0;34m.\u001b[0m\u001b[0mcompile\u001b[0m\u001b[0;34m(\u001b[0m\u001b[0moptimizer\u001b[0m\u001b[0;34m=\u001b[0m\u001b[0;34m'adam'\u001b[0m\u001b[0;34m,\u001b[0m \u001b[0mloss\u001b[0m\u001b[0;34m=\u001b[0m\u001b[0mtf\u001b[0m\u001b[0;34m.\u001b[0m\u001b[0mkeras\u001b[0m\u001b[0;34m.\u001b[0m\u001b[0mlosses\u001b[0m\u001b[0;34m.\u001b[0m\u001b[0mMeanSquaredError\u001b[0m\u001b[0;34m(\u001b[0m\u001b[0;34m)\u001b[0m\u001b[0;34m,\u001b[0m \u001b[0mmetrics\u001b[0m\u001b[0;34m=\u001b[0m\u001b[0;34m[\u001b[0m\u001b[0;34m'mse'\u001b[0m\u001b[0;34m]\u001b[0m\u001b[0;34m)\u001b[0m\u001b[0;34m\u001b[0m\u001b[0;34m\u001b[0m\u001b[0m\n\u001b[0m",
            "\u001b[0;31mNameError\u001b[0m: name 'tf' is not defined"
          ]
        }
      ]
    },
    {
      "cell_type": "code",
      "source": [
        "model.compile(loss='binary_crossentropy', optimizer='adam', metrics=['acc'])"
      ],
      "metadata": {
        "id": "AMWHPk-gAOpP"
      },
      "execution_count": null,
      "outputs": []
    },
    {
      "cell_type": "code",
      "source": [
        "model.compile(loss=tf.keras.losses.BinaryCrossentropy(), optimizer='adam', metrics=['acc'])"
      ],
      "metadata": {
        "id": "8YU7yDg_ANVW"
      },
      "execution_count": null,
      "outputs": []
    },
    {
      "cell_type": "code",
      "source": [
        "model.compile(loss='categorical_crossentropy', optimizer='adam', metrics=['acc'])"
      ],
      "metadata": {
        "id": "9kptSUgfAL0Y"
      },
      "execution_count": null,
      "outputs": []
    },
    {
      "cell_type": "code",
      "source": [
        "model.compile(loss=tf.keras.losses.CategoricalCrossentropy(), optimizer='adam', metrics=['acc'])"
      ],
      "metadata": {
        "id": "p7L1RUNtAKVN"
      },
      "execution_count": null,
      "outputs": []
    },
    {
      "cell_type": "code",
      "source": [
        "model.compile(loss='sparse_categorical_crossentropy', optimizer='adam', metrics=['acc'])"
      ],
      "metadata": {
        "id": "WdE94TxpAI_-"
      },
      "execution_count": null,
      "outputs": []
    },
    {
      "cell_type": "code",
      "source": [
        "model.compile(loss=tf.keras.losses.SparseCategoricalCrossentropy(), optimizer='adam', metrics=['acc'])"
      ],
      "metadata": {
        "id": "9jwedA51AHlV"
      },
      "execution_count": null,
      "outputs": []
    },
    {
      "cell_type": "code",
      "source": [
        "model.fit(X_train, y_train, batch_size=len(X_train))"
      ],
      "metadata": {
        "id": "iljnsilBAFPu"
      },
      "execution_count": null,
      "outputs": []
    },
    {
      "cell_type": "code",
      "source": [
        "model.fit(X_train, y_train, batch_size=1)"
      ],
      "metadata": {
        "id": "4yfUH___ADaH"
      },
      "execution_count": null,
      "outputs": []
    },
    {
      "cell_type": "code",
      "source": [
        "model.fit(X_train, y_train, batch_size=128)"
      ],
      "metadata": {
        "id": "FvL0eLxCABjG"
      },
      "execution_count": null,
      "outputs": []
    },
    {
      "cell_type": "code",
      "source": [
        "tf.keras.optimizers.SGD(lr=0.01, momentum=0.9)"
      ],
      "metadata": {
        "id": "k9qfTpxR__yW"
      },
      "execution_count": null,
      "outputs": []
    },
    {
      "cell_type": "code",
      "source": [
        "tf.keras.optimizers.Adagrad(lr=0.01, epsilon=1e-6)"
      ],
      "metadata": {
        "id": "QDGODDyF_-WG"
      },
      "execution_count": null,
      "outputs": []
    },
    {
      "cell_type": "code",
      "source": [
        "tf.keras.optimizers.RMSprop(lr=0.001, rho=0.9, epsilon=1e-06)"
      ],
      "metadata": {
        "id": "sm6WoroG_8y9"
      },
      "execution_count": null,
      "outputs": []
    },
    {
      "cell_type": "code",
      "source": [
        "tf.keras.optimizers.Adam(lr=0.001, beta_1=0.9, beta_2=0.999, epsilon=None, decay=0.0, amsgrad=False)"
      ],
      "metadata": {
        "id": "U8e_3ef__7Oe"
      },
      "execution_count": null,
      "outputs": []
    },
    {
      "cell_type": "code",
      "source": [
        "adam = tf.keras.optimizers.Adam(lr=0.001, beta_1=0.9, beta_2=0.999, epsilon=None, decay=0.0, amsgrad=False)\n",
        "model.compile(loss='categorical_crossentropy', optimizer=adam, metrics=['acc'])"
      ],
      "metadata": {
        "id": "MsrzbrTf_5fF"
      },
      "execution_count": null,
      "outputs": []
    },
    {
      "cell_type": "code",
      "source": [
        "model.compile(loss='categorical_crossentropy', optimizer='adam', metrics=['acc'])"
      ],
      "metadata": {
        "id": "YON5BQjp_zkO"
      },
      "execution_count": null,
      "outputs": []
    },
    {
      "cell_type": "code",
      "source": [
        "from tensorflow.keras.models import Sequential\n",
        "from tensorflow.keras.layers import Dropout, Dense\n",
        "\n",
        "max_words = 10000\n",
        "num_classes = 46\n",
        "\n",
        "model = Sequential()\n",
        "model.add(Dense(256, input_shape=(max_words,), activation='relu'))\n",
        "model.add(Dropout(0.5)) # 드롭아웃 추가. 비율은 50%\n",
        "model.add(Dense(128, activation='relu'))\n",
        "model.add(Dropout(0.5)) # 드롭아웃 추가. 비율은 50%\n",
        "model.add(Dense(num_classes, activation='softmax'))"
      ],
      "metadata": {
        "id": "HUi9DJ6Z_qGe"
      },
      "execution_count": null,
      "outputs": []
    },
    {
      "cell_type": "code",
      "source": [
        "from tensorflow.keras import optimizers\n",
        "\n",
        "Adam = optimizers.Adam(lr=0.0001, clipnorm=1.)"
      ],
      "metadata": {
        "colab": {
          "base_uri": "https://localhost:8080/"
        },
        "id": "dJRpl2CV_Zr3",
        "outputId": "7f11bbd5-51ea-4721-f2f9-7d8cb1acc306"
      },
      "execution_count": null,
      "outputs": [
        {
          "output_type": "stream",
          "name": "stderr",
          "text": [
            "/usr/local/lib/python3.7/dist-packages/keras/optimizer_v2/adam.py:105: UserWarning: The `lr` argument is deprecated, use `learning_rate` instead.\n",
            "  super(Adam, self).__init__(name, **kwargs)\n"
          ]
        }
      ]
    },
    {
      "cell_type": "code",
      "execution_count": null,
      "metadata": {
        "colab": {
          "base_uri": "https://localhost:8080/"
        },
        "id": "unIZBzg7dMk2",
        "outputId": "137b59dc-8149-42e9-c250-d4230ec695e6"
      },
      "outputs": [
        {
          "output_type": "stream",
          "name": "stdout",
          "text": [
            "정수 인코딩 :  [1, 2, 3, 4, 6, 7]\n",
            "단어 집합 :  {'the': 1, 'earth': 2, 'is': 3, 'an': 4, 'awesome': 5, 'place': 6, 'live': 7}\n"
          ]
        }
      ],
      "source": [
        "from tensorflow.keras.preprocessing.text import Tokenizer\n",
        "from tensorflow.keras.preprocessing.sequence import pad_sequences\n",
        "\n",
        "tokenizer = Tokenizer()\n",
        "train_text = \"The earth is an awesome place live\"\n",
        "\n",
        "# 단어 집합 생성\n",
        "tokenizer.fit_on_texts([train_text])\n",
        "\n",
        "# 정수 인코딩\n",
        "sub_text = \"The earth is an great place live\"\n",
        "sequences = tokenizer.texts_to_sequences([sub_text])[0]\n",
        "\n",
        "print(\"정수 인코딩 : \",sequences)\n",
        "print(\"단어 집합 : \",tokenizer.word_index)"
      ]
    },
    {
      "cell_type": "code",
      "source": [
        "pad_sequences([[1, 2, 3], [3, 4, 5, 6], [7, 8]], maxlen=3, padding='pre')"
      ],
      "metadata": {
        "colab": {
          "base_uri": "https://localhost:8080/"
        },
        "id": "e9r2QmjS_cRG",
        "outputId": "cdeffa4d-19a6-4472-fecc-e935832c6e3f"
      },
      "execution_count": null,
      "outputs": [
        {
          "output_type": "execute_result",
          "data": {
            "text/plain": [
              "array([[1, 2, 3],\n",
              "       [4, 5, 6],\n",
              "       [0, 7, 8]], dtype=int32)"
            ]
          },
          "metadata": {},
          "execution_count": 18
        }
      ]
    },
    {
      "cell_type": "code",
      "source": [
        "from tensorflow.keras.layers import SimpleRNN, Embedding, Dense\n",
        "from tensorflow.keras.models import Sequential\n",
        "\n",
        "vocab_size = 10000\n",
        "embedding_dim = 32\n",
        "hidden_units = 32\n",
        "\n",
        "model = Sequential()\n",
        "model.add(Embedding(vocab_size, embedding_dim))\n",
        "model.add(SimpleRNN(hidden_units))\n",
        "model.add(Dense(1, activation='sigmoid'))\n",
        "model.compile(optimizer='rmsprop', loss='binary_crossentropy', metrics=['acc'])"
      ],
      "metadata": {
        "id": "5qD5hLW0Clo0"
      },
      "execution_count": null,
      "outputs": []
    },
    {
      "cell_type": "code",
      "source": [
        "# compile() 코드의 다음\n",
        "model.fit(X_train, y_train, epochs=10, batch_size=32)\n",
        "# 파라미터 추가\n",
        "model.fit(X_train, y_train, epochs=10, batch_size=32, verbose=0, validation_data(X_val, y_val))\n",
        "# 훈련 데이터의 20%를 검증 데이터로 사용.\n",
        "model.fit(X_train, y_train, epochs=10, batch_size=32, verbose=0, validation_split=0.2))"
      ],
      "metadata": {
        "colab": {
          "base_uri": "https://localhost:8080/",
          "height": 137
        },
        "id": "3890mwxhCzaU",
        "outputId": "290563d9-faf4-4ea3-b66d-2026eec9251a"
      },
      "execution_count": null,
      "outputs": [
        {
          "output_type": "error",
          "ename": "SyntaxError",
          "evalue": "ignored",
          "traceback": [
            "\u001b[0;36m  File \u001b[0;32m\"<ipython-input-22-a83f525a2c89>\"\u001b[0;36m, line \u001b[0;32m6\u001b[0m\n\u001b[0;31m    model.fit(X_train, y_train, epochs=10, batch_size=32, verbose=0, validation_split=0.2))\u001b[0m\n\u001b[0m                                                                                          ^\u001b[0m\n\u001b[0;31mSyntaxError\u001b[0m\u001b[0;31m:\u001b[0m invalid syntax\n"
          ]
        }
      ]
    },
    {
      "cell_type": "code",
      "source": [
        "# 학습 다음\n",
        "model.evaluate(X_test, y_test, batch_size=32)\n",
        "\n",
        "model.predict(X_input, batch_size=32)\n",
        "\n",
        "model.save(\"model_name.h5\")\n",
        "\n",
        "from tensorflow.keras.models import load_model\n",
        "model = load_model(\"model_name.h5\")"
      ],
      "metadata": {
        "id": "FtZxas55E8cj"
      },
      "execution_count": null,
      "outputs": []
    },
    {
      "cell_type": "code",
      "source": [
        "from tensorflow.keras.models import Sequential\n",
        "from tensorflow.keras.layers import Dense\n",
        "\n",
        "model = Sequential()\n",
        "model.add(Dense(3, input_dim=4, activation='softmax'))"
      ],
      "metadata": {
        "id": "xsitWBgnE8XC"
      },
      "execution_count": null,
      "outputs": []
    },
    {
      "cell_type": "code",
      "source": [
        "from tensorflow.keras.layers import Input, Dense\n",
        "from tensorflow.keras.models import Model\n",
        "inputs = Input(shape=(10,))\n",
        "hidden1 = Dense(64, activation='relu')(inputs)\n",
        "hidden2 = Dense(64, activation='relu')(hidden1)\n",
        "output = Dense(1, activation='sigmoid')(hidden2)\n",
        "model = Model(inputs=inputs, outputs=output)\n",
        "\n",
        "model.compile(optimizer='rmsprop', loss='categorical_crossentropy', metrics=['accuracy'])"
      ],
      "metadata": {
        "id": "Z6BsjNMSHfwp"
      },
      "execution_count": null,
      "outputs": []
    },
    {
      "cell_type": "code",
      "source": [
        "inputs = Input(shape=(10,))\n",
        "x = Dense(8, activation=\"relu\")(inputs)\n",
        "x = Dense(4, activation=\"relu\")(x)\n",
        "x = Dense(1, activation=\"linear\")(x)\n",
        "model = Model(inputs, x)"
      ],
      "metadata": {
        "id": "KrS2KoqmIZ0o"
      },
      "execution_count": null,
      "outputs": []
    },
    {
      "cell_type": "code",
      "source": [
        "from tensorflow.keras.layers import Input, Dense\n",
        "from tensorflow.keras import optimizers\n",
        "from tensorflow.keras.models import Model\n",
        "\n",
        "X = [1, 2, 3, 4, 5, 6, 7, 8, 9]\n",
        "y = [11, 22, 33, 44, 53, 66, 77, 87, 95]\n",
        "\n",
        "inputs = Input(shape=(1,))\n",
        "output = Dense(1, activation='linear')(inputs)\n",
        "linear_model = Model(inputs, output)\n",
        "\n",
        "sgd = optimizers.SGD(lr=0.01)\n",
        "\n",
        "linear_model.compile(optimizer=sgd, loss='mse', metrics=['mse'])\n",
        "linear_model.fit(X, y, epochs=300)"
      ],
      "metadata": {
        "colab": {
          "base_uri": "https://localhost:8080/"
        },
        "id": "xFsV7OCRgYgG",
        "outputId": "e74f6dbc-9cc0-472f-9bfc-c824dbe08be3"
      },
      "execution_count": null,
      "outputs": [
        {
          "output_type": "stream",
          "name": "stderr",
          "text": [
            "/usr/local/lib/python3.7/dist-packages/keras/optimizer_v2/gradient_descent.py:102: UserWarning: The `lr` argument is deprecated, use `learning_rate` instead.\n",
            "  super(SGD, self).__init__(name, **kwargs)\n"
          ]
        },
        {
          "output_type": "stream",
          "name": "stdout",
          "text": [
            "Epoch 1/300\n",
            "1/1 [==============================] - 1s 649ms/step - loss: 4577.9155 - mse: 4577.9155\n",
            "Epoch 2/300\n",
            "1/1 [==============================] - 0s 10ms/step - loss: 564.4124 - mse: 564.4124\n",
            "Epoch 3/300\n",
            "1/1 [==============================] - 0s 16ms/step - loss: 70.5793 - mse: 70.5793\n",
            "Epoch 4/300\n",
            "1/1 [==============================] - 0s 13ms/step - loss: 9.8152 - mse: 9.8152\n",
            "Epoch 5/300\n",
            "1/1 [==============================] - 0s 13ms/step - loss: 2.3369 - mse: 2.3369\n",
            "Epoch 6/300\n",
            "1/1 [==============================] - 0s 15ms/step - loss: 1.4152 - mse: 1.4152\n",
            "Epoch 7/300\n",
            "1/1 [==============================] - 0s 10ms/step - loss: 1.3001 - mse: 1.3001\n",
            "Epoch 8/300\n",
            "1/1 [==============================] - 0s 10ms/step - loss: 1.2844 - mse: 1.2844\n",
            "Epoch 9/300\n",
            "1/1 [==============================] - 0s 16ms/step - loss: 1.2808 - mse: 1.2808\n",
            "Epoch 10/300\n",
            "1/1 [==============================] - 0s 13ms/step - loss: 1.2788 - mse: 1.2788\n",
            "Epoch 11/300\n",
            "1/1 [==============================] - 0s 10ms/step - loss: 1.2770 - mse: 1.2770\n",
            "Epoch 12/300\n",
            "1/1 [==============================] - 0s 21ms/step - loss: 1.2752 - mse: 1.2752\n",
            "Epoch 13/300\n",
            "1/1 [==============================] - 0s 11ms/step - loss: 1.2734 - mse: 1.2734\n",
            "Epoch 14/300\n",
            "1/1 [==============================] - 0s 15ms/step - loss: 1.2717 - mse: 1.2717\n",
            "Epoch 15/300\n",
            "1/1 [==============================] - 0s 12ms/step - loss: 1.2700 - mse: 1.2700\n",
            "Epoch 16/300\n",
            "1/1 [==============================] - 0s 12ms/step - loss: 1.2682 - mse: 1.2682\n",
            "Epoch 17/300\n",
            "1/1 [==============================] - 0s 14ms/step - loss: 1.2665 - mse: 1.2665\n",
            "Epoch 18/300\n",
            "1/1 [==============================] - 0s 16ms/step - loss: 1.2648 - mse: 1.2648\n",
            "Epoch 19/300\n",
            "1/1 [==============================] - 0s 12ms/step - loss: 1.2632 - mse: 1.2632\n",
            "Epoch 20/300\n",
            "1/1 [==============================] - 0s 13ms/step - loss: 1.2615 - mse: 1.2615\n",
            "Epoch 21/300\n",
            "1/1 [==============================] - 0s 15ms/step - loss: 1.2598 - mse: 1.2598\n",
            "Epoch 22/300\n",
            "1/1 [==============================] - 0s 17ms/step - loss: 1.2582 - mse: 1.2582\n",
            "Epoch 23/300\n",
            "1/1 [==============================] - 0s 10ms/step - loss: 1.2566 - mse: 1.2566\n",
            "Epoch 24/300\n",
            "1/1 [==============================] - 0s 11ms/step - loss: 1.2550 - mse: 1.2550\n",
            "Epoch 25/300\n",
            "1/1 [==============================] - 0s 11ms/step - loss: 1.2534 - mse: 1.2534\n",
            "Epoch 26/300\n",
            "1/1 [==============================] - 0s 16ms/step - loss: 1.2518 - mse: 1.2518\n",
            "Epoch 27/300\n",
            "1/1 [==============================] - 0s 15ms/step - loss: 1.2502 - mse: 1.2502\n",
            "Epoch 28/300\n",
            "1/1 [==============================] - 0s 15ms/step - loss: 1.2486 - mse: 1.2486\n",
            "Epoch 29/300\n",
            "1/1 [==============================] - 0s 10ms/step - loss: 1.2471 - mse: 1.2471\n",
            "Epoch 30/300\n",
            "1/1 [==============================] - 0s 12ms/step - loss: 1.2456 - mse: 1.2456\n",
            "Epoch 31/300\n",
            "1/1 [==============================] - 0s 13ms/step - loss: 1.2440 - mse: 1.2440\n",
            "Epoch 32/300\n",
            "1/1 [==============================] - 0s 11ms/step - loss: 1.2425 - mse: 1.2425\n",
            "Epoch 33/300\n",
            "1/1 [==============================] - 0s 11ms/step - loss: 1.2410 - mse: 1.2410\n",
            "Epoch 34/300\n",
            "1/1 [==============================] - 0s 13ms/step - loss: 1.2395 - mse: 1.2395\n",
            "Epoch 35/300\n",
            "1/1 [==============================] - 0s 12ms/step - loss: 1.2381 - mse: 1.2381\n",
            "Epoch 36/300\n",
            "1/1 [==============================] - 0s 15ms/step - loss: 1.2366 - mse: 1.2366\n",
            "Epoch 37/300\n",
            "1/1 [==============================] - 0s 11ms/step - loss: 1.2352 - mse: 1.2352\n",
            "Epoch 38/300\n",
            "1/1 [==============================] - 0s 12ms/step - loss: 1.2337 - mse: 1.2337\n",
            "Epoch 39/300\n",
            "1/1 [==============================] - 0s 16ms/step - loss: 1.2323 - mse: 1.2323\n",
            "Epoch 40/300\n",
            "1/1 [==============================] - 0s 16ms/step - loss: 1.2309 - mse: 1.2309\n",
            "Epoch 41/300\n",
            "1/1 [==============================] - 0s 12ms/step - loss: 1.2295 - mse: 1.2295\n",
            "Epoch 42/300\n",
            "1/1 [==============================] - 0s 10ms/step - loss: 1.2281 - mse: 1.2281\n",
            "Epoch 43/300\n",
            "1/1 [==============================] - 0s 11ms/step - loss: 1.2267 - mse: 1.2267\n",
            "Epoch 44/300\n",
            "1/1 [==============================] - 0s 10ms/step - loss: 1.2253 - mse: 1.2253\n",
            "Epoch 45/300\n",
            "1/1 [==============================] - 0s 9ms/step - loss: 1.2240 - mse: 1.2240\n",
            "Epoch 46/300\n",
            "1/1 [==============================] - 0s 10ms/step - loss: 1.2226 - mse: 1.2226\n",
            "Epoch 47/300\n",
            "1/1 [==============================] - 0s 10ms/step - loss: 1.2213 - mse: 1.2213\n",
            "Epoch 48/300\n",
            "1/1 [==============================] - 0s 31ms/step - loss: 1.2200 - mse: 1.2200\n",
            "Epoch 49/300\n",
            "1/1 [==============================] - 0s 13ms/step - loss: 1.2187 - mse: 1.2187\n",
            "Epoch 50/300\n",
            "1/1 [==============================] - 0s 21ms/step - loss: 1.2174 - mse: 1.2174\n",
            "Epoch 51/300\n",
            "1/1 [==============================] - 0s 18ms/step - loss: 1.2161 - mse: 1.2161\n",
            "Epoch 52/300\n",
            "1/1 [==============================] - 0s 15ms/step - loss: 1.2148 - mse: 1.2148\n",
            "Epoch 53/300\n",
            "1/1 [==============================] - 0s 18ms/step - loss: 1.2135 - mse: 1.2135\n",
            "Epoch 54/300\n",
            "1/1 [==============================] - 0s 11ms/step - loss: 1.2123 - mse: 1.2123\n",
            "Epoch 55/300\n",
            "1/1 [==============================] - 0s 22ms/step - loss: 1.2110 - mse: 1.2110\n",
            "Epoch 56/300\n",
            "1/1 [==============================] - 0s 32ms/step - loss: 1.2098 - mse: 1.2098\n",
            "Epoch 57/300\n",
            "1/1 [==============================] - 0s 19ms/step - loss: 1.2085 - mse: 1.2085\n",
            "Epoch 58/300\n",
            "1/1 [==============================] - 0s 11ms/step - loss: 1.2073 - mse: 1.2073\n",
            "Epoch 59/300\n",
            "1/1 [==============================] - 0s 11ms/step - loss: 1.2061 - mse: 1.2061\n",
            "Epoch 60/300\n",
            "1/1 [==============================] - 0s 13ms/step - loss: 1.2049 - mse: 1.2049\n",
            "Epoch 61/300\n",
            "1/1 [==============================] - 0s 12ms/step - loss: 1.2037 - mse: 1.2037\n",
            "Epoch 62/300\n",
            "1/1 [==============================] - 0s 18ms/step - loss: 1.2026 - mse: 1.2026\n",
            "Epoch 63/300\n",
            "1/1 [==============================] - 0s 14ms/step - loss: 1.2014 - mse: 1.2014\n",
            "Epoch 64/300\n",
            "1/1 [==============================] - 0s 15ms/step - loss: 1.2002 - mse: 1.2002\n",
            "Epoch 65/300\n",
            "1/1 [==============================] - 0s 13ms/step - loss: 1.1991 - mse: 1.1991\n",
            "Epoch 66/300\n",
            "1/1 [==============================] - 0s 41ms/step - loss: 1.1979 - mse: 1.1979\n",
            "Epoch 67/300\n",
            "1/1 [==============================] - 0s 19ms/step - loss: 1.1968 - mse: 1.1968\n",
            "Epoch 68/300\n",
            "1/1 [==============================] - 0s 26ms/step - loss: 1.1957 - mse: 1.1957\n",
            "Epoch 69/300\n",
            "1/1 [==============================] - 0s 26ms/step - loss: 1.1946 - mse: 1.1946\n",
            "Epoch 70/300\n",
            "1/1 [==============================] - 0s 21ms/step - loss: 1.1935 - mse: 1.1935\n",
            "Epoch 71/300\n",
            "1/1 [==============================] - 0s 16ms/step - loss: 1.1924 - mse: 1.1924\n",
            "Epoch 72/300\n",
            "1/1 [==============================] - 0s 16ms/step - loss: 1.1913 - mse: 1.1913\n",
            "Epoch 73/300\n",
            "1/1 [==============================] - 0s 15ms/step - loss: 1.1902 - mse: 1.1902\n",
            "Epoch 74/300\n",
            "1/1 [==============================] - 0s 33ms/step - loss: 1.1891 - mse: 1.1891\n",
            "Epoch 75/300\n",
            "1/1 [==============================] - 0s 18ms/step - loss: 1.1881 - mse: 1.1881\n",
            "Epoch 76/300\n",
            "1/1 [==============================] - 0s 33ms/step - loss: 1.1870 - mse: 1.1870\n",
            "Epoch 77/300\n",
            "1/1 [==============================] - 0s 14ms/step - loss: 1.1860 - mse: 1.1860\n",
            "Epoch 78/300\n",
            "1/1 [==============================] - 0s 34ms/step - loss: 1.1849 - mse: 1.1849\n",
            "Epoch 79/300\n",
            "1/1 [==============================] - 0s 15ms/step - loss: 1.1839 - mse: 1.1839\n",
            "Epoch 80/300\n",
            "1/1 [==============================] - 0s 14ms/step - loss: 1.1829 - mse: 1.1829\n",
            "Epoch 81/300\n",
            "1/1 [==============================] - 0s 25ms/step - loss: 1.1819 - mse: 1.1819\n",
            "Epoch 82/300\n",
            "1/1 [==============================] - 0s 29ms/step - loss: 1.1809 - mse: 1.1809\n",
            "Epoch 83/300\n",
            "1/1 [==============================] - 0s 19ms/step - loss: 1.1799 - mse: 1.1799\n",
            "Epoch 84/300\n",
            "1/1 [==============================] - 0s 17ms/step - loss: 1.1789 - mse: 1.1789\n",
            "Epoch 85/300\n",
            "1/1 [==============================] - 0s 13ms/step - loss: 1.1779 - mse: 1.1779\n",
            "Epoch 86/300\n",
            "1/1 [==============================] - 0s 28ms/step - loss: 1.1770 - mse: 1.1770\n",
            "Epoch 87/300\n",
            "1/1 [==============================] - 0s 22ms/step - loss: 1.1760 - mse: 1.1760\n",
            "Epoch 88/300\n",
            "1/1 [==============================] - 0s 25ms/step - loss: 1.1751 - mse: 1.1751\n",
            "Epoch 89/300\n",
            "1/1 [==============================] - 0s 18ms/step - loss: 1.1741 - mse: 1.1741\n",
            "Epoch 90/300\n",
            "1/1 [==============================] - 0s 17ms/step - loss: 1.1732 - mse: 1.1732\n",
            "Epoch 91/300\n",
            "1/1 [==============================] - 0s 17ms/step - loss: 1.1723 - mse: 1.1723\n",
            "Epoch 92/300\n",
            "1/1 [==============================] - 0s 26ms/step - loss: 1.1713 - mse: 1.1713\n",
            "Epoch 93/300\n",
            "1/1 [==============================] - 0s 37ms/step - loss: 1.1704 - mse: 1.1704\n",
            "Epoch 94/300\n",
            "1/1 [==============================] - 0s 32ms/step - loss: 1.1695 - mse: 1.1695\n",
            "Epoch 95/300\n",
            "1/1 [==============================] - 0s 21ms/step - loss: 1.1686 - mse: 1.1686\n",
            "Epoch 96/300\n",
            "1/1 [==============================] - 0s 28ms/step - loss: 1.1677 - mse: 1.1677\n",
            "Epoch 97/300\n",
            "1/1 [==============================] - 0s 15ms/step - loss: 1.1668 - mse: 1.1668\n",
            "Epoch 98/300\n",
            "1/1 [==============================] - 0s 21ms/step - loss: 1.1660 - mse: 1.1660\n",
            "Epoch 99/300\n",
            "1/1 [==============================] - 0s 17ms/step - loss: 1.1651 - mse: 1.1651\n",
            "Epoch 100/300\n",
            "1/1 [==============================] - 0s 17ms/step - loss: 1.1642 - mse: 1.1642\n",
            "Epoch 101/300\n",
            "1/1 [==============================] - 0s 13ms/step - loss: 1.1634 - mse: 1.1634\n",
            "Epoch 102/300\n",
            "1/1 [==============================] - 0s 13ms/step - loss: 1.1625 - mse: 1.1625\n",
            "Epoch 103/300\n",
            "1/1 [==============================] - 0s 12ms/step - loss: 1.1617 - mse: 1.1617\n",
            "Epoch 104/300\n",
            "1/1 [==============================] - 0s 13ms/step - loss: 1.1609 - mse: 1.1609\n",
            "Epoch 105/300\n",
            "1/1 [==============================] - 0s 19ms/step - loss: 1.1600 - mse: 1.1600\n",
            "Epoch 106/300\n",
            "1/1 [==============================] - 0s 47ms/step - loss: 1.1592 - mse: 1.1592\n",
            "Epoch 107/300\n",
            "1/1 [==============================] - 0s 37ms/step - loss: 1.1584 - mse: 1.1584\n",
            "Epoch 108/300\n",
            "1/1 [==============================] - 0s 26ms/step - loss: 1.1576 - mse: 1.1576\n",
            "Epoch 109/300\n",
            "1/1 [==============================] - 0s 29ms/step - loss: 1.1568 - mse: 1.1568\n",
            "Epoch 110/300\n",
            "1/1 [==============================] - 0s 53ms/step - loss: 1.1560 - mse: 1.1560\n",
            "Epoch 111/300\n",
            "1/1 [==============================] - 0s 27ms/step - loss: 1.1552 - mse: 1.1552\n",
            "Epoch 112/300\n",
            "1/1 [==============================] - 0s 30ms/step - loss: 1.1544 - mse: 1.1544\n",
            "Epoch 113/300\n",
            "1/1 [==============================] - 0s 21ms/step - loss: 1.1536 - mse: 1.1536\n",
            "Epoch 114/300\n",
            "1/1 [==============================] - 0s 47ms/step - loss: 1.1529 - mse: 1.1529\n",
            "Epoch 115/300\n",
            "1/1 [==============================] - 0s 36ms/step - loss: 1.1521 - mse: 1.1521\n",
            "Epoch 116/300\n",
            "1/1 [==============================] - 0s 33ms/step - loss: 1.1514 - mse: 1.1514\n",
            "Epoch 117/300\n",
            "1/1 [==============================] - 0s 41ms/step - loss: 1.1506 - mse: 1.1506\n",
            "Epoch 118/300\n",
            "1/1 [==============================] - 0s 35ms/step - loss: 1.1499 - mse: 1.1499\n",
            "Epoch 119/300\n",
            "1/1 [==============================] - 0s 26ms/step - loss: 1.1491 - mse: 1.1491\n",
            "Epoch 120/300\n",
            "1/1 [==============================] - 0s 20ms/step - loss: 1.1484 - mse: 1.1484\n",
            "Epoch 121/300\n",
            "1/1 [==============================] - 0s 30ms/step - loss: 1.1477 - mse: 1.1477\n",
            "Epoch 122/300\n",
            "1/1 [==============================] - 0s 31ms/step - loss: 1.1469 - mse: 1.1469\n",
            "Epoch 123/300\n",
            "1/1 [==============================] - 0s 26ms/step - loss: 1.1462 - mse: 1.1462\n",
            "Epoch 124/300\n",
            "1/1 [==============================] - 0s 14ms/step - loss: 1.1455 - mse: 1.1455\n",
            "Epoch 125/300\n",
            "1/1 [==============================] - 0s 46ms/step - loss: 1.1448 - mse: 1.1448\n",
            "Epoch 126/300\n",
            "1/1 [==============================] - 0s 21ms/step - loss: 1.1441 - mse: 1.1441\n",
            "Epoch 127/300\n",
            "1/1 [==============================] - 0s 24ms/step - loss: 1.1434 - mse: 1.1434\n",
            "Epoch 128/300\n",
            "1/1 [==============================] - 0s 35ms/step - loss: 1.1428 - mse: 1.1428\n",
            "Epoch 129/300\n",
            "1/1 [==============================] - 0s 21ms/step - loss: 1.1421 - mse: 1.1421\n",
            "Epoch 130/300\n",
            "1/1 [==============================] - 0s 29ms/step - loss: 1.1414 - mse: 1.1414\n",
            "Epoch 131/300\n",
            "1/1 [==============================] - 0s 37ms/step - loss: 1.1407 - mse: 1.1407\n",
            "Epoch 132/300\n",
            "1/1 [==============================] - 0s 15ms/step - loss: 1.1401 - mse: 1.1401\n",
            "Epoch 133/300\n",
            "1/1 [==============================] - 0s 26ms/step - loss: 1.1394 - mse: 1.1394\n",
            "Epoch 134/300\n",
            "1/1 [==============================] - 0s 34ms/step - loss: 1.1388 - mse: 1.1388\n",
            "Epoch 135/300\n",
            "1/1 [==============================] - 0s 26ms/step - loss: 1.1381 - mse: 1.1381\n",
            "Epoch 136/300\n",
            "1/1 [==============================] - 0s 39ms/step - loss: 1.1375 - mse: 1.1375\n",
            "Epoch 137/300\n",
            "1/1 [==============================] - 0s 36ms/step - loss: 1.1368 - mse: 1.1368\n",
            "Epoch 138/300\n",
            "1/1 [==============================] - 0s 22ms/step - loss: 1.1362 - mse: 1.1362\n",
            "Epoch 139/300\n",
            "1/1 [==============================] - 0s 18ms/step - loss: 1.1356 - mse: 1.1356\n",
            "Epoch 140/300\n",
            "1/1 [==============================] - 0s 17ms/step - loss: 1.1350 - mse: 1.1350\n",
            "Epoch 141/300\n",
            "1/1 [==============================] - 0s 13ms/step - loss: 1.1343 - mse: 1.1343\n",
            "Epoch 142/300\n",
            "1/1 [==============================] - 0s 39ms/step - loss: 1.1337 - mse: 1.1337\n",
            "Epoch 143/300\n",
            "1/1 [==============================] - 0s 27ms/step - loss: 1.1331 - mse: 1.1331\n",
            "Epoch 144/300\n",
            "1/1 [==============================] - 0s 28ms/step - loss: 1.1325 - mse: 1.1325\n",
            "Epoch 145/300\n",
            "1/1 [==============================] - 0s 13ms/step - loss: 1.1319 - mse: 1.1319\n",
            "Epoch 146/300\n",
            "1/1 [==============================] - 0s 43ms/step - loss: 1.1313 - mse: 1.1313\n",
            "Epoch 147/300\n",
            "1/1 [==============================] - 0s 29ms/step - loss: 1.1308 - mse: 1.1308\n",
            "Epoch 148/300\n",
            "1/1 [==============================] - 0s 14ms/step - loss: 1.1302 - mse: 1.1302\n",
            "Epoch 149/300\n",
            "1/1 [==============================] - 0s 47ms/step - loss: 1.1296 - mse: 1.1296\n",
            "Epoch 150/300\n",
            "1/1 [==============================] - 0s 34ms/step - loss: 1.1290 - mse: 1.1290\n",
            "Epoch 151/300\n",
            "1/1 [==============================] - 0s 18ms/step - loss: 1.1285 - mse: 1.1285\n",
            "Epoch 152/300\n",
            "1/1 [==============================] - 0s 18ms/step - loss: 1.1279 - mse: 1.1279\n",
            "Epoch 153/300\n",
            "1/1 [==============================] - 0s 32ms/step - loss: 1.1273 - mse: 1.1273\n",
            "Epoch 154/300\n",
            "1/1 [==============================] - 0s 20ms/step - loss: 1.1268 - mse: 1.1268\n",
            "Epoch 155/300\n",
            "1/1 [==============================] - 0s 19ms/step - loss: 1.1262 - mse: 1.1262\n",
            "Epoch 156/300\n",
            "1/1 [==============================] - 0s 14ms/step - loss: 1.1257 - mse: 1.1257\n",
            "Epoch 157/300\n",
            "1/1 [==============================] - 0s 18ms/step - loss: 1.1251 - mse: 1.1251\n",
            "Epoch 158/300\n",
            "1/1 [==============================] - 0s 35ms/step - loss: 1.1246 - mse: 1.1246\n",
            "Epoch 159/300\n",
            "1/1 [==============================] - 0s 28ms/step - loss: 1.1241 - mse: 1.1241\n",
            "Epoch 160/300\n",
            "1/1 [==============================] - 0s 44ms/step - loss: 1.1236 - mse: 1.1236\n",
            "Epoch 161/300\n",
            "1/1 [==============================] - 0s 16ms/step - loss: 1.1230 - mse: 1.1230\n",
            "Epoch 162/300\n",
            "1/1 [==============================] - 0s 14ms/step - loss: 1.1225 - mse: 1.1225\n",
            "Epoch 163/300\n",
            "1/1 [==============================] - 0s 28ms/step - loss: 1.1220 - mse: 1.1220\n",
            "Epoch 164/300\n",
            "1/1 [==============================] - 0s 25ms/step - loss: 1.1215 - mse: 1.1215\n",
            "Epoch 165/300\n",
            "1/1 [==============================] - 0s 23ms/step - loss: 1.1210 - mse: 1.1210\n",
            "Epoch 166/300\n",
            "1/1 [==============================] - 0s 40ms/step - loss: 1.1205 - mse: 1.1205\n",
            "Epoch 167/300\n",
            "1/1 [==============================] - 0s 33ms/step - loss: 1.1200 - mse: 1.1200\n",
            "Epoch 168/300\n",
            "1/1 [==============================] - 0s 33ms/step - loss: 1.1195 - mse: 1.1195\n",
            "Epoch 169/300\n",
            "1/1 [==============================] - 0s 27ms/step - loss: 1.1190 - mse: 1.1190\n",
            "Epoch 170/300\n",
            "1/1 [==============================] - 0s 12ms/step - loss: 1.1185 - mse: 1.1185\n",
            "Epoch 171/300\n",
            "1/1 [==============================] - 0s 12ms/step - loss: 1.1180 - mse: 1.1180\n",
            "Epoch 172/300\n",
            "1/1 [==============================] - 0s 11ms/step - loss: 1.1176 - mse: 1.1176\n",
            "Epoch 173/300\n",
            "1/1 [==============================] - 0s 12ms/step - loss: 1.1171 - mse: 1.1171\n",
            "Epoch 174/300\n",
            "1/1 [==============================] - 0s 13ms/step - loss: 1.1166 - mse: 1.1166\n",
            "Epoch 175/300\n",
            "1/1 [==============================] - 0s 13ms/step - loss: 1.1162 - mse: 1.1162\n",
            "Epoch 176/300\n",
            "1/1 [==============================] - 0s 15ms/step - loss: 1.1157 - mse: 1.1157\n",
            "Epoch 177/300\n",
            "1/1 [==============================] - 0s 8ms/step - loss: 1.1152 - mse: 1.1152\n",
            "Epoch 178/300\n",
            "1/1 [==============================] - 0s 10ms/step - loss: 1.1148 - mse: 1.1148\n",
            "Epoch 179/300\n",
            "1/1 [==============================] - 0s 11ms/step - loss: 1.1143 - mse: 1.1143\n",
            "Epoch 180/300\n",
            "1/1 [==============================] - 0s 17ms/step - loss: 1.1139 - mse: 1.1139\n",
            "Epoch 181/300\n",
            "1/1 [==============================] - 0s 11ms/step - loss: 1.1134 - mse: 1.1134\n",
            "Epoch 182/300\n",
            "1/1 [==============================] - 0s 10ms/step - loss: 1.1130 - mse: 1.1130\n",
            "Epoch 183/300\n",
            "1/1 [==============================] - 0s 13ms/step - loss: 1.1126 - mse: 1.1126\n",
            "Epoch 184/300\n",
            "1/1 [==============================] - 0s 14ms/step - loss: 1.1121 - mse: 1.1121\n",
            "Epoch 185/300\n",
            "1/1 [==============================] - 0s 14ms/step - loss: 1.1117 - mse: 1.1117\n",
            "Epoch 186/300\n",
            "1/1 [==============================] - 0s 10ms/step - loss: 1.1113 - mse: 1.1113\n",
            "Epoch 187/300\n",
            "1/1 [==============================] - 0s 11ms/step - loss: 1.1109 - mse: 1.1109\n",
            "Epoch 188/300\n",
            "1/1 [==============================] - 0s 10ms/step - loss: 1.1104 - mse: 1.1104\n",
            "Epoch 189/300\n",
            "1/1 [==============================] - 0s 12ms/step - loss: 1.1100 - mse: 1.1100\n",
            "Epoch 190/300\n",
            "1/1 [==============================] - 0s 10ms/step - loss: 1.1096 - mse: 1.1096\n",
            "Epoch 191/300\n",
            "1/1 [==============================] - 0s 13ms/step - loss: 1.1092 - mse: 1.1092\n",
            "Epoch 192/300\n",
            "1/1 [==============================] - 0s 10ms/step - loss: 1.1088 - mse: 1.1088\n",
            "Epoch 193/300\n",
            "1/1 [==============================] - 0s 11ms/step - loss: 1.1084 - mse: 1.1084\n",
            "Epoch 194/300\n",
            "1/1 [==============================] - 0s 12ms/step - loss: 1.1080 - mse: 1.1080\n",
            "Epoch 195/300\n",
            "1/1 [==============================] - 0s 11ms/step - loss: 1.1076 - mse: 1.1076\n",
            "Epoch 196/300\n",
            "1/1 [==============================] - 0s 14ms/step - loss: 1.1072 - mse: 1.1072\n",
            "Epoch 197/300\n",
            "1/1 [==============================] - 0s 9ms/step - loss: 1.1068 - mse: 1.1068\n",
            "Epoch 198/300\n",
            "1/1 [==============================] - 0s 10ms/step - loss: 1.1065 - mse: 1.1065\n",
            "Epoch 199/300\n",
            "1/1 [==============================] - 0s 12ms/step - loss: 1.1061 - mse: 1.1061\n",
            "Epoch 200/300\n",
            "1/1 [==============================] - 0s 17ms/step - loss: 1.1057 - mse: 1.1057\n",
            "Epoch 201/300\n",
            "1/1 [==============================] - 0s 11ms/step - loss: 1.1053 - mse: 1.1053\n",
            "Epoch 202/300\n",
            "1/1 [==============================] - 0s 11ms/step - loss: 1.1049 - mse: 1.1049\n",
            "Epoch 203/300\n",
            "1/1 [==============================] - 0s 10ms/step - loss: 1.1046 - mse: 1.1046\n",
            "Epoch 204/300\n",
            "1/1 [==============================] - 0s 10ms/step - loss: 1.1042 - mse: 1.1042\n",
            "Epoch 205/300\n",
            "1/1 [==============================] - 0s 11ms/step - loss: 1.1038 - mse: 1.1038\n",
            "Epoch 206/300\n",
            "1/1 [==============================] - 0s 17ms/step - loss: 1.1035 - mse: 1.1035\n",
            "Epoch 207/300\n",
            "1/1 [==============================] - 0s 15ms/step - loss: 1.1031 - mse: 1.1031\n",
            "Epoch 208/300\n",
            "1/1 [==============================] - 0s 13ms/step - loss: 1.1028 - mse: 1.1028\n",
            "Epoch 209/300\n",
            "1/1 [==============================] - 0s 10ms/step - loss: 1.1024 - mse: 1.1024\n",
            "Epoch 210/300\n",
            "1/1 [==============================] - 0s 12ms/step - loss: 1.1021 - mse: 1.1021\n",
            "Epoch 211/300\n",
            "1/1 [==============================] - 0s 12ms/step - loss: 1.1017 - mse: 1.1017\n",
            "Epoch 212/300\n",
            "1/1 [==============================] - 0s 11ms/step - loss: 1.1014 - mse: 1.1014\n",
            "Epoch 213/300\n",
            "1/1 [==============================] - 0s 9ms/step - loss: 1.1010 - mse: 1.1010\n",
            "Epoch 214/300\n",
            "1/1 [==============================] - 0s 11ms/step - loss: 1.1007 - mse: 1.1007\n",
            "Epoch 215/300\n",
            "1/1 [==============================] - 0s 10ms/step - loss: 1.1004 - mse: 1.1004\n",
            "Epoch 216/300\n",
            "1/1 [==============================] - 0s 11ms/step - loss: 1.1000 - mse: 1.1000\n",
            "Epoch 217/300\n",
            "1/1 [==============================] - 0s 12ms/step - loss: 1.0997 - mse: 1.0997\n",
            "Epoch 218/300\n",
            "1/1 [==============================] - 0s 11ms/step - loss: 1.0994 - mse: 1.0994\n",
            "Epoch 219/300\n",
            "1/1 [==============================] - 0s 13ms/step - loss: 1.0991 - mse: 1.0991\n",
            "Epoch 220/300\n",
            "1/1 [==============================] - 0s 13ms/step - loss: 1.0987 - mse: 1.0987\n",
            "Epoch 221/300\n",
            "1/1 [==============================] - 0s 10ms/step - loss: 1.0984 - mse: 1.0984\n",
            "Epoch 222/300\n",
            "1/1 [==============================] - 0s 11ms/step - loss: 1.0981 - mse: 1.0981\n",
            "Epoch 223/300\n",
            "1/1 [==============================] - 0s 14ms/step - loss: 1.0978 - mse: 1.0978\n",
            "Epoch 224/300\n",
            "1/1 [==============================] - 0s 11ms/step - loss: 1.0975 - mse: 1.0975\n",
            "Epoch 225/300\n",
            "1/1 [==============================] - 0s 10ms/step - loss: 1.0972 - mse: 1.0972\n",
            "Epoch 226/300\n",
            "1/1 [==============================] - 0s 12ms/step - loss: 1.0969 - mse: 1.0969\n",
            "Epoch 227/300\n",
            "1/1 [==============================] - 0s 11ms/step - loss: 1.0966 - mse: 1.0966\n",
            "Epoch 228/300\n",
            "1/1 [==============================] - 0s 11ms/step - loss: 1.0963 - mse: 1.0963\n",
            "Epoch 229/300\n",
            "1/1 [==============================] - 0s 10ms/step - loss: 1.0960 - mse: 1.0960\n",
            "Epoch 230/300\n",
            "1/1 [==============================] - 0s 11ms/step - loss: 1.0957 - mse: 1.0957\n",
            "Epoch 231/300\n",
            "1/1 [==============================] - 0s 10ms/step - loss: 1.0954 - mse: 1.0954\n",
            "Epoch 232/300\n",
            "1/1 [==============================] - 0s 12ms/step - loss: 1.0951 - mse: 1.0951\n",
            "Epoch 233/300\n",
            "1/1 [==============================] - 0s 11ms/step - loss: 1.0948 - mse: 1.0948\n",
            "Epoch 234/300\n",
            "1/1 [==============================] - 0s 11ms/step - loss: 1.0945 - mse: 1.0945\n",
            "Epoch 235/300\n",
            "1/1 [==============================] - 0s 13ms/step - loss: 1.0942 - mse: 1.0942\n",
            "Epoch 236/300\n",
            "1/1 [==============================] - 0s 12ms/step - loss: 1.0939 - mse: 1.0939\n",
            "Epoch 237/300\n",
            "1/1 [==============================] - 0s 10ms/step - loss: 1.0937 - mse: 1.0937\n",
            "Epoch 238/300\n",
            "1/1 [==============================] - 0s 18ms/step - loss: 1.0934 - mse: 1.0934\n",
            "Epoch 239/300\n",
            "1/1 [==============================] - 0s 13ms/step - loss: 1.0931 - mse: 1.0931\n",
            "Epoch 240/300\n",
            "1/1 [==============================] - 0s 12ms/step - loss: 1.0928 - mse: 1.0928\n",
            "Epoch 241/300\n",
            "1/1 [==============================] - 0s 10ms/step - loss: 1.0926 - mse: 1.0926\n",
            "Epoch 242/300\n",
            "1/1 [==============================] - 0s 11ms/step - loss: 1.0923 - mse: 1.0923\n",
            "Epoch 243/300\n",
            "1/1 [==============================] - 0s 12ms/step - loss: 1.0920 - mse: 1.0920\n",
            "Epoch 244/300\n",
            "1/1 [==============================] - 0s 11ms/step - loss: 1.0918 - mse: 1.0918\n",
            "Epoch 245/300\n",
            "1/1 [==============================] - 0s 12ms/step - loss: 1.0915 - mse: 1.0915\n",
            "Epoch 246/300\n",
            "1/1 [==============================] - 0s 12ms/step - loss: 1.0912 - mse: 1.0912\n",
            "Epoch 247/300\n",
            "1/1 [==============================] - 0s 10ms/step - loss: 1.0910 - mse: 1.0910\n",
            "Epoch 248/300\n",
            "1/1 [==============================] - 0s 10ms/step - loss: 1.0907 - mse: 1.0907\n",
            "Epoch 249/300\n",
            "1/1 [==============================] - 0s 11ms/step - loss: 1.0905 - mse: 1.0905\n",
            "Epoch 250/300\n",
            "1/1 [==============================] - 0s 11ms/step - loss: 1.0902 - mse: 1.0902\n",
            "Epoch 251/300\n",
            "1/1 [==============================] - 0s 11ms/step - loss: 1.0900 - mse: 1.0900\n",
            "Epoch 252/300\n",
            "1/1 [==============================] - 0s 12ms/step - loss: 1.0897 - mse: 1.0897\n",
            "Epoch 253/300\n",
            "1/1 [==============================] - 0s 11ms/step - loss: 1.0895 - mse: 1.0895\n",
            "Epoch 254/300\n",
            "1/1 [==============================] - 0s 14ms/step - loss: 1.0893 - mse: 1.0893\n",
            "Epoch 255/300\n",
            "1/1 [==============================] - 0s 11ms/step - loss: 1.0890 - mse: 1.0890\n",
            "Epoch 256/300\n",
            "1/1 [==============================] - 0s 13ms/step - loss: 1.0888 - mse: 1.0888\n",
            "Epoch 257/300\n",
            "1/1 [==============================] - 0s 10ms/step - loss: 1.0885 - mse: 1.0885\n",
            "Epoch 258/300\n",
            "1/1 [==============================] - 0s 11ms/step - loss: 1.0883 - mse: 1.0883\n",
            "Epoch 259/300\n",
            "1/1 [==============================] - 0s 11ms/step - loss: 1.0881 - mse: 1.0881\n",
            "Epoch 260/300\n",
            "1/1 [==============================] - 0s 10ms/step - loss: 1.0878 - mse: 1.0878\n",
            "Epoch 261/300\n",
            "1/1 [==============================] - 0s 11ms/step - loss: 1.0876 - mse: 1.0876\n",
            "Epoch 262/300\n",
            "1/1 [==============================] - 0s 12ms/step - loss: 1.0874 - mse: 1.0874\n",
            "Epoch 263/300\n",
            "1/1 [==============================] - 0s 11ms/step - loss: 1.0872 - mse: 1.0872\n",
            "Epoch 264/300\n",
            "1/1 [==============================] - 0s 11ms/step - loss: 1.0869 - mse: 1.0869\n",
            "Epoch 265/300\n",
            "1/1 [==============================] - 0s 12ms/step - loss: 1.0867 - mse: 1.0867\n",
            "Epoch 266/300\n",
            "1/1 [==============================] - 0s 10ms/step - loss: 1.0865 - mse: 1.0865\n",
            "Epoch 267/300\n",
            "1/1 [==============================] - 0s 10ms/step - loss: 1.0863 - mse: 1.0863\n",
            "Epoch 268/300\n",
            "1/1 [==============================] - 0s 14ms/step - loss: 1.0861 - mse: 1.0861\n",
            "Epoch 269/300\n",
            "1/1 [==============================] - 0s 20ms/step - loss: 1.0858 - mse: 1.0858\n",
            "Epoch 270/300\n",
            "1/1 [==============================] - 0s 11ms/step - loss: 1.0856 - mse: 1.0856\n",
            "Epoch 271/300\n",
            "1/1 [==============================] - 0s 11ms/step - loss: 1.0854 - mse: 1.0854\n",
            "Epoch 272/300\n",
            "1/1 [==============================] - 0s 10ms/step - loss: 1.0852 - mse: 1.0852\n",
            "Epoch 273/300\n",
            "1/1 [==============================] - 0s 13ms/step - loss: 1.0850 - mse: 1.0850\n",
            "Epoch 274/300\n",
            "1/1 [==============================] - 0s 11ms/step - loss: 1.0848 - mse: 1.0848\n",
            "Epoch 275/300\n",
            "1/1 [==============================] - 0s 12ms/step - loss: 1.0846 - mse: 1.0846\n",
            "Epoch 276/300\n",
            "1/1 [==============================] - 0s 12ms/step - loss: 1.0844 - mse: 1.0844\n",
            "Epoch 277/300\n",
            "1/1 [==============================] - 0s 14ms/step - loss: 1.0842 - mse: 1.0842\n",
            "Epoch 278/300\n",
            "1/1 [==============================] - 0s 13ms/step - loss: 1.0840 - mse: 1.0840\n",
            "Epoch 279/300\n",
            "1/1 [==============================] - 0s 11ms/step - loss: 1.0838 - mse: 1.0838\n",
            "Epoch 280/300\n",
            "1/1 [==============================] - 0s 12ms/step - loss: 1.0836 - mse: 1.0836\n",
            "Epoch 281/300\n",
            "1/1 [==============================] - 0s 13ms/step - loss: 1.0834 - mse: 1.0834\n",
            "Epoch 282/300\n",
            "1/1 [==============================] - 0s 10ms/step - loss: 1.0832 - mse: 1.0832\n",
            "Epoch 283/300\n",
            "1/1 [==============================] - 0s 12ms/step - loss: 1.0830 - mse: 1.0830\n",
            "Epoch 284/300\n",
            "1/1 [==============================] - 0s 11ms/step - loss: 1.0828 - mse: 1.0828\n",
            "Epoch 285/300\n",
            "1/1 [==============================] - 0s 16ms/step - loss: 1.0826 - mse: 1.0826\n",
            "Epoch 286/300\n",
            "1/1 [==============================] - 0s 12ms/step - loss: 1.0824 - mse: 1.0824\n",
            "Epoch 287/300\n",
            "1/1 [==============================] - 0s 12ms/step - loss: 1.0823 - mse: 1.0823\n",
            "Epoch 288/300\n",
            "1/1 [==============================] - 0s 15ms/step - loss: 1.0821 - mse: 1.0821\n",
            "Epoch 289/300\n",
            "1/1 [==============================] - 0s 13ms/step - loss: 1.0819 - mse: 1.0819\n",
            "Epoch 290/300\n",
            "1/1 [==============================] - 0s 11ms/step - loss: 1.0817 - mse: 1.0817\n",
            "Epoch 291/300\n",
            "1/1 [==============================] - 0s 13ms/step - loss: 1.0815 - mse: 1.0815\n",
            "Epoch 292/300\n",
            "1/1 [==============================] - 0s 14ms/step - loss: 1.0814 - mse: 1.0814\n",
            "Epoch 293/300\n",
            "1/1 [==============================] - 0s 16ms/step - loss: 1.0812 - mse: 1.0812\n",
            "Epoch 294/300\n",
            "1/1 [==============================] - 0s 10ms/step - loss: 1.0810 - mse: 1.0810\n",
            "Epoch 295/300\n",
            "1/1 [==============================] - 0s 11ms/step - loss: 1.0808 - mse: 1.0808\n",
            "Epoch 296/300\n",
            "1/1 [==============================] - 0s 12ms/step - loss: 1.0807 - mse: 1.0807\n",
            "Epoch 297/300\n",
            "1/1 [==============================] - 0s 10ms/step - loss: 1.0805 - mse: 1.0805\n",
            "Epoch 298/300\n",
            "1/1 [==============================] - 0s 10ms/step - loss: 1.0803 - mse: 1.0803\n",
            "Epoch 299/300\n",
            "1/1 [==============================] - 0s 15ms/step - loss: 1.0802 - mse: 1.0802\n",
            "Epoch 300/300\n",
            "1/1 [==============================] - 0s 11ms/step - loss: 1.0800 - mse: 1.0800\n"
          ]
        },
        {
          "output_type": "execute_result",
          "data": {
            "text/plain": [
              "<keras.callbacks.History at 0x7ff7c8f1ae50>"
            ]
          },
          "metadata": {},
          "execution_count": 27
        }
      ]
    },
    {
      "cell_type": "code",
      "source": [
        "from tensorflow.keras.models import Model\n",
        "\n",
        "inputs = Input(shape=(1,))\n",
        "output = Dense(1, activation='linear')(inputs)\n",
        "linear_model = Model(inputs, output)\n",
        "sgd = optimizers.SGD(lr=0.01)\n",
        "linear_model.compile(optimizer=sgd, loss='mse', metrics=['mse'])\n",
        "linear_model.fit(X, y, epochs=300)"
      ],
      "metadata": {
        "colab": {
          "base_uri": "https://localhost:8080/"
        },
        "id": "_vfML9sYi2rT",
        "outputId": "f98d6074-f879-4e72-b7eb-2af7192b77dd"
      },
      "execution_count": null,
      "outputs": [
        {
          "output_type": "stream",
          "name": "stdout",
          "text": [
            "Epoch 1/300\n"
          ]
        },
        {
          "output_type": "stream",
          "name": "stderr",
          "text": [
            "/usr/local/lib/python3.7/dist-packages/keras/optimizer_v2/gradient_descent.py:102: UserWarning: The `lr` argument is deprecated, use `learning_rate` instead.\n",
            "  super(SGD, self).__init__(name, **kwargs)\n"
          ]
        },
        {
          "output_type": "stream",
          "name": "stdout",
          "text": [
            "1/1 [==============================] - 0s 307ms/step - loss: 4032.2461 - mse: 4032.2461\n",
            "Epoch 2/300\n",
            "1/1 [==============================] - 0s 10ms/step - loss: 497.2300 - mse: 497.2300\n",
            "Epoch 3/300\n",
            "1/1 [==============================] - 0s 14ms/step - loss: 62.2714 - mse: 62.2714\n",
            "Epoch 4/300\n",
            "1/1 [==============================] - 0s 11ms/step - loss: 8.7517 - mse: 8.7517\n",
            "Epoch 5/300\n",
            "1/1 [==============================] - 0s 11ms/step - loss: 2.1652 - mse: 2.1652\n",
            "Epoch 6/300\n",
            "1/1 [==============================] - 0s 13ms/step - loss: 1.3534 - mse: 1.3534\n",
            "Epoch 7/300\n",
            "1/1 [==============================] - 0s 13ms/step - loss: 1.2523 - mse: 1.2523\n",
            "Epoch 8/300\n",
            "1/1 [==============================] - 0s 15ms/step - loss: 1.2385 - mse: 1.2385\n",
            "Epoch 9/300\n",
            "1/1 [==============================] - 0s 12ms/step - loss: 1.2356 - mse: 1.2356\n",
            "Epoch 10/300\n",
            "1/1 [==============================] - 0s 10ms/step - loss: 1.2340 - mse: 1.2340\n",
            "Epoch 11/300\n",
            "1/1 [==============================] - 0s 14ms/step - loss: 1.2325 - mse: 1.2325\n",
            "Epoch 12/300\n",
            "1/1 [==============================] - 0s 14ms/step - loss: 1.2311 - mse: 1.2311\n",
            "Epoch 13/300\n",
            "1/1 [==============================] - 0s 14ms/step - loss: 1.2297 - mse: 1.2297\n",
            "Epoch 14/300\n",
            "1/1 [==============================] - 0s 24ms/step - loss: 1.2283 - mse: 1.2283\n",
            "Epoch 15/300\n",
            "1/1 [==============================] - 0s 12ms/step - loss: 1.2269 - mse: 1.2269\n",
            "Epoch 16/300\n",
            "1/1 [==============================] - 0s 10ms/step - loss: 1.2255 - mse: 1.2255\n",
            "Epoch 17/300\n",
            "1/1 [==============================] - 0s 32ms/step - loss: 1.2242 - mse: 1.2242\n",
            "Epoch 18/300\n",
            "1/1 [==============================] - 0s 34ms/step - loss: 1.2228 - mse: 1.2228\n",
            "Epoch 19/300\n",
            "1/1 [==============================] - 0s 23ms/step - loss: 1.2215 - mse: 1.2215\n",
            "Epoch 20/300\n",
            "1/1 [==============================] - 0s 22ms/step - loss: 1.2202 - mse: 1.2202\n",
            "Epoch 21/300\n",
            "1/1 [==============================] - 0s 25ms/step - loss: 1.2189 - mse: 1.2189\n",
            "Epoch 22/300\n",
            "1/1 [==============================] - 0s 18ms/step - loss: 1.2176 - mse: 1.2176\n",
            "Epoch 23/300\n",
            "1/1 [==============================] - 0s 13ms/step - loss: 1.2163 - mse: 1.2163\n",
            "Epoch 24/300\n",
            "1/1 [==============================] - 0s 11ms/step - loss: 1.2150 - mse: 1.2150\n",
            "Epoch 25/300\n",
            "1/1 [==============================] - 0s 14ms/step - loss: 1.2137 - mse: 1.2137\n",
            "Epoch 26/300\n",
            "1/1 [==============================] - 0s 13ms/step - loss: 1.2124 - mse: 1.2124\n",
            "Epoch 27/300\n",
            "1/1 [==============================] - 0s 10ms/step - loss: 1.2112 - mse: 1.2112\n",
            "Epoch 28/300\n",
            "1/1 [==============================] - 0s 11ms/step - loss: 1.2100 - mse: 1.2100\n",
            "Epoch 29/300\n",
            "1/1 [==============================] - 0s 15ms/step - loss: 1.2087 - mse: 1.2087\n",
            "Epoch 30/300\n",
            "1/1 [==============================] - 0s 12ms/step - loss: 1.2075 - mse: 1.2075\n",
            "Epoch 31/300\n",
            "1/1 [==============================] - 0s 14ms/step - loss: 1.2063 - mse: 1.2063\n",
            "Epoch 32/300\n",
            "1/1 [==============================] - 0s 10ms/step - loss: 1.2051 - mse: 1.2051\n",
            "Epoch 33/300\n",
            "1/1 [==============================] - 0s 13ms/step - loss: 1.2039 - mse: 1.2039\n",
            "Epoch 34/300\n",
            "1/1 [==============================] - 0s 9ms/step - loss: 1.2027 - mse: 1.2027\n",
            "Epoch 35/300\n",
            "1/1 [==============================] - 0s 10ms/step - loss: 1.2016 - mse: 1.2016\n",
            "Epoch 36/300\n",
            "1/1 [==============================] - 0s 13ms/step - loss: 1.2004 - mse: 1.2004\n",
            "Epoch 37/300\n",
            "1/1 [==============================] - 0s 11ms/step - loss: 1.1992 - mse: 1.1992\n",
            "Epoch 38/300\n",
            "1/1 [==============================] - 0s 15ms/step - loss: 1.1981 - mse: 1.1981\n",
            "Epoch 39/300\n",
            "1/1 [==============================] - 0s 12ms/step - loss: 1.1970 - mse: 1.1970\n",
            "Epoch 40/300\n",
            "1/1 [==============================] - 0s 17ms/step - loss: 1.1958 - mse: 1.1958\n",
            "Epoch 41/300\n",
            "1/1 [==============================] - 0s 10ms/step - loss: 1.1947 - mse: 1.1947\n",
            "Epoch 42/300\n",
            "1/1 [==============================] - 0s 8ms/step - loss: 1.1936 - mse: 1.1936\n",
            "Epoch 43/300\n",
            "1/1 [==============================] - 0s 11ms/step - loss: 1.1925 - mse: 1.1925\n",
            "Epoch 44/300\n",
            "1/1 [==============================] - 0s 12ms/step - loss: 1.1914 - mse: 1.1914\n",
            "Epoch 45/300\n",
            "1/1 [==============================] - 0s 11ms/step - loss: 1.1904 - mse: 1.1904\n",
            "Epoch 46/300\n",
            "1/1 [==============================] - 0s 16ms/step - loss: 1.1893 - mse: 1.1893\n",
            "Epoch 47/300\n",
            "1/1 [==============================] - 0s 17ms/step - loss: 1.1882 - mse: 1.1882\n",
            "Epoch 48/300\n",
            "1/1 [==============================] - 0s 16ms/step - loss: 1.1872 - mse: 1.1872\n",
            "Epoch 49/300\n",
            "1/1 [==============================] - 0s 9ms/step - loss: 1.1861 - mse: 1.1861\n",
            "Epoch 50/300\n",
            "1/1 [==============================] - 0s 11ms/step - loss: 1.1851 - mse: 1.1851\n",
            "Epoch 51/300\n",
            "1/1 [==============================] - 0s 11ms/step - loss: 1.1841 - mse: 1.1841\n",
            "Epoch 52/300\n",
            "1/1 [==============================] - 0s 11ms/step - loss: 1.1831 - mse: 1.1831\n",
            "Epoch 53/300\n",
            "1/1 [==============================] - 0s 12ms/step - loss: 1.1820 - mse: 1.1820\n",
            "Epoch 54/300\n",
            "1/1 [==============================] - 0s 7ms/step - loss: 1.1810 - mse: 1.1810\n",
            "Epoch 55/300\n",
            "1/1 [==============================] - 0s 19ms/step - loss: 1.1800 - mse: 1.1800\n",
            "Epoch 56/300\n",
            "1/1 [==============================] - 0s 11ms/step - loss: 1.1791 - mse: 1.1791\n",
            "Epoch 57/300\n",
            "1/1 [==============================] - 0s 12ms/step - loss: 1.1781 - mse: 1.1781\n",
            "Epoch 58/300\n",
            "1/1 [==============================] - 0s 10ms/step - loss: 1.1771 - mse: 1.1771\n",
            "Epoch 59/300\n",
            "1/1 [==============================] - 0s 11ms/step - loss: 1.1762 - mse: 1.1762\n",
            "Epoch 60/300\n",
            "1/1 [==============================] - 0s 24ms/step - loss: 1.1752 - mse: 1.1752\n",
            "Epoch 61/300\n",
            "1/1 [==============================] - 0s 16ms/step - loss: 1.1743 - mse: 1.1743\n",
            "Epoch 62/300\n",
            "1/1 [==============================] - 0s 11ms/step - loss: 1.1733 - mse: 1.1733\n",
            "Epoch 63/300\n",
            "1/1 [==============================] - 0s 14ms/step - loss: 1.1724 - mse: 1.1724\n",
            "Epoch 64/300\n",
            "1/1 [==============================] - 0s 13ms/step - loss: 1.1715 - mse: 1.1715\n",
            "Epoch 65/300\n",
            "1/1 [==============================] - 0s 12ms/step - loss: 1.1706 - mse: 1.1706\n",
            "Epoch 66/300\n",
            "1/1 [==============================] - 0s 13ms/step - loss: 1.1696 - mse: 1.1696\n",
            "Epoch 67/300\n",
            "1/1 [==============================] - 0s 9ms/step - loss: 1.1687 - mse: 1.1687\n",
            "Epoch 68/300\n",
            "1/1 [==============================] - 0s 13ms/step - loss: 1.1679 - mse: 1.1679\n",
            "Epoch 69/300\n",
            "1/1 [==============================] - 0s 12ms/step - loss: 1.1670 - mse: 1.1670\n",
            "Epoch 70/300\n",
            "1/1 [==============================] - 0s 16ms/step - loss: 1.1661 - mse: 1.1661\n",
            "Epoch 71/300\n",
            "1/1 [==============================] - 0s 14ms/step - loss: 1.1652 - mse: 1.1652\n",
            "Epoch 72/300\n",
            "1/1 [==============================] - 0s 12ms/step - loss: 1.1644 - mse: 1.1644\n",
            "Epoch 73/300\n",
            "1/1 [==============================] - 0s 12ms/step - loss: 1.1635 - mse: 1.1635\n",
            "Epoch 74/300\n",
            "1/1 [==============================] - 0s 13ms/step - loss: 1.1626 - mse: 1.1626\n",
            "Epoch 75/300\n",
            "1/1 [==============================] - 0s 13ms/step - loss: 1.1618 - mse: 1.1618\n",
            "Epoch 76/300\n",
            "1/1 [==============================] - 0s 11ms/step - loss: 1.1610 - mse: 1.1610\n",
            "Epoch 77/300\n",
            "1/1 [==============================] - 0s 10ms/step - loss: 1.1601 - mse: 1.1601\n",
            "Epoch 78/300\n",
            "1/1 [==============================] - 0s 10ms/step - loss: 1.1593 - mse: 1.1593\n",
            "Epoch 79/300\n",
            "1/1 [==============================] - 0s 14ms/step - loss: 1.1585 - mse: 1.1585\n",
            "Epoch 80/300\n",
            "1/1 [==============================] - 0s 11ms/step - loss: 1.1577 - mse: 1.1577\n",
            "Epoch 81/300\n",
            "1/1 [==============================] - 0s 13ms/step - loss: 1.1569 - mse: 1.1569\n",
            "Epoch 82/300\n",
            "1/1 [==============================] - 0s 11ms/step - loss: 1.1561 - mse: 1.1561\n",
            "Epoch 83/300\n",
            "1/1 [==============================] - 0s 16ms/step - loss: 1.1553 - mse: 1.1553\n",
            "Epoch 84/300\n",
            "1/1 [==============================] - 0s 13ms/step - loss: 1.1545 - mse: 1.1545\n",
            "Epoch 85/300\n",
            "1/1 [==============================] - 0s 11ms/step - loss: 1.1538 - mse: 1.1538\n",
            "Epoch 86/300\n",
            "1/1 [==============================] - 0s 10ms/step - loss: 1.1530 - mse: 1.1530\n",
            "Epoch 87/300\n",
            "1/1 [==============================] - 0s 11ms/step - loss: 1.1522 - mse: 1.1522\n",
            "Epoch 88/300\n",
            "1/1 [==============================] - 0s 14ms/step - loss: 1.1515 - mse: 1.1515\n",
            "Epoch 89/300\n",
            "1/1 [==============================] - 0s 13ms/step - loss: 1.1507 - mse: 1.1507\n",
            "Epoch 90/300\n",
            "1/1 [==============================] - 0s 11ms/step - loss: 1.1500 - mse: 1.1500\n",
            "Epoch 91/300\n",
            "1/1 [==============================] - 0s 12ms/step - loss: 1.1492 - mse: 1.1492\n",
            "Epoch 92/300\n",
            "1/1 [==============================] - 0s 12ms/step - loss: 1.1485 - mse: 1.1485\n",
            "Epoch 93/300\n",
            "1/1 [==============================] - 0s 13ms/step - loss: 1.1478 - mse: 1.1478\n",
            "Epoch 94/300\n",
            "1/1 [==============================] - 0s 16ms/step - loss: 1.1470 - mse: 1.1470\n",
            "Epoch 95/300\n",
            "1/1 [==============================] - 0s 16ms/step - loss: 1.1463 - mse: 1.1463\n",
            "Epoch 96/300\n",
            "1/1 [==============================] - 0s 12ms/step - loss: 1.1456 - mse: 1.1456\n",
            "Epoch 97/300\n",
            "1/1 [==============================] - 0s 13ms/step - loss: 1.1449 - mse: 1.1449\n",
            "Epoch 98/300\n",
            "1/1 [==============================] - 0s 12ms/step - loss: 1.1442 - mse: 1.1442\n",
            "Epoch 99/300\n",
            "1/1 [==============================] - 0s 11ms/step - loss: 1.1435 - mse: 1.1435\n",
            "Epoch 100/300\n",
            "1/1 [==============================] - 0s 11ms/step - loss: 1.1428 - mse: 1.1428\n",
            "Epoch 101/300\n",
            "1/1 [==============================] - 0s 10ms/step - loss: 1.1422 - mse: 1.1422\n",
            "Epoch 102/300\n",
            "1/1 [==============================] - 0s 13ms/step - loss: 1.1415 - mse: 1.1415\n",
            "Epoch 103/300\n",
            "1/1 [==============================] - 0s 14ms/step - loss: 1.1408 - mse: 1.1408\n",
            "Epoch 104/300\n",
            "1/1 [==============================] - 0s 13ms/step - loss: 1.1402 - mse: 1.1402\n",
            "Epoch 105/300\n",
            "1/1 [==============================] - 0s 11ms/step - loss: 1.1395 - mse: 1.1395\n",
            "Epoch 106/300\n",
            "1/1 [==============================] - 0s 10ms/step - loss: 1.1389 - mse: 1.1389\n",
            "Epoch 107/300\n",
            "1/1 [==============================] - 0s 13ms/step - loss: 1.1382 - mse: 1.1382\n",
            "Epoch 108/300\n",
            "1/1 [==============================] - 0s 12ms/step - loss: 1.1376 - mse: 1.1376\n",
            "Epoch 109/300\n",
            "1/1 [==============================] - 0s 10ms/step - loss: 1.1369 - mse: 1.1369\n",
            "Epoch 110/300\n",
            "1/1 [==============================] - 0s 12ms/step - loss: 1.1363 - mse: 1.1363\n",
            "Epoch 111/300\n",
            "1/1 [==============================] - 0s 11ms/step - loss: 1.1357 - mse: 1.1357\n",
            "Epoch 112/300\n",
            "1/1 [==============================] - 0s 16ms/step - loss: 1.1350 - mse: 1.1350\n",
            "Epoch 113/300\n",
            "1/1 [==============================] - 0s 11ms/step - loss: 1.1344 - mse: 1.1344\n",
            "Epoch 114/300\n",
            "1/1 [==============================] - 0s 14ms/step - loss: 1.1338 - mse: 1.1338\n",
            "Epoch 115/300\n",
            "1/1 [==============================] - 0s 11ms/step - loss: 1.1332 - mse: 1.1332\n",
            "Epoch 116/300\n",
            "1/1 [==============================] - 0s 14ms/step - loss: 1.1326 - mse: 1.1326\n",
            "Epoch 117/300\n",
            "1/1 [==============================] - 0s 11ms/step - loss: 1.1320 - mse: 1.1320\n",
            "Epoch 118/300\n",
            "1/1 [==============================] - 0s 11ms/step - loss: 1.1314 - mse: 1.1314\n",
            "Epoch 119/300\n",
            "1/1 [==============================] - 0s 14ms/step - loss: 1.1308 - mse: 1.1308\n",
            "Epoch 120/300\n",
            "1/1 [==============================] - 0s 13ms/step - loss: 1.1302 - mse: 1.1302\n",
            "Epoch 121/300\n",
            "1/1 [==============================] - 0s 12ms/step - loss: 1.1297 - mse: 1.1297\n",
            "Epoch 122/300\n",
            "1/1 [==============================] - 0s 13ms/step - loss: 1.1291 - mse: 1.1291\n",
            "Epoch 123/300\n",
            "1/1 [==============================] - 0s 11ms/step - loss: 1.1285 - mse: 1.1285\n",
            "Epoch 124/300\n",
            "1/1 [==============================] - 0s 15ms/step - loss: 1.1280 - mse: 1.1280\n",
            "Epoch 125/300\n",
            "1/1 [==============================] - 0s 16ms/step - loss: 1.1274 - mse: 1.1274\n",
            "Epoch 126/300\n",
            "1/1 [==============================] - 0s 12ms/step - loss: 1.1269 - mse: 1.1269\n",
            "Epoch 127/300\n",
            "1/1 [==============================] - 0s 11ms/step - loss: 1.1263 - mse: 1.1263\n",
            "Epoch 128/300\n",
            "1/1 [==============================] - 0s 12ms/step - loss: 1.1258 - mse: 1.1258\n",
            "Epoch 129/300\n",
            "1/1 [==============================] - 0s 14ms/step - loss: 1.1252 - mse: 1.1252\n",
            "Epoch 130/300\n",
            "1/1 [==============================] - 0s 16ms/step - loss: 1.1247 - mse: 1.1247\n",
            "Epoch 131/300\n",
            "1/1 [==============================] - 0s 16ms/step - loss: 1.1242 - mse: 1.1242\n",
            "Epoch 132/300\n",
            "1/1 [==============================] - 0s 11ms/step - loss: 1.1236 - mse: 1.1236\n",
            "Epoch 133/300\n",
            "1/1 [==============================] - 0s 16ms/step - loss: 1.1231 - mse: 1.1231\n",
            "Epoch 134/300\n",
            "1/1 [==============================] - 0s 11ms/step - loss: 1.1226 - mse: 1.1226\n",
            "Epoch 135/300\n",
            "1/1 [==============================] - 0s 20ms/step - loss: 1.1221 - mse: 1.1221\n",
            "Epoch 136/300\n",
            "1/1 [==============================] - 0s 10ms/step - loss: 1.1216 - mse: 1.1216\n",
            "Epoch 137/300\n",
            "1/1 [==============================] - 0s 14ms/step - loss: 1.1211 - mse: 1.1211\n",
            "Epoch 138/300\n",
            "1/1 [==============================] - 0s 15ms/step - loss: 1.1206 - mse: 1.1206\n",
            "Epoch 139/300\n",
            "1/1 [==============================] - 0s 12ms/step - loss: 1.1201 - mse: 1.1201\n",
            "Epoch 140/300\n",
            "1/1 [==============================] - 0s 11ms/step - loss: 1.1196 - mse: 1.1196\n",
            "Epoch 141/300\n",
            "1/1 [==============================] - 0s 11ms/step - loss: 1.1191 - mse: 1.1191\n",
            "Epoch 142/300\n",
            "1/1 [==============================] - 0s 14ms/step - loss: 1.1186 - mse: 1.1186\n",
            "Epoch 143/300\n",
            "1/1 [==============================] - 0s 19ms/step - loss: 1.1181 - mse: 1.1181\n",
            "Epoch 144/300\n",
            "1/1 [==============================] - 0s 11ms/step - loss: 1.1176 - mse: 1.1176\n",
            "Epoch 145/300\n",
            "1/1 [==============================] - 0s 16ms/step - loss: 1.1172 - mse: 1.1172\n",
            "Epoch 146/300\n",
            "1/1 [==============================] - 0s 15ms/step - loss: 1.1167 - mse: 1.1167\n",
            "Epoch 147/300\n",
            "1/1 [==============================] - 0s 11ms/step - loss: 1.1162 - mse: 1.1162\n",
            "Epoch 148/300\n",
            "1/1 [==============================] - 0s 13ms/step - loss: 1.1158 - mse: 1.1158\n",
            "Epoch 149/300\n",
            "1/1 [==============================] - 0s 13ms/step - loss: 1.1153 - mse: 1.1153\n",
            "Epoch 150/300\n",
            "1/1 [==============================] - 0s 13ms/step - loss: 1.1149 - mse: 1.1149\n",
            "Epoch 151/300\n",
            "1/1 [==============================] - 0s 13ms/step - loss: 1.1144 - mse: 1.1144\n",
            "Epoch 152/300\n",
            "1/1 [==============================] - 0s 13ms/step - loss: 1.1140 - mse: 1.1140\n",
            "Epoch 153/300\n",
            "1/1 [==============================] - 0s 10ms/step - loss: 1.1135 - mse: 1.1135\n",
            "Epoch 154/300\n",
            "1/1 [==============================] - 0s 14ms/step - loss: 1.1131 - mse: 1.1131\n",
            "Epoch 155/300\n",
            "1/1 [==============================] - 0s 9ms/step - loss: 1.1126 - mse: 1.1126\n",
            "Epoch 156/300\n",
            "1/1 [==============================] - 0s 15ms/step - loss: 1.1122 - mse: 1.1122\n",
            "Epoch 157/300\n",
            "1/1 [==============================] - 0s 11ms/step - loss: 1.1118 - mse: 1.1118\n",
            "Epoch 158/300\n",
            "1/1 [==============================] - 0s 9ms/step - loss: 1.1114 - mse: 1.1114\n",
            "Epoch 159/300\n",
            "1/1 [==============================] - 0s 10ms/step - loss: 1.1109 - mse: 1.1109\n",
            "Epoch 160/300\n",
            "1/1 [==============================] - 0s 11ms/step - loss: 1.1105 - mse: 1.1105\n",
            "Epoch 161/300\n",
            "1/1 [==============================] - 0s 13ms/step - loss: 1.1101 - mse: 1.1101\n",
            "Epoch 162/300\n",
            "1/1 [==============================] - 0s 15ms/step - loss: 1.1097 - mse: 1.1097\n",
            "Epoch 163/300\n",
            "1/1 [==============================] - 0s 11ms/step - loss: 1.1093 - mse: 1.1093\n",
            "Epoch 164/300\n",
            "1/1 [==============================] - 0s 12ms/step - loss: 1.1089 - mse: 1.1089\n",
            "Epoch 165/300\n",
            "1/1 [==============================] - 0s 11ms/step - loss: 1.1085 - mse: 1.1085\n",
            "Epoch 166/300\n",
            "1/1 [==============================] - 0s 11ms/step - loss: 1.1081 - mse: 1.1081\n",
            "Epoch 167/300\n",
            "1/1 [==============================] - 0s 10ms/step - loss: 1.1077 - mse: 1.1077\n",
            "Epoch 168/300\n",
            "1/1 [==============================] - 0s 11ms/step - loss: 1.1073 - mse: 1.1073\n",
            "Epoch 169/300\n",
            "1/1 [==============================] - 0s 10ms/step - loss: 1.1069 - mse: 1.1069\n",
            "Epoch 170/300\n",
            "1/1 [==============================] - 0s 13ms/step - loss: 1.1065 - mse: 1.1065\n",
            "Epoch 171/300\n",
            "1/1 [==============================] - 0s 10ms/step - loss: 1.1061 - mse: 1.1061\n",
            "Epoch 172/300\n",
            "1/1 [==============================] - 0s 12ms/step - loss: 1.1057 - mse: 1.1057\n",
            "Epoch 173/300\n",
            "1/1 [==============================] - 0s 12ms/step - loss: 1.1054 - mse: 1.1054\n",
            "Epoch 174/300\n",
            "1/1 [==============================] - 0s 17ms/step - loss: 1.1050 - mse: 1.1050\n",
            "Epoch 175/300\n",
            "1/1 [==============================] - 0s 12ms/step - loss: 1.1046 - mse: 1.1046\n",
            "Epoch 176/300\n",
            "1/1 [==============================] - 0s 13ms/step - loss: 1.1043 - mse: 1.1043\n",
            "Epoch 177/300\n",
            "1/1 [==============================] - 0s 12ms/step - loss: 1.1039 - mse: 1.1039\n",
            "Epoch 178/300\n",
            "1/1 [==============================] - 0s 11ms/step - loss: 1.1035 - mse: 1.1035\n",
            "Epoch 179/300\n",
            "1/1 [==============================] - 0s 12ms/step - loss: 1.1032 - mse: 1.1032\n",
            "Epoch 180/300\n",
            "1/1 [==============================] - 0s 12ms/step - loss: 1.1028 - mse: 1.1028\n",
            "Epoch 181/300\n",
            "1/1 [==============================] - 0s 12ms/step - loss: 1.1025 - mse: 1.1025\n",
            "Epoch 182/300\n",
            "1/1 [==============================] - 0s 11ms/step - loss: 1.1021 - mse: 1.1021\n",
            "Epoch 183/300\n",
            "1/1 [==============================] - 0s 11ms/step - loss: 1.1018 - mse: 1.1018\n",
            "Epoch 184/300\n",
            "1/1 [==============================] - 0s 13ms/step - loss: 1.1014 - mse: 1.1014\n",
            "Epoch 185/300\n",
            "1/1 [==============================] - 0s 12ms/step - loss: 1.1011 - mse: 1.1011\n",
            "Epoch 186/300\n",
            "1/1 [==============================] - 0s 9ms/step - loss: 1.1008 - mse: 1.1008\n",
            "Epoch 187/300\n",
            "1/1 [==============================] - 0s 12ms/step - loss: 1.1004 - mse: 1.1004\n",
            "Epoch 188/300\n",
            "1/1 [==============================] - 0s 17ms/step - loss: 1.1001 - mse: 1.1001\n",
            "Epoch 189/300\n",
            "1/1 [==============================] - 0s 12ms/step - loss: 1.0998 - mse: 1.0998\n",
            "Epoch 190/300\n",
            "1/1 [==============================] - 0s 10ms/step - loss: 1.0994 - mse: 1.0994\n",
            "Epoch 191/300\n",
            "1/1 [==============================] - 0s 13ms/step - loss: 1.0991 - mse: 1.0991\n",
            "Epoch 192/300\n",
            "1/1 [==============================] - 0s 10ms/step - loss: 1.0988 - mse: 1.0988\n",
            "Epoch 193/300\n",
            "1/1 [==============================] - 0s 11ms/step - loss: 1.0985 - mse: 1.0985\n",
            "Epoch 194/300\n",
            "1/1 [==============================] - 0s 12ms/step - loss: 1.0981 - mse: 1.0981\n",
            "Epoch 195/300\n",
            "1/1 [==============================] - 0s 10ms/step - loss: 1.0978 - mse: 1.0978\n",
            "Epoch 196/300\n",
            "1/1 [==============================] - 0s 15ms/step - loss: 1.0975 - mse: 1.0975\n",
            "Epoch 197/300\n",
            "1/1 [==============================] - 0s 12ms/step - loss: 1.0972 - mse: 1.0972\n",
            "Epoch 198/300\n",
            "1/1 [==============================] - 0s 12ms/step - loss: 1.0969 - mse: 1.0969\n",
            "Epoch 199/300\n",
            "1/1 [==============================] - 0s 12ms/step - loss: 1.0966 - mse: 1.0966\n",
            "Epoch 200/300\n",
            "1/1 [==============================] - 0s 11ms/step - loss: 1.0963 - mse: 1.0963\n",
            "Epoch 201/300\n",
            "1/1 [==============================] - 0s 12ms/step - loss: 1.0960 - mse: 1.0960\n",
            "Epoch 202/300\n",
            "1/1 [==============================] - 0s 14ms/step - loss: 1.0957 - mse: 1.0957\n",
            "Epoch 203/300\n",
            "1/1 [==============================] - 0s 12ms/step - loss: 1.0954 - mse: 1.0954\n",
            "Epoch 204/300\n",
            "1/1 [==============================] - 0s 17ms/step - loss: 1.0951 - mse: 1.0951\n",
            "Epoch 205/300\n",
            "1/1 [==============================] - 0s 9ms/step - loss: 1.0948 - mse: 1.0948\n",
            "Epoch 206/300\n",
            "1/1 [==============================] - 0s 11ms/step - loss: 1.0945 - mse: 1.0945\n",
            "Epoch 207/300\n",
            "1/1 [==============================] - 0s 10ms/step - loss: 1.0943 - mse: 1.0943\n",
            "Epoch 208/300\n",
            "1/1 [==============================] - 0s 11ms/step - loss: 1.0940 - mse: 1.0940\n",
            "Epoch 209/300\n",
            "1/1 [==============================] - 0s 12ms/step - loss: 1.0937 - mse: 1.0937\n",
            "Epoch 210/300\n",
            "1/1 [==============================] - 0s 12ms/step - loss: 1.0934 - mse: 1.0934\n",
            "Epoch 211/300\n",
            "1/1 [==============================] - 0s 10ms/step - loss: 1.0931 - mse: 1.0931\n",
            "Epoch 212/300\n",
            "1/1 [==============================] - 0s 10ms/step - loss: 1.0929 - mse: 1.0929\n",
            "Epoch 213/300\n",
            "1/1 [==============================] - 0s 11ms/step - loss: 1.0926 - mse: 1.0926\n",
            "Epoch 214/300\n",
            "1/1 [==============================] - 0s 13ms/step - loss: 1.0923 - mse: 1.0923\n",
            "Epoch 215/300\n",
            "1/1 [==============================] - 0s 11ms/step - loss: 1.0921 - mse: 1.0921\n",
            "Epoch 216/300\n",
            "1/1 [==============================] - 0s 11ms/step - loss: 1.0918 - mse: 1.0918\n",
            "Epoch 217/300\n",
            "1/1 [==============================] - 0s 11ms/step - loss: 1.0915 - mse: 1.0915\n",
            "Epoch 218/300\n",
            "1/1 [==============================] - 0s 12ms/step - loss: 1.0913 - mse: 1.0913\n",
            "Epoch 219/300\n",
            "1/1 [==============================] - 0s 17ms/step - loss: 1.0910 - mse: 1.0910\n",
            "Epoch 220/300\n",
            "1/1 [==============================] - 0s 12ms/step - loss: 1.0908 - mse: 1.0908\n",
            "Epoch 221/300\n",
            "1/1 [==============================] - 0s 9ms/step - loss: 1.0905 - mse: 1.0905\n",
            "Epoch 222/300\n",
            "1/1 [==============================] - 0s 19ms/step - loss: 1.0903 - mse: 1.0903\n",
            "Epoch 223/300\n",
            "1/1 [==============================] - 0s 9ms/step - loss: 1.0900 - mse: 1.0900\n",
            "Epoch 224/300\n",
            "1/1 [==============================] - 0s 11ms/step - loss: 1.0898 - mse: 1.0898\n",
            "Epoch 225/300\n",
            "1/1 [==============================] - 0s 13ms/step - loss: 1.0895 - mse: 1.0895\n",
            "Epoch 226/300\n",
            "1/1 [==============================] - 0s 15ms/step - loss: 1.0893 - mse: 1.0893\n",
            "Epoch 227/300\n",
            "1/1 [==============================] - 0s 16ms/step - loss: 1.0890 - mse: 1.0890\n",
            "Epoch 228/300\n",
            "1/1 [==============================] - 0s 10ms/step - loss: 1.0888 - mse: 1.0888\n",
            "Epoch 229/300\n",
            "1/1 [==============================] - 0s 13ms/step - loss: 1.0886 - mse: 1.0886\n",
            "Epoch 230/300\n",
            "1/1 [==============================] - 0s 12ms/step - loss: 1.0883 - mse: 1.0883\n",
            "Epoch 231/300\n",
            "1/1 [==============================] - 0s 11ms/step - loss: 1.0881 - mse: 1.0881\n",
            "Epoch 232/300\n",
            "1/1 [==============================] - 0s 11ms/step - loss: 1.0879 - mse: 1.0879\n",
            "Epoch 233/300\n",
            "1/1 [==============================] - 0s 16ms/step - loss: 1.0876 - mse: 1.0876\n",
            "Epoch 234/300\n",
            "1/1 [==============================] - 0s 14ms/step - loss: 1.0874 - mse: 1.0874\n",
            "Epoch 235/300\n",
            "1/1 [==============================] - 0s 13ms/step - loss: 1.0872 - mse: 1.0872\n",
            "Epoch 236/300\n",
            "1/1 [==============================] - 0s 17ms/step - loss: 1.0870 - mse: 1.0870\n",
            "Epoch 237/300\n",
            "1/1 [==============================] - 0s 10ms/step - loss: 1.0867 - mse: 1.0867\n",
            "Epoch 238/300\n",
            "1/1 [==============================] - 0s 16ms/step - loss: 1.0865 - mse: 1.0865\n",
            "Epoch 239/300\n",
            "1/1 [==============================] - 0s 10ms/step - loss: 1.0863 - mse: 1.0863\n",
            "Epoch 240/300\n",
            "1/1 [==============================] - 0s 11ms/step - loss: 1.0861 - mse: 1.0861\n",
            "Epoch 241/300\n",
            "1/1 [==============================] - 0s 9ms/step - loss: 1.0859 - mse: 1.0859\n",
            "Epoch 242/300\n",
            "1/1 [==============================] - 0s 9ms/step - loss: 1.0857 - mse: 1.0857\n",
            "Epoch 243/300\n",
            "1/1 [==============================] - 0s 11ms/step - loss: 1.0854 - mse: 1.0854\n",
            "Epoch 244/300\n",
            "1/1 [==============================] - 0s 11ms/step - loss: 1.0852 - mse: 1.0852\n",
            "Epoch 245/300\n",
            "1/1 [==============================] - 0s 10ms/step - loss: 1.0850 - mse: 1.0850\n",
            "Epoch 246/300\n",
            "1/1 [==============================] - 0s 12ms/step - loss: 1.0848 - mse: 1.0848\n",
            "Epoch 247/300\n",
            "1/1 [==============================] - 0s 19ms/step - loss: 1.0846 - mse: 1.0846\n",
            "Epoch 248/300\n",
            "1/1 [==============================] - 0s 17ms/step - loss: 1.0844 - mse: 1.0844\n",
            "Epoch 249/300\n",
            "1/1 [==============================] - 0s 12ms/step - loss: 1.0842 - mse: 1.0842\n",
            "Epoch 250/300\n",
            "1/1 [==============================] - 0s 9ms/step - loss: 1.0840 - mse: 1.0840\n",
            "Epoch 251/300\n",
            "1/1 [==============================] - 0s 10ms/step - loss: 1.0838 - mse: 1.0838\n",
            "Epoch 252/300\n",
            "1/1 [==============================] - 0s 12ms/step - loss: 1.0836 - mse: 1.0836\n",
            "Epoch 253/300\n",
            "1/1 [==============================] - 0s 13ms/step - loss: 1.0834 - mse: 1.0834\n",
            "Epoch 254/300\n",
            "1/1 [==============================] - 0s 14ms/step - loss: 1.0832 - mse: 1.0832\n",
            "Epoch 255/300\n",
            "1/1 [==============================] - 0s 13ms/step - loss: 1.0830 - mse: 1.0830\n",
            "Epoch 256/300\n",
            "1/1 [==============================] - 0s 13ms/step - loss: 1.0828 - mse: 1.0828\n",
            "Epoch 257/300\n",
            "1/1 [==============================] - 0s 12ms/step - loss: 1.0827 - mse: 1.0827\n",
            "Epoch 258/300\n",
            "1/1 [==============================] - 0s 11ms/step - loss: 1.0825 - mse: 1.0825\n",
            "Epoch 259/300\n",
            "1/1 [==============================] - 0s 12ms/step - loss: 1.0823 - mse: 1.0823\n",
            "Epoch 260/300\n",
            "1/1 [==============================] - 0s 13ms/step - loss: 1.0821 - mse: 1.0821\n",
            "Epoch 261/300\n",
            "1/1 [==============================] - 0s 10ms/step - loss: 1.0819 - mse: 1.0819\n",
            "Epoch 262/300\n",
            "1/1 [==============================] - 0s 12ms/step - loss: 1.0817 - mse: 1.0817\n",
            "Epoch 263/300\n",
            "1/1 [==============================] - 0s 11ms/step - loss: 1.0816 - mse: 1.0816\n",
            "Epoch 264/300\n",
            "1/1 [==============================] - 0s 11ms/step - loss: 1.0814 - mse: 1.0814\n",
            "Epoch 265/300\n",
            "1/1 [==============================] - 0s 18ms/step - loss: 1.0812 - mse: 1.0812\n",
            "Epoch 266/300\n",
            "1/1 [==============================] - 0s 13ms/step - loss: 1.0810 - mse: 1.0810\n",
            "Epoch 267/300\n",
            "1/1 [==============================] - 0s 10ms/step - loss: 1.0809 - mse: 1.0809\n",
            "Epoch 268/300\n",
            "1/1 [==============================] - 0s 11ms/step - loss: 1.0807 - mse: 1.0807\n",
            "Epoch 269/300\n",
            "1/1 [==============================] - 0s 15ms/step - loss: 1.0805 - mse: 1.0805\n",
            "Epoch 270/300\n",
            "1/1 [==============================] - 0s 11ms/step - loss: 1.0803 - mse: 1.0803\n",
            "Epoch 271/300\n",
            "1/1 [==============================] - 0s 10ms/step - loss: 1.0802 - mse: 1.0802\n",
            "Epoch 272/300\n",
            "1/1 [==============================] - 0s 13ms/step - loss: 1.0800 - mse: 1.0800\n",
            "Epoch 273/300\n",
            "1/1 [==============================] - 0s 10ms/step - loss: 1.0798 - mse: 1.0798\n",
            "Epoch 274/300\n",
            "1/1 [==============================] - 0s 14ms/step - loss: 1.0797 - mse: 1.0797\n",
            "Epoch 275/300\n",
            "1/1 [==============================] - 0s 16ms/step - loss: 1.0795 - mse: 1.0795\n",
            "Epoch 276/300\n",
            "1/1 [==============================] - 0s 11ms/step - loss: 1.0794 - mse: 1.0794\n",
            "Epoch 277/300\n",
            "1/1 [==============================] - 0s 12ms/step - loss: 1.0792 - mse: 1.0792\n",
            "Epoch 278/300\n",
            "1/1 [==============================] - 0s 13ms/step - loss: 1.0790 - mse: 1.0790\n",
            "Epoch 279/300\n",
            "1/1 [==============================] - 0s 11ms/step - loss: 1.0789 - mse: 1.0789\n",
            "Epoch 280/300\n",
            "1/1 [==============================] - 0s 11ms/step - loss: 1.0787 - mse: 1.0787\n",
            "Epoch 281/300\n",
            "1/1 [==============================] - 0s 11ms/step - loss: 1.0786 - mse: 1.0786\n",
            "Epoch 282/300\n",
            "1/1 [==============================] - 0s 13ms/step - loss: 1.0784 - mse: 1.0784\n",
            "Epoch 283/300\n",
            "1/1 [==============================] - 0s 12ms/step - loss: 1.0783 - mse: 1.0783\n",
            "Epoch 284/300\n",
            "1/1 [==============================] - 0s 12ms/step - loss: 1.0781 - mse: 1.0781\n",
            "Epoch 285/300\n",
            "1/1 [==============================] - 0s 12ms/step - loss: 1.0780 - mse: 1.0780\n",
            "Epoch 286/300\n",
            "1/1 [==============================] - 0s 20ms/step - loss: 1.0778 - mse: 1.0778\n",
            "Epoch 287/300\n",
            "1/1 [==============================] - 0s 13ms/step - loss: 1.0777 - mse: 1.0777\n",
            "Epoch 288/300\n",
            "1/1 [==============================] - 0s 10ms/step - loss: 1.0775 - mse: 1.0775\n",
            "Epoch 289/300\n",
            "1/1 [==============================] - 0s 12ms/step - loss: 1.0774 - mse: 1.0774\n",
            "Epoch 290/300\n",
            "1/1 [==============================] - 0s 12ms/step - loss: 1.0772 - mse: 1.0772\n",
            "Epoch 291/300\n",
            "1/1 [==============================] - 0s 15ms/step - loss: 1.0771 - mse: 1.0771\n",
            "Epoch 292/300\n",
            "1/1 [==============================] - 0s 12ms/step - loss: 1.0770 - mse: 1.0770\n",
            "Epoch 293/300\n",
            "1/1 [==============================] - 0s 11ms/step - loss: 1.0768 - mse: 1.0768\n",
            "Epoch 294/300\n",
            "1/1 [==============================] - 0s 12ms/step - loss: 1.0767 - mse: 1.0767\n",
            "Epoch 295/300\n",
            "1/1 [==============================] - 0s 10ms/step - loss: 1.0765 - mse: 1.0765\n",
            "Epoch 296/300\n",
            "1/1 [==============================] - 0s 14ms/step - loss: 1.0764 - mse: 1.0764\n",
            "Epoch 297/300\n",
            "1/1 [==============================] - 0s 14ms/step - loss: 1.0763 - mse: 1.0763\n",
            "Epoch 298/300\n",
            "1/1 [==============================] - 0s 11ms/step - loss: 1.0761 - mse: 1.0761\n",
            "Epoch 299/300\n",
            "1/1 [==============================] - 0s 12ms/step - loss: 1.0760 - mse: 1.0760\n",
            "Epoch 300/300\n",
            "1/1 [==============================] - 0s 12ms/step - loss: 1.0759 - mse: 1.0759\n"
          ]
        },
        {
          "output_type": "execute_result",
          "data": {
            "text/plain": [
              "<keras.callbacks.History at 0x7ff7c7cdffd0>"
            ]
          },
          "metadata": {},
          "execution_count": 29
        }
      ]
    },
    {
      "cell_type": "code",
      "source": [
        "from tensorflow.keras.layers import Input, Dense, concatenate\n",
        "from tensorflow.keras.models import Model\n",
        "\n",
        "inputA = Input(shape=(64,))\n",
        "inputB = Input(shape=(128,))\n",
        "\n",
        "# 첫번째 입력층으로부터 분기되어 진행되는 인공 신경망을 정의\n",
        "x = Dense(16, activation=\"relu\")(inputA)\n",
        "x = Dense(8, activation=\"relu\")(x)\n",
        "x = Model(inputs=inputA, outputs=x)\n",
        "\n",
        "# 두번째 입력층으로부터 분기되어 진행되는 인공 신경망을 정의\n",
        "y = Dense(64, activation=\"relu\")(inputB)\n",
        "y = Dense(32, activation=\"relu\")(y)\n",
        "y = Dense(8, activation=\"relu\")(y)\n",
        "y = Model(inputs=inputB, outputs=y)\n",
        "\n",
        "# 두개의 인공 신경망의 출력을 연결(concatenate)\n",
        "result = concatenate([x.output, y.output])\n",
        "\n",
        "z = Dense(2, activation=\"relu\")(result)\n",
        "z = Dense(1, activation=\"linear\")(z)\n",
        "\n",
        "model = Model(inputs=[x.input, y.input], outputs=z)"
      ],
      "metadata": {
        "id": "fTVyIaxujnUA"
      },
      "execution_count": null,
      "outputs": []
    },
    {
      "cell_type": "code",
      "source": [
        "from tensorflow.keras.layers import Input, Dense, LSTM\n",
        "from tensorflow.keras.models import Model\n",
        "\n",
        "inputs = Input(shape=(50,1))\n",
        "lstm_layer = LSTM(10)(inputs)\n",
        "x = Dense(10, activation='relu')(lstm_layer)\n",
        "output = Dense(1, activation='sigmoid')(x)\n",
        "\n",
        "model = Model(inputs=inputs, outputs=output)"
      ],
      "metadata": {
        "id": "_ME3_h5LnSWK"
      },
      "execution_count": null,
      "outputs": []
    },
    {
      "cell_type": "code",
      "source": [
        "import tensorflow as tf\n",
        "\n",
        "class LinearRegression(tf.keras.Model):\n",
        "  def __init__(self):\n",
        "    super(LinearRegression, self).__init__()\n",
        "    self.linear_layer = tf.keras.layers.Dense(1, input_dim=1, activation='linear')\n",
        "\n",
        "  def call(self, x):\n",
        "    y_pred = self.linear_layer(x)\n",
        "\n",
        "    return y_pred\n",
        "\n",
        "model = LinearRegression()\n",
        "X = [1, 2, 3, 4, 5, 6, 7, 8, 9]\n",
        "y = [11, 22, 33, 44, 53, 66, 77, 87, 95]\n",
        "sgd = tf.keras.optimizers.SGD(lr=0.01)\n",
        "model.compile(optimizer=sgd, loss='mse', metrics=['mse'])\n",
        "model.fit(X, y, epochs=300)"
      ],
      "metadata": {
        "id": "yJ_T-7Ekoo0Z"
      },
      "execution_count": null,
      "outputs": []
    },
    {
      "cell_type": "code",
      "source": [
        "import numpy as np\n",
        "from tensorflow.keras.preprocessing.text import Tokenizer\n",
        "texts = ['먹고 싶은 사과', '먹고 싶은 바나나', '길고 노란 바나나 바나나', '저는 과일이 좋아요']\n",
        "tokenizer = Tokenizer()\n",
        "tokenizer.fit_on_texts(texts)\n",
        "print(tokenizer.word_index)\n",
        "print(tokenizer.texts_to_matrix(texts, mode = 'count'))\n",
        "print(tokenizer.texts_to_matrix(texts, mode = 'binary'))\n",
        "print(tokenizer.texts_to_matrix(texts, mode = 'tfidf').round(2))\n",
        "print(tokenizer.texts_to_matrix(texts, mode = 'freq').round(2))"
      ],
      "metadata": {
        "colab": {
          "base_uri": "https://localhost:8080/"
        },
        "id": "KBiKLQmDuHn2",
        "outputId": "86f42bb1-1e7f-4f97-8ca5-970d03d9f182"
      },
      "execution_count": null,
      "outputs": [
        {
          "output_type": "stream",
          "name": "stdout",
          "text": [
            "{'바나나': 1, '먹고': 2, '싶은': 3, '사과': 4, '길고': 5, '노란': 6, '저는': 7, '과일이': 8, '좋아요': 9}\n",
            "[[0. 0. 1. 1. 1. 0. 0. 0. 0. 0.]\n",
            " [0. 1. 1. 1. 0. 0. 0. 0. 0. 0.]\n",
            " [0. 2. 0. 0. 0. 1. 1. 0. 0. 0.]\n",
            " [0. 0. 0. 0. 0. 0. 0. 1. 1. 1.]]\n",
            "[[0. 0. 1. 1. 1. 0. 0. 0. 0. 0.]\n",
            " [0. 1. 1. 1. 0. 0. 0. 0. 0. 0.]\n",
            " [0. 1. 0. 0. 0. 1. 1. 0. 0. 0.]\n",
            " [0. 0. 0. 0. 0. 0. 0. 1. 1. 1.]]\n",
            "[[0.   0.   0.85 0.85 1.1  0.   0.   0.   0.   0.  ]\n",
            " [0.   0.85 0.85 0.85 0.   0.   0.   0.   0.   0.  ]\n",
            " [0.   1.43 0.   0.   0.   1.1  1.1  0.   0.   0.  ]\n",
            " [0.   0.   0.   0.   0.   0.   0.   1.1  1.1  1.1 ]]\n",
            "[[0.   0.   0.33 0.33 0.33 0.   0.   0.   0.   0.  ]\n",
            " [0.   0.33 0.33 0.33 0.   0.   0.   0.   0.   0.  ]\n",
            " [0.   0.5  0.   0.   0.   0.25 0.25 0.   0.   0.  ]\n",
            " [0.   0.   0.   0.   0.   0.   0.   0.33 0.33 0.33]]\n"
          ]
        }
      ]
    },
    {
      "cell_type": "code",
      "source": [
        "import pandas as pd\n",
        "from sklearn.datasets import fetch_20newsgroups\n",
        "import matplotlib.pyplot as plt\n",
        "from tensorflow.keras.preprocessing.text import Tokenizer\n",
        "from tensorflow.keras.utils import to_categorical\n",
        "newsdata = fetch_20newsgroups(subset = 'train')\n",
        "print(newsdata.keys())\n",
        "print('훈련용 샘플의 개수 : {}'.format(len(newsdata.data)))\n",
        "print('총 주제의 개수 : {}'.format(len(newsdata.target_names)))\n",
        "print(newsdata.target_names)"
      ],
      "metadata": {
        "colab": {
          "base_uri": "https://localhost:8080/"
        },
        "id": "2mZgev5Qufmn",
        "outputId": "57235ca9-8917-4f65-ebfd-db2da05e7845"
      },
      "execution_count": null,
      "outputs": [
        {
          "output_type": "stream",
          "name": "stdout",
          "text": [
            "dict_keys(['data', 'filenames', 'target_names', 'target', 'DESCR'])\n",
            "훈련용 샘플의 개수 : 11314\n",
            "총 주제의 개수 : 20\n",
            "['alt.atheism', 'comp.graphics', 'comp.os.ms-windows.misc', 'comp.sys.ibm.pc.hardware', 'comp.sys.mac.hardware', 'comp.windows.x', 'misc.forsale', 'rec.autos', 'rec.motorcycles', 'rec.sport.baseball', 'rec.sport.hockey', 'sci.crypt', 'sci.electronics', 'sci.med', 'sci.space', 'soc.religion.christian', 'talk.politics.guns', 'talk.politics.mideast', 'talk.politics.misc', 'talk.religion.misc']\n"
          ]
        }
      ]
    },
    {
      "cell_type": "code",
      "source": [
        "print('첫번째 샘플의 레이블 : {}'.format(newsdata.target[0]))\n",
        "print('7번 레이블이 의미하는 주제 : {}'.format(newsdata.target_names[7]))\n",
        "data = pd.DataFrame(newsdata.data, columns = ['email'])\n",
        "data['target'] = pd.Series(newsdata.target)\n",
        "data[:5]"
      ],
      "metadata": {
        "colab": {
          "base_uri": "https://localhost:8080/",
          "height": 243
        },
        "id": "6PlZD6Mbvyso",
        "outputId": "4358e75f-11b0-44df-f68e-fba567ab1f7f"
      },
      "execution_count": null,
      "outputs": [
        {
          "output_type": "stream",
          "name": "stdout",
          "text": [
            "첫번째 샘플의 레이블 : 7\n",
            "7번 레이블이 의미하는 주제 : rec.autos\n"
          ]
        },
        {
          "output_type": "execute_result",
          "data": {
            "text/plain": [
              "                                               email  target\n",
              "0  From: lerxst@wam.umd.edu (where's my thing)\\nS...       7\n",
              "1  From: guykuo@carson.u.washington.edu (Guy Kuo)...       4\n",
              "2  From: twillis@ec.ecn.purdue.edu (Thomas E Will...       4\n",
              "3  From: jgreen@amber (Joe Green)\\nSubject: Re: W...       1\n",
              "4  From: jcm@head-cfa.harvard.edu (Jonathan McDow...      14"
            ],
            "text/html": [
              "\n",
              "  <div id=\"df-c64c9219-d409-464e-8975-c3349054e7b7\">\n",
              "    <div class=\"colab-df-container\">\n",
              "      <div>\n",
              "<style scoped>\n",
              "    .dataframe tbody tr th:only-of-type {\n",
              "        vertical-align: middle;\n",
              "    }\n",
              "\n",
              "    .dataframe tbody tr th {\n",
              "        vertical-align: top;\n",
              "    }\n",
              "\n",
              "    .dataframe thead th {\n",
              "        text-align: right;\n",
              "    }\n",
              "</style>\n",
              "<table border=\"1\" class=\"dataframe\">\n",
              "  <thead>\n",
              "    <tr style=\"text-align: right;\">\n",
              "      <th></th>\n",
              "      <th>email</th>\n",
              "      <th>target</th>\n",
              "    </tr>\n",
              "  </thead>\n",
              "  <tbody>\n",
              "    <tr>\n",
              "      <th>0</th>\n",
              "      <td>From: lerxst@wam.umd.edu (where's my thing)\\nS...</td>\n",
              "      <td>7</td>\n",
              "    </tr>\n",
              "    <tr>\n",
              "      <th>1</th>\n",
              "      <td>From: guykuo@carson.u.washington.edu (Guy Kuo)...</td>\n",
              "      <td>4</td>\n",
              "    </tr>\n",
              "    <tr>\n",
              "      <th>2</th>\n",
              "      <td>From: twillis@ec.ecn.purdue.edu (Thomas E Will...</td>\n",
              "      <td>4</td>\n",
              "    </tr>\n",
              "    <tr>\n",
              "      <th>3</th>\n",
              "      <td>From: jgreen@amber (Joe Green)\\nSubject: Re: W...</td>\n",
              "      <td>1</td>\n",
              "    </tr>\n",
              "    <tr>\n",
              "      <th>4</th>\n",
              "      <td>From: jcm@head-cfa.harvard.edu (Jonathan McDow...</td>\n",
              "      <td>14</td>\n",
              "    </tr>\n",
              "  </tbody>\n",
              "</table>\n",
              "</div>\n",
              "      <button class=\"colab-df-convert\" onclick=\"convertToInteractive('df-c64c9219-d409-464e-8975-c3349054e7b7')\"\n",
              "              title=\"Convert this dataframe to an interactive table.\"\n",
              "              style=\"display:none;\">\n",
              "        \n",
              "  <svg xmlns=\"http://www.w3.org/2000/svg\" height=\"24px\"viewBox=\"0 0 24 24\"\n",
              "       width=\"24px\">\n",
              "    <path d=\"M0 0h24v24H0V0z\" fill=\"none\"/>\n",
              "    <path d=\"M18.56 5.44l.94 2.06.94-2.06 2.06-.94-2.06-.94-.94-2.06-.94 2.06-2.06.94zm-11 1L8.5 8.5l.94-2.06 2.06-.94-2.06-.94L8.5 2.5l-.94 2.06-2.06.94zm10 10l.94 2.06.94-2.06 2.06-.94-2.06-.94-.94-2.06-.94 2.06-2.06.94z\"/><path d=\"M17.41 7.96l-1.37-1.37c-.4-.4-.92-.59-1.43-.59-.52 0-1.04.2-1.43.59L10.3 9.45l-7.72 7.72c-.78.78-.78 2.05 0 2.83L4 21.41c.39.39.9.59 1.41.59.51 0 1.02-.2 1.41-.59l7.78-7.78 2.81-2.81c.8-.78.8-2.07 0-2.86zM5.41 20L4 18.59l7.72-7.72 1.47 1.35L5.41 20z\"/>\n",
              "  </svg>\n",
              "      </button>\n",
              "      \n",
              "  <style>\n",
              "    .colab-df-container {\n",
              "      display:flex;\n",
              "      flex-wrap:wrap;\n",
              "      gap: 12px;\n",
              "    }\n",
              "\n",
              "    .colab-df-convert {\n",
              "      background-color: #E8F0FE;\n",
              "      border: none;\n",
              "      border-radius: 50%;\n",
              "      cursor: pointer;\n",
              "      display: none;\n",
              "      fill: #1967D2;\n",
              "      height: 32px;\n",
              "      padding: 0 0 0 0;\n",
              "      width: 32px;\n",
              "    }\n",
              "\n",
              "    .colab-df-convert:hover {\n",
              "      background-color: #E2EBFA;\n",
              "      box-shadow: 0px 1px 2px rgba(60, 64, 67, 0.3), 0px 1px 3px 1px rgba(60, 64, 67, 0.15);\n",
              "      fill: #174EA6;\n",
              "    }\n",
              "\n",
              "    [theme=dark] .colab-df-convert {\n",
              "      background-color: #3B4455;\n",
              "      fill: #D2E3FC;\n",
              "    }\n",
              "\n",
              "    [theme=dark] .colab-df-convert:hover {\n",
              "      background-color: #434B5C;\n",
              "      box-shadow: 0px 1px 3px 1px rgba(0, 0, 0, 0.15);\n",
              "      filter: drop-shadow(0px 1px 2px rgba(0, 0, 0, 0.3));\n",
              "      fill: #FFFFFF;\n",
              "    }\n",
              "  </style>\n",
              "\n",
              "      <script>\n",
              "        const buttonEl =\n",
              "          document.querySelector('#df-c64c9219-d409-464e-8975-c3349054e7b7 button.colab-df-convert');\n",
              "        buttonEl.style.display =\n",
              "          google.colab.kernel.accessAllowed ? 'block' : 'none';\n",
              "\n",
              "        async function convertToInteractive(key) {\n",
              "          const element = document.querySelector('#df-c64c9219-d409-464e-8975-c3349054e7b7');\n",
              "          const dataTable =\n",
              "            await google.colab.kernel.invokeFunction('convertToInteractive',\n",
              "                                                     [key], {});\n",
              "          if (!dataTable) return;\n",
              "\n",
              "          const docLinkHtml = 'Like what you see? Visit the ' +\n",
              "            '<a target=\"_blank\" href=https://colab.research.google.com/notebooks/data_table.ipynb>data table notebook</a>'\n",
              "            + ' to learn more about interactive tables.';\n",
              "          element.innerHTML = '';\n",
              "          dataTable['output_type'] = 'display_data';\n",
              "          await google.colab.output.renderOutput(dataTable, element);\n",
              "          const docLink = document.createElement('div');\n",
              "          docLink.innerHTML = docLinkHtml;\n",
              "          element.appendChild(docLink);\n",
              "        }\n",
              "      </script>\n",
              "    </div>\n",
              "  </div>\n",
              "  "
            ]
          },
          "metadata": {},
          "execution_count": 35
        }
      ]
    },
    {
      "cell_type": "code",
      "source": [
        "data.isnull().values.any()"
      ],
      "metadata": {
        "colab": {
          "base_uri": "https://localhost:8080/"
        },
        "id": "aQ_HHANXxDX3",
        "outputId": "68f1d364-5e1e-4069-d8af-77a17b3c69f7"
      },
      "execution_count": null,
      "outputs": [
        {
          "output_type": "execute_result",
          "data": {
            "text/plain": [
              "False"
            ]
          },
          "metadata": {},
          "execution_count": 36
        }
      ]
    },
    {
      "cell_type": "code",
      "source": [
        "print('중복을 제외한 샘플의 수 : {}'.format(data['email'].nunique()))\n",
        "print('중복을 제외한 주제의 수 : {}'.format(data['target'].nunique()))\n",
        "data['target'].value_counts().plot(kind='bar');"
      ],
      "metadata": {
        "colab": {
          "base_uri": "https://localhost:8080/",
          "height": 305
        },
        "id": "7DSHzYb1xyLs",
        "outputId": "eeb82077-ff25-4f87-8735-dc4f1f124e7d"
      },
      "execution_count": null,
      "outputs": [
        {
          "output_type": "stream",
          "name": "stdout",
          "text": [
            "중복을 제외한 샘플의 수 : 11314\n",
            "중복을 제외한 주제의 수 : 20\n"
          ]
        },
        {
          "output_type": "display_data",
          "data": {
            "text/plain": [
              "<Figure size 432x288 with 1 Axes>"
            ],
            "image/png": "[encoded data removed]"
          },
          "metadata": {
            "needs_background": "light"
          }
        }
      ]
    },
    {
      "cell_type": "code",
      "source": [
        "print(data.groupby('target').size().reset_index(name='count'))"
      ],
      "metadata": {
        "colab": {
          "base_uri": "https://localhost:8080/"
        },
        "id": "7AM4qkppyYfC",
        "outputId": "8e4b897f-0f81-48de-8f30-cdcdcf7a76d7"
      },
      "execution_count": null,
      "outputs": [
        {
          "output_type": "stream",
          "name": "stdout",
          "text": [
            "    target  count\n",
            "0        0    480\n",
            "1        1    584\n",
            "2        2    591\n",
            "3        3    590\n",
            "4        4    578\n",
            "5        5    593\n",
            "6        6    585\n",
            "7        7    594\n",
            "8        8    598\n",
            "9        9    597\n",
            "10      10    600\n",
            "11      11    595\n",
            "12      12    591\n",
            "13      13    594\n",
            "14      14    593\n",
            "15      15    599\n",
            "16      16    546\n",
            "17      17    564\n",
            "18      18    465\n",
            "19      19    377\n"
          ]
        }
      ]
    },
    {
      "cell_type": "code",
      "source": [
        "newsdata_test = fetch_20newsgroups(subset='test', shuffle=True)\n",
        "train_email = data['email']\n",
        "train_label = data['target']\n",
        "test_email = newsdata_test.data\n",
        "test_label = newsdata_test.target\n",
        "vocab_size = 10000\n",
        "num_classes = 20\n",
        "\n",
        "def prepare_data(train_data, test_data, mode): # 전처리 함수\n",
        "    tokenizer = Tokenizer(num_words = vocab_size)\n",
        "    tokenizer.fit_on_texts(train_data)\n",
        "    X_train = tokenizer.texts_to_matrix(train_data, mode=mode)\n",
        "    X_test = tokenizer.texts_to_matrix(test_data, mode=mode)\n",
        "    return X_train, X_test, tokenizer.index_word\n",
        "\n",
        "X_train, X_test, index_to_word = prepare_data(train_email, test_email, 'binary')\n",
        "y_train = to_categorical(train_label, num_classes)\n",
        "y_test = to_categorical(test_label, num_classes"
      ],
      "metadata": {
        "colab": {
          "base_uri": "https://localhost:8080/",
          "height": 137
        },
        "id": "BqL3I955ycKH",
        "outputId": "4fd1a491-f303-415a-bacf-9b2ed090dfb5"
      },
      "execution_count": null,
      "outputs": [
        {
          "output_type": "error",
          "ename": "SyntaxError",
          "evalue": "ignored",
          "traceback": [
            "\u001b[0;36m  File \u001b[0;32m\"<ipython-input-39-9510c7639080>\"\u001b[0;36m, line \u001b[0;32m18\u001b[0m\n\u001b[0;31m    y_test = to_categorical(test_label, num_classes\u001b[0m\n\u001b[0m                                                   ^\u001b[0m\n\u001b[0;31mSyntaxError\u001b[0m\u001b[0;31m:\u001b[0m unexpected EOF while parsing\n"
          ]
        }
      ]
    }
  ]
}