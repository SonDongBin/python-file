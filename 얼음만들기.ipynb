{
  "nbformat": 4,
  "nbformat_minor": 0,
  "metadata": {
    "colab": {
      "name": "얼음만들기.ipynb",
      "provenance": [],
      "authorship_tag": "ABX9TyP5yXUUjwsBSkM14WdSxMsk",
      "include_colab_link": true
    },
    "kernelspec": {
      "name": "python3",
      "display_name": "Python 3"
    },
    "language_info": {
      "name": "python"
    }
  },
  "cells": [
    {
      "cell_type": "markdown",
      "metadata": {
        "id": "view-in-github",
        "colab_type": "text"
      },
      "source": [
        "<a href=\"https://colab.research.google.com/github/SonDongBin/python-file/blob/master/%EC%96%BC%EC%9D%8C%EB%A7%8C%EB%93%A4%EA%B8%B0.ipynb\" target=\"_parent\"><img src=\"https://colab.research.google.com/assets/colab-badge.svg\" alt=\"Open In Colab\"/></a>"
      ]
    },
    {
      "cell_type": "code",
      "execution_count": 22,
      "metadata": {
        "colab": {
          "base_uri": "https://localhost:8080/"
        },
        "id": "1JPNWy9zwFi_",
        "outputId": "192954dc-bdd7-4e52-c63d-ecb38d004078"
      },
      "outputs": [
        {
          "output_type": "stream",
          "name": "stdout",
          "text": [
            "3 4\n",
            "1001\n",
            "1010\n",
            "1100\n",
            "2\n"
          ]
        }
      ],
      "source": [
        "n, m = map(int, input().split())\n",
        "\n",
        "graph = []\n",
        "for i in range(n):\n",
        "  graph.append(list(map(int, input())))\n",
        "\n",
        "def dfs(x, y):\n",
        "  if x <= -1 or x >= n or y <= -1 or y >= m:\n",
        "    return False\n",
        "  if graph[x][y] == 0:\n",
        "    graph[x][y] = 1\n",
        "    dfs(x - 1, y)\n",
        "    dfs(x, y - 1)\n",
        "    dfs(x + 1, y)\n",
        "    dfs(x, y + 1)\n",
        "    return True\n",
        "  return False\n",
        "\n",
        "result = 0\n",
        "for i in range(n):\n",
        "  for j in range(m):\n",
        "    if dfs(i,j) == True:\n",
        "      result += 1\\\n",
        "\n",
        "print(result)"
      ]
    },
    {
      "cell_type": "code",
      "source": [
        ""
      ],
      "metadata": {
        "id": "y2-2wEbF1xAq"
      },
      "execution_count": 8,
      "outputs": []
    }
  ]
}