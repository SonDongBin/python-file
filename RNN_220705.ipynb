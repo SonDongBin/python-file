{
  "nbformat": 4,
  "nbformat_minor": 0,
  "metadata": {
    "colab": {
      "name": "RNN_220705.ipynb",
      "provenance": [],
      "authorship_tag": "ABX9TyOQt2UoAwrZ7Jw767y9g24y",
      "include_colab_link": true
    },
    "kernelspec": {
      "name": "python3",
      "display_name": "Python 3"
    },
    "language_info": {
      "name": "python"
    }
  },
  "cells": [
    {
      "cell_type": "markdown",
      "metadata": {
        "id": "view-in-github",
        "colab_type": "text"
      },
      "source": [
        "<a href=\"https://colab.research.google.com/github/SonDongBin/python-file/blob/master/RNN_220705.ipynb\" target=\"_parent\"><img src=\"https://colab.research.google.com/assets/colab-badge.svg\" alt=\"Open In Colab\"/></a>"
      ]
    },
    {
      "cell_type": "code",
      "execution_count": 1,
      "metadata": {
        "id": "augYISlFCKe-"
      },
      "outputs": [],
      "source": [
        "import os\n",
        "import pandas as pd\n",
        "import tensorflow as tf\n",
        "from tensorflow.keras.preprocessing.sequence import pad_sequences\n",
        "from tensorflow.keras.utils import to_categorical"
      ]
    },
    {
      "cell_type": "code",
      "source": [
        "!wget http://www.manythings.org/anki/fra-eng.zip"
      ],
      "metadata": {
        "colab": {
          "base_uri": "https://localhost:8080/"
        },
        "id": "tMW1qploxaWQ",
        "outputId": "ea32038c-f4d5-45de-8fc2-47eef96a9be1"
      },
      "execution_count": 2,
      "outputs": [
        {
          "output_type": "stream",
          "name": "stdout",
          "text": [
            "--2022-07-05 02:54:34--  http://www.manythings.org/anki/fra-eng.zip\n",
            "Resolving www.manythings.org (www.manythings.org)... 173.254.30.110\n",
            "Connecting to www.manythings.org (www.manythings.org)|173.254.30.110|:80... connected.\n",
            "HTTP request sent, awaiting response... 200 OK\n",
            "Length: 6612164 (6.3M) [application/zip]\n",
            "Saving to: ‘fra-eng.zip.3’\n",
            "\n",
            "fra-eng.zip.3       100%[===================>]   6.31M  10.1MB/s    in 0.6s    \n",
            "\n",
            "2022-07-05 02:54:34 (10.1 MB/s) - ‘fra-eng.zip.3’ saved [6612164/6612164]\n",
            "\n"
          ]
        }
      ]
    },
    {
      "cell_type": "code",
      "source": [
        "lines = pd.read_csv('./fra.txt', names=['src', 'tar', 'lic'], sep='\\t')\n",
        "lines"
      ],
      "metadata": {
        "colab": {
          "base_uri": "https://localhost:8080/",
          "height": 641
        },
        "id": "nwba6_WszBwt",
        "outputId": "15721f5f-36c8-4c32-8ff3-2193b722a007"
      },
      "execution_count": 3,
      "outputs": [
        {
          "output_type": "execute_result",
          "data": {
            "text/plain": [
              "                                                      src  \\\n",
              "0                                                     Go.   \n",
              "1                                                     Go.   \n",
              "2                                                     Go.   \n",
              "3                                                     Hi.   \n",
              "4                                                     Hi.   \n",
              "...                                                   ...   \n",
              "194508  A carbon footprint is the amount of carbon dio...   \n",
              "194509  Death is something that we're often discourage...   \n",
              "194510  Since there are usually multiple websites on a...   \n",
              "194511  If someone who doesn't know your background sa...   \n",
              "194512  It may be impossible to get a completely error...   \n",
              "\n",
              "                                                      tar  \\\n",
              "0                                                    Va !   \n",
              "1                                                 Marche.   \n",
              "2                                                 Bouge !   \n",
              "3                                                 Salut !   \n",
              "4                                                  Salut.   \n",
              "...                                                   ...   \n",
              "194508  Une empreinte carbone est la somme de pollutio...   \n",
              "194509  La mort est une chose qu'on nous décourage sou...   \n",
              "194510  Puisqu'il y a de multiples sites web sur chaqu...   \n",
              "194511  Si quelqu'un qui ne connaît pas vos antécédent...   \n",
              "194512  Il est peut-être impossible d'obtenir un Corpu...   \n",
              "\n",
              "                                                      lic  \n",
              "0       CC-BY 2.0 (France) Attribution: tatoeba.org #2...  \n",
              "1       CC-BY 2.0 (France) Attribution: tatoeba.org #2...  \n",
              "2       CC-BY 2.0 (France) Attribution: tatoeba.org #2...  \n",
              "3       CC-BY 2.0 (France) Attribution: tatoeba.org #5...  \n",
              "4       CC-BY 2.0 (France) Attribution: tatoeba.org #5...  \n",
              "...                                                   ...  \n",
              "194508  CC-BY 2.0 (France) Attribution: tatoeba.org #1...  \n",
              "194509  CC-BY 2.0 (France) Attribution: tatoeba.org #1...  \n",
              "194510  CC-BY 2.0 (France) Attribution: tatoeba.org #9...  \n",
              "194511  CC-BY 2.0 (France) Attribution: tatoeba.org #9...  \n",
              "194512  CC-BY 2.0 (France) Attribution: tatoeba.org #2...  \n",
              "\n",
              "[194513 rows x 3 columns]"
            ],
            "text/html": [
              "\n",
              "  <div id=\"df-6d66709b-7e6d-46a4-b4c6-3107c21ec1bf\">\n",
              "    <div class=\"colab-df-container\">\n",
              "      <div>\n",
              "<style scoped>\n",
              "    .dataframe tbody tr th:only-of-type {\n",
              "        vertical-align: middle;\n",
              "    }\n",
              "\n",
              "    .dataframe tbody tr th {\n",
              "        vertical-align: top;\n",
              "    }\n",
              "\n",
              "    .dataframe thead th {\n",
              "        text-align: right;\n",
              "    }\n",
              "</style>\n",
              "<table border=\"1\" class=\"dataframe\">\n",
              "  <thead>\n",
              "    <tr style=\"text-align: right;\">\n",
              "      <th></th>\n",
              "      <th>src</th>\n",
              "      <th>tar</th>\n",
              "      <th>lic</th>\n",
              "    </tr>\n",
              "  </thead>\n",
              "  <tbody>\n",
              "    <tr>\n",
              "      <th>0</th>\n",
              "      <td>Go.</td>\n",
              "      <td>Va !</td>\n",
              "      <td>CC-BY 2.0 (France) Attribution: tatoeba.org #2...</td>\n",
              "    </tr>\n",
              "    <tr>\n",
              "      <th>1</th>\n",
              "      <td>Go.</td>\n",
              "      <td>Marche.</td>\n",
              "      <td>CC-BY 2.0 (France) Attribution: tatoeba.org #2...</td>\n",
              "    </tr>\n",
              "    <tr>\n",
              "      <th>2</th>\n",
              "      <td>Go.</td>\n",
              "      <td>Bouge !</td>\n",
              "      <td>CC-BY 2.0 (France) Attribution: tatoeba.org #2...</td>\n",
              "    </tr>\n",
              "    <tr>\n",
              "      <th>3</th>\n",
              "      <td>Hi.</td>\n",
              "      <td>Salut !</td>\n",
              "      <td>CC-BY 2.0 (France) Attribution: tatoeba.org #5...</td>\n",
              "    </tr>\n",
              "    <tr>\n",
              "      <th>4</th>\n",
              "      <td>Hi.</td>\n",
              "      <td>Salut.</td>\n",
              "      <td>CC-BY 2.0 (France) Attribution: tatoeba.org #5...</td>\n",
              "    </tr>\n",
              "    <tr>\n",
              "      <th>...</th>\n",
              "      <td>...</td>\n",
              "      <td>...</td>\n",
              "      <td>...</td>\n",
              "    </tr>\n",
              "    <tr>\n",
              "      <th>194508</th>\n",
              "      <td>A carbon footprint is the amount of carbon dio...</td>\n",
              "      <td>Une empreinte carbone est la somme de pollutio...</td>\n",
              "      <td>CC-BY 2.0 (France) Attribution: tatoeba.org #1...</td>\n",
              "    </tr>\n",
              "    <tr>\n",
              "      <th>194509</th>\n",
              "      <td>Death is something that we're often discourage...</td>\n",
              "      <td>La mort est une chose qu'on nous décourage sou...</td>\n",
              "      <td>CC-BY 2.0 (France) Attribution: tatoeba.org #1...</td>\n",
              "    </tr>\n",
              "    <tr>\n",
              "      <th>194510</th>\n",
              "      <td>Since there are usually multiple websites on a...</td>\n",
              "      <td>Puisqu'il y a de multiples sites web sur chaqu...</td>\n",
              "      <td>CC-BY 2.0 (France) Attribution: tatoeba.org #9...</td>\n",
              "    </tr>\n",
              "    <tr>\n",
              "      <th>194511</th>\n",
              "      <td>If someone who doesn't know your background sa...</td>\n",
              "      <td>Si quelqu'un qui ne connaît pas vos antécédent...</td>\n",
              "      <td>CC-BY 2.0 (France) Attribution: tatoeba.org #9...</td>\n",
              "    </tr>\n",
              "    <tr>\n",
              "      <th>194512</th>\n",
              "      <td>It may be impossible to get a completely error...</td>\n",
              "      <td>Il est peut-être impossible d'obtenir un Corpu...</td>\n",
              "      <td>CC-BY 2.0 (France) Attribution: tatoeba.org #2...</td>\n",
              "    </tr>\n",
              "  </tbody>\n",
              "</table>\n",
              "<p>194513 rows × 3 columns</p>\n",
              "</div>\n",
              "      <button class=\"colab-df-convert\" onclick=\"convertToInteractive('df-6d66709b-7e6d-46a4-b4c6-3107c21ec1bf')\"\n",
              "              title=\"Convert this dataframe to an interactive table.\"\n",
              "              style=\"display:none;\">\n",
              "        \n",
              "  <svg xmlns=\"http://www.w3.org/2000/svg\" height=\"24px\"viewBox=\"0 0 24 24\"\n",
              "       width=\"24px\">\n",
              "    <path d=\"M0 0h24v24H0V0z\" fill=\"none\"/>\n",
              "    <path d=\"M18.56 5.44l.94 2.06.94-2.06 2.06-.94-2.06-.94-.94-2.06-.94 2.06-2.06.94zm-11 1L8.5 8.5l.94-2.06 2.06-.94-2.06-.94L8.5 2.5l-.94 2.06-2.06.94zm10 10l.94 2.06.94-2.06 2.06-.94-2.06-.94-.94-2.06-.94 2.06-2.06.94z\"/><path d=\"M17.41 7.96l-1.37-1.37c-.4-.4-.92-.59-1.43-.59-.52 0-1.04.2-1.43.59L10.3 9.45l-7.72 7.72c-.78.78-.78 2.05 0 2.83L4 21.41c.39.39.9.59 1.41.59.51 0 1.02-.2 1.41-.59l7.78-7.78 2.81-2.81c.8-.78.8-2.07 0-2.86zM5.41 20L4 18.59l7.72-7.72 1.47 1.35L5.41 20z\"/>\n",
              "  </svg>\n",
              "      </button>\n",
              "      \n",
              "  <style>\n",
              "    .colab-df-container {\n",
              "      display:flex;\n",
              "      flex-wrap:wrap;\n",
              "      gap: 12px;\n",
              "    }\n",
              "\n",
              "    .colab-df-convert {\n",
              "      background-color: #E8F0FE;\n",
              "      border: none;\n",
              "      border-radius: 50%;\n",
              "      cursor: pointer;\n",
              "      display: none;\n",
              "      fill: #1967D2;\n",
              "      height: 32px;\n",
              "      padding: 0 0 0 0;\n",
              "      width: 32px;\n",
              "    }\n",
              "\n",
              "    .colab-df-convert:hover {\n",
              "      background-color: #E2EBFA;\n",
              "      box-shadow: 0px 1px 2px rgba(60, 64, 67, 0.3), 0px 1px 3px 1px rgba(60, 64, 67, 0.15);\n",
              "      fill: #174EA6;\n",
              "    }\n",
              "\n",
              "    [theme=dark] .colab-df-convert {\n",
              "      background-color: #3B4455;\n",
              "      fill: #D2E3FC;\n",
              "    }\n",
              "\n",
              "    [theme=dark] .colab-df-convert:hover {\n",
              "      background-color: #434B5C;\n",
              "      box-shadow: 0px 1px 3px 1px rgba(0, 0, 0, 0.15);\n",
              "      filter: drop-shadow(0px 1px 2px rgba(0, 0, 0, 0.3));\n",
              "      fill: #FFFFFF;\n",
              "    }\n",
              "  </style>\n",
              "\n",
              "      <script>\n",
              "        const buttonEl =\n",
              "          document.querySelector('#df-6d66709b-7e6d-46a4-b4c6-3107c21ec1bf button.colab-df-convert');\n",
              "        buttonEl.style.display =\n",
              "          google.colab.kernel.accessAllowed ? 'block' : 'none';\n",
              "\n",
              "        async function convertToInteractive(key) {\n",
              "          const element = document.querySelector('#df-6d66709b-7e6d-46a4-b4c6-3107c21ec1bf');\n",
              "          const dataTable =\n",
              "            await google.colab.kernel.invokeFunction('convertToInteractive',\n",
              "                                                     [key], {});\n",
              "          if (!dataTable) return;\n",
              "\n",
              "          const docLinkHtml = 'Like what you see? Visit the ' +\n",
              "            '<a target=\"_blank\" href=https://colab.research.google.com/notebooks/data_table.ipynb>data table notebook</a>'\n",
              "            + ' to learn more about interactive tables.';\n",
              "          element.innerHTML = '';\n",
              "          dataTable['output_type'] = 'display_data';\n",
              "          await google.colab.output.renderOutput(dataTable, element);\n",
              "          const docLink = document.createElement('div');\n",
              "          docLink.innerHTML = docLinkHtml;\n",
              "          element.appendChild(docLink);\n",
              "        }\n",
              "      </script>\n",
              "    </div>\n",
              "  </div>\n",
              "  "
            ]
          },
          "metadata": {},
          "execution_count": 3
        }
      ]
    },
    {
      "cell_type": "code",
      "source": [
        "for i in lines.src.iloc[-5:]:\n",
        "  print(i)\n",
        "  print('문장의 길이: ', len(i))"
      ],
      "metadata": {
        "colab": {
          "base_uri": "https://localhost:8080/"
        },
        "id": "YLxM41eu0sen",
        "outputId": "90d0baec-7468-4381-c43d-00719d9a0f2e"
      },
      "execution_count": 4,
      "outputs": [
        {
          "output_type": "stream",
          "name": "stdout",
          "text": [
            "A carbon footprint is the amount of carbon dioxide pollution that we produce as a result of our activities. Some people try to reduce their carbon footprint because they are concerned about climate change.\n",
            "문장의 길이:  205\n",
            "Death is something that we're often discouraged to talk about or even think about, but I've realized that preparing for death is one of the most empowering things you can do. Thinking about death clarifies your life.\n",
            "문장의 길이:  216\n",
            "Since there are usually multiple websites on any given topic, I usually just click the back button when I arrive on any webpage that has pop-up advertising. I just go to the next page found by Google and hope for something less irritating.\n",
            "문장의 길이:  239\n",
            "If someone who doesn't know your background says that you sound like a native speaker, it means they probably noticed something about your speaking that made them realize you weren't a native speaker. In other words, you don't really sound like a native speaker.\n",
            "문장의 길이:  262\n",
            "It may be impossible to get a completely error-free corpus due to the nature of this kind of collaborative effort. However, if we encourage members to contribute sentences in their own languages rather than experiment in languages they are learning, we might be able to minimize errors.\n",
            "문장의 길이:  286\n"
          ]
        }
      ]
    },
    {
      "cell_type": "code",
      "source": [
        "lines['length_src'] = lines.src.apply(lambda x:len(x))\n",
        "lines['length_tar'] = lines.tar.apply(lambda x:len(x))"
      ],
      "metadata": {
        "id": "STMDBkOa1hht"
      },
      "execution_count": 5,
      "outputs": []
    },
    {
      "cell_type": "code",
      "source": [
        "lines"
      ],
      "metadata": {
        "colab": {
          "base_uri": "https://localhost:8080/",
          "height": 815
        },
        "id": "Pk9Eexln2ELd",
        "outputId": "eddfa419-1da3-4d0b-9200-95fff6d940f9"
      },
      "execution_count": 6,
      "outputs": [
        {
          "output_type": "execute_result",
          "data": {
            "text/plain": [
              "                                                      src  \\\n",
              "0                                                     Go.   \n",
              "1                                                     Go.   \n",
              "2                                                     Go.   \n",
              "3                                                     Hi.   \n",
              "4                                                     Hi.   \n",
              "...                                                   ...   \n",
              "194508  A carbon footprint is the amount of carbon dio...   \n",
              "194509  Death is something that we're often discourage...   \n",
              "194510  Since there are usually multiple websites on a...   \n",
              "194511  If someone who doesn't know your background sa...   \n",
              "194512  It may be impossible to get a completely error...   \n",
              "\n",
              "                                                      tar  \\\n",
              "0                                                    Va !   \n",
              "1                                                 Marche.   \n",
              "2                                                 Bouge !   \n",
              "3                                                 Salut !   \n",
              "4                                                  Salut.   \n",
              "...                                                   ...   \n",
              "194508  Une empreinte carbone est la somme de pollutio...   \n",
              "194509  La mort est une chose qu'on nous décourage sou...   \n",
              "194510  Puisqu'il y a de multiples sites web sur chaqu...   \n",
              "194511  Si quelqu'un qui ne connaît pas vos antécédent...   \n",
              "194512  Il est peut-être impossible d'obtenir un Corpu...   \n",
              "\n",
              "                                                      lic  length_src  \\\n",
              "0       CC-BY 2.0 (France) Attribution: tatoeba.org #2...           3   \n",
              "1       CC-BY 2.0 (France) Attribution: tatoeba.org #2...           3   \n",
              "2       CC-BY 2.0 (France) Attribution: tatoeba.org #2...           3   \n",
              "3       CC-BY 2.0 (France) Attribution: tatoeba.org #5...           3   \n",
              "4       CC-BY 2.0 (France) Attribution: tatoeba.org #5...           3   \n",
              "...                                                   ...         ...   \n",
              "194508  CC-BY 2.0 (France) Attribution: tatoeba.org #1...         205   \n",
              "194509  CC-BY 2.0 (France) Attribution: tatoeba.org #1...         216   \n",
              "194510  CC-BY 2.0 (France) Attribution: tatoeba.org #9...         239   \n",
              "194511  CC-BY 2.0 (France) Attribution: tatoeba.org #9...         262   \n",
              "194512  CC-BY 2.0 (France) Attribution: tatoeba.org #2...         286   \n",
              "\n",
              "        length_tar  \n",
              "0                4  \n",
              "1                7  \n",
              "2                7  \n",
              "3                7  \n",
              "4                6  \n",
              "...            ...  \n",
              "194508         227  \n",
              "194509         263  \n",
              "194510         305  \n",
              "194511         325  \n",
              "194512         349  \n",
              "\n",
              "[194513 rows x 5 columns]"
            ],
            "text/html": [
              "\n",
              "  <div id=\"df-1c55eedc-5472-4510-ac5b-3d66c8e248c4\">\n",
              "    <div class=\"colab-df-container\">\n",
              "      <div>\n",
              "<style scoped>\n",
              "    .dataframe tbody tr th:only-of-type {\n",
              "        vertical-align: middle;\n",
              "    }\n",
              "\n",
              "    .dataframe tbody tr th {\n",
              "        vertical-align: top;\n",
              "    }\n",
              "\n",
              "    .dataframe thead th {\n",
              "        text-align: right;\n",
              "    }\n",
              "</style>\n",
              "<table border=\"1\" class=\"dataframe\">\n",
              "  <thead>\n",
              "    <tr style=\"text-align: right;\">\n",
              "      <th></th>\n",
              "      <th>src</th>\n",
              "      <th>tar</th>\n",
              "      <th>lic</th>\n",
              "      <th>length_src</th>\n",
              "      <th>length_tar</th>\n",
              "    </tr>\n",
              "  </thead>\n",
              "  <tbody>\n",
              "    <tr>\n",
              "      <th>0</th>\n",
              "      <td>Go.</td>\n",
              "      <td>Va !</td>\n",
              "      <td>CC-BY 2.0 (France) Attribution: tatoeba.org #2...</td>\n",
              "      <td>3</td>\n",
              "      <td>4</td>\n",
              "    </tr>\n",
              "    <tr>\n",
              "      <th>1</th>\n",
              "      <td>Go.</td>\n",
              "      <td>Marche.</td>\n",
              "      <td>CC-BY 2.0 (France) Attribution: tatoeba.org #2...</td>\n",
              "      <td>3</td>\n",
              "      <td>7</td>\n",
              "    </tr>\n",
              "    <tr>\n",
              "      <th>2</th>\n",
              "      <td>Go.</td>\n",
              "      <td>Bouge !</td>\n",
              "      <td>CC-BY 2.0 (France) Attribution: tatoeba.org #2...</td>\n",
              "      <td>3</td>\n",
              "      <td>7</td>\n",
              "    </tr>\n",
              "    <tr>\n",
              "      <th>3</th>\n",
              "      <td>Hi.</td>\n",
              "      <td>Salut !</td>\n",
              "      <td>CC-BY 2.0 (France) Attribution: tatoeba.org #5...</td>\n",
              "      <td>3</td>\n",
              "      <td>7</td>\n",
              "    </tr>\n",
              "    <tr>\n",
              "      <th>4</th>\n",
              "      <td>Hi.</td>\n",
              "      <td>Salut.</td>\n",
              "      <td>CC-BY 2.0 (France) Attribution: tatoeba.org #5...</td>\n",
              "      <td>3</td>\n",
              "      <td>6</td>\n",
              "    </tr>\n",
              "    <tr>\n",
              "      <th>...</th>\n",
              "      <td>...</td>\n",
              "      <td>...</td>\n",
              "      <td>...</td>\n",
              "      <td>...</td>\n",
              "      <td>...</td>\n",
              "    </tr>\n",
              "    <tr>\n",
              "      <th>194508</th>\n",
              "      <td>A carbon footprint is the amount of carbon dio...</td>\n",
              "      <td>Une empreinte carbone est la somme de pollutio...</td>\n",
              "      <td>CC-BY 2.0 (France) Attribution: tatoeba.org #1...</td>\n",
              "      <td>205</td>\n",
              "      <td>227</td>\n",
              "    </tr>\n",
              "    <tr>\n",
              "      <th>194509</th>\n",
              "      <td>Death is something that we're often discourage...</td>\n",
              "      <td>La mort est une chose qu'on nous décourage sou...</td>\n",
              "      <td>CC-BY 2.0 (France) Attribution: tatoeba.org #1...</td>\n",
              "      <td>216</td>\n",
              "      <td>263</td>\n",
              "    </tr>\n",
              "    <tr>\n",
              "      <th>194510</th>\n",
              "      <td>Since there are usually multiple websites on a...</td>\n",
              "      <td>Puisqu'il y a de multiples sites web sur chaqu...</td>\n",
              "      <td>CC-BY 2.0 (France) Attribution: tatoeba.org #9...</td>\n",
              "      <td>239</td>\n",
              "      <td>305</td>\n",
              "    </tr>\n",
              "    <tr>\n",
              "      <th>194511</th>\n",
              "      <td>If someone who doesn't know your background sa...</td>\n",
              "      <td>Si quelqu'un qui ne connaît pas vos antécédent...</td>\n",
              "      <td>CC-BY 2.0 (France) Attribution: tatoeba.org #9...</td>\n",
              "      <td>262</td>\n",
              "      <td>325</td>\n",
              "    </tr>\n",
              "    <tr>\n",
              "      <th>194512</th>\n",
              "      <td>It may be impossible to get a completely error...</td>\n",
              "      <td>Il est peut-être impossible d'obtenir un Corpu...</td>\n",
              "      <td>CC-BY 2.0 (France) Attribution: tatoeba.org #2...</td>\n",
              "      <td>286</td>\n",
              "      <td>349</td>\n",
              "    </tr>\n",
              "  </tbody>\n",
              "</table>\n",
              "<p>194513 rows × 5 columns</p>\n",
              "</div>\n",
              "      <button class=\"colab-df-convert\" onclick=\"convertToInteractive('df-1c55eedc-5472-4510-ac5b-3d66c8e248c4')\"\n",
              "              title=\"Convert this dataframe to an interactive table.\"\n",
              "              style=\"display:none;\">\n",
              "        \n",
              "  <svg xmlns=\"http://www.w3.org/2000/svg\" height=\"24px\"viewBox=\"0 0 24 24\"\n",
              "       width=\"24px\">\n",
              "    <path d=\"M0 0h24v24H0V0z\" fill=\"none\"/>\n",
              "    <path d=\"M18.56 5.44l.94 2.06.94-2.06 2.06-.94-2.06-.94-.94-2.06-.94 2.06-2.06.94zm-11 1L8.5 8.5l.94-2.06 2.06-.94-2.06-.94L8.5 2.5l-.94 2.06-2.06.94zm10 10l.94 2.06.94-2.06 2.06-.94-2.06-.94-.94-2.06-.94 2.06-2.06.94z\"/><path d=\"M17.41 7.96l-1.37-1.37c-.4-.4-.92-.59-1.43-.59-.52 0-1.04.2-1.43.59L10.3 9.45l-7.72 7.72c-.78.78-.78 2.05 0 2.83L4 21.41c.39.39.9.59 1.41.59.51 0 1.02-.2 1.41-.59l7.78-7.78 2.81-2.81c.8-.78.8-2.07 0-2.86zM5.41 20L4 18.59l7.72-7.72 1.47 1.35L5.41 20z\"/>\n",
              "  </svg>\n",
              "      </button>\n",
              "      \n",
              "  <style>\n",
              "    .colab-df-container {\n",
              "      display:flex;\n",
              "      flex-wrap:wrap;\n",
              "      gap: 12px;\n",
              "    }\n",
              "\n",
              "    .colab-df-convert {\n",
              "      background-color: #E8F0FE;\n",
              "      border: none;\n",
              "      border-radius: 50%;\n",
              "      cursor: pointer;\n",
              "      display: none;\n",
              "      fill: #1967D2;\n",
              "      height: 32px;\n",
              "      padding: 0 0 0 0;\n",
              "      width: 32px;\n",
              "    }\n",
              "\n",
              "    .colab-df-convert:hover {\n",
              "      background-color: #E2EBFA;\n",
              "      box-shadow: 0px 1px 2px rgba(60, 64, 67, 0.3), 0px 1px 3px 1px rgba(60, 64, 67, 0.15);\n",
              "      fill: #174EA6;\n",
              "    }\n",
              "\n",
              "    [theme=dark] .colab-df-convert {\n",
              "      background-color: #3B4455;\n",
              "      fill: #D2E3FC;\n",
              "    }\n",
              "\n",
              "    [theme=dark] .colab-df-convert:hover {\n",
              "      background-color: #434B5C;\n",
              "      box-shadow: 0px 1px 3px 1px rgba(0, 0, 0, 0.15);\n",
              "      filter: drop-shadow(0px 1px 2px rgba(0, 0, 0, 0.3));\n",
              "      fill: #FFFFFF;\n",
              "    }\n",
              "  </style>\n",
              "\n",
              "      <script>\n",
              "        const buttonEl =\n",
              "          document.querySelector('#df-1c55eedc-5472-4510-ac5b-3d66c8e248c4 button.colab-df-convert');\n",
              "        buttonEl.style.display =\n",
              "          google.colab.kernel.accessAllowed ? 'block' : 'none';\n",
              "\n",
              "        async function convertToInteractive(key) {\n",
              "          const element = document.querySelector('#df-1c55eedc-5472-4510-ac5b-3d66c8e248c4');\n",
              "          const dataTable =\n",
              "            await google.colab.kernel.invokeFunction('convertToInteractive',\n",
              "                                                     [key], {});\n",
              "          if (!dataTable) return;\n",
              "\n",
              "          const docLinkHtml = 'Like what you see? Visit the ' +\n",
              "            '<a target=\"_blank\" href=https://colab.research.google.com/notebooks/data_table.ipynb>data table notebook</a>'\n",
              "            + ' to learn more about interactive tables.';\n",
              "          element.innerHTML = '';\n",
              "          dataTable['output_type'] = 'display_data';\n",
              "          await google.colab.output.renderOutput(dataTable, element);\n",
              "          const docLink = document.createElement('div');\n",
              "          docLink.innerHTML = docLinkHtml;\n",
              "          element.appendChild(docLink);\n",
              "        }\n",
              "      </script>\n",
              "    </div>\n",
              "  </div>\n",
              "  "
            ]
          },
          "metadata": {},
          "execution_count": 6
        }
      ]
    },
    {
      "cell_type": "code",
      "source": [
        "print('src 평균: %.1f' %(lines.length_src.mean()))\n",
        "print('src 중앙값: ', lines.length_src.median())\n",
        "print('src 최대값: ', lines.length_src.max())\n",
        "lines.length_src.plot(kind='hist', bins=100)"
      ],
      "metadata": {
        "colab": {
          "base_uri": "https://localhost:8080/",
          "height": 338
        },
        "id": "t7inV2mc2LUG",
        "outputId": "12a7504b-e65c-4f87-836a-fd7057f907e6"
      },
      "execution_count": 7,
      "outputs": [
        {
          "output_type": "stream",
          "name": "stdout",
          "text": [
            "src 평균: 30.3\n",
            "src 중앙값:  28.0\n",
            "src 최대값:  286\n"
          ]
        },
        {
          "output_type": "execute_result",
          "data": {
            "text/plain": [
              "<matplotlib.axes._subplots.AxesSubplot at 0x7fe946d1ee10>"
            ]
          },
          "metadata": {},
          "execution_count": 7
        },
        {
          "output_type": "display_data",
          "data": {
            "text/plain": [
              "<Figure size 432x288 with 1 Axes>"
            ],
            "image/png": "[encoded data removed]"
          },
          "metadata": {
            "needs_background": "light"
          }
        }
      ]
    },
    {
      "cell_type": "code",
      "source": [
        "print('tar 평균: %.1f' %(lines.length_tar.mean()))\n",
        "print('tar 중앙값: ', lines.length_tar.median())\n",
        "print('tar 최대값: ', lines.length_tar.max())\n",
        "lines.length_tar.plot(kind='hist', bins=100)"
      ],
      "metadata": {
        "colab": {
          "base_uri": "https://localhost:8080/",
          "height": 338
        },
        "id": "wtUsrS352o70",
        "outputId": "ed28cf22-482a-4ae8-c4ad-3a634dcc7fdf"
      },
      "execution_count": 8,
      "outputs": [
        {
          "output_type": "stream",
          "name": "stdout",
          "text": [
            "tar 평균: 35.8\n",
            "tar 중앙값:  33.0\n",
            "tar 최대값:  349\n"
          ]
        },
        {
          "output_type": "execute_result",
          "data": {
            "text/plain": [
              "<matplotlib.axes._subplots.AxesSubplot at 0x7fe946ab68d0>"
            ]
          },
          "metadata": {},
          "execution_count": 8
        },
        {
          "output_type": "display_data",
          "data": {
            "text/plain": [
              "<Figure size 432x288 with 1 Axes>"
            ],
            "image/png": "[encoded data removed]"
          },
          "metadata": {
            "needs_background": "light"
          }
        }
      ]
    },
    {
      "cell_type": "code",
      "source": [
        "lines.sample(10)"
      ],
      "metadata": {
        "colab": {
          "base_uri": "https://localhost:8080/",
          "height": 754
        },
        "id": "fDOPOiPz3KdR",
        "outputId": "72b04a99-1c3a-4e36-d74d-b978f0c09235"
      },
      "execution_count": 9,
      "outputs": [
        {
          "output_type": "execute_result",
          "data": {
            "text/plain": [
              "                                                     src  \\\n",
              "151521            Don't forget to change the cat litter.   \n",
              "174118    Camels are often used to travel in the desert.   \n",
              "148730             I watched TV for two hours yesterday.   \n",
              "45944                              We're not your enemy.   \n",
              "94695                       I want you to be my partner.   \n",
              "157971           They knew how much danger they'd be in.   \n",
              "124048                  She went with him to the movies.   \n",
              "178207  If Tom has a problem with me, he should tell me.   \n",
              "135958                They accused him of telling a lie.   \n",
              "169437       There are way too many people in this room.   \n",
              "\n",
              "                                                      tar  \\\n",
              "151521        N'oublie pas de changer la litière du chat.   \n",
              "174118  Les dromadaires sont souvent utilisés pour voy...   \n",
              "148730  J'ai regardé la télévision pendant deux heures...   \n",
              "45944                     Nous ne sommes pas tes ennemis.   \n",
              "94695                  Je veux que tu sois mon compagnon.   \n",
              "157971    Elles savaient quels dangers elles encouraient.   \n",
              "124048              Elle s'est rendue avec lui au cinéma.   \n",
              "178207   Si Tom a un problème avec moi, qu'il me le dise.   \n",
              "135958              Ils l'accusèrent de dire un mensonge.   \n",
              "169437  Il y a beaucoup trop de personnes dans cette p...   \n",
              "\n",
              "                                                      lic  length_src  \\\n",
              "151521  CC-BY 2.0 (France) Attribution: tatoeba.org #5...          38   \n",
              "174118  CC-BY 2.0 (France) Attribution: tatoeba.org #2...          46   \n",
              "148730  CC-BY 2.0 (France) Attribution: tatoeba.org #1...          37   \n",
              "45944   CC-BY 2.0 (France) Attribution: tatoeba.org #2...          21   \n",
              "94695   CC-BY 2.0 (France) Attribution: tatoeba.org #1...          28   \n",
              "157971  CC-BY 2.0 (France) Attribution: tatoeba.org #3...          39   \n",
              "124048  CC-BY 2.0 (France) Attribution: tatoeba.org #8...          32   \n",
              "178207  CC-BY 2.0 (France) Attribution: tatoeba.org #2...          48   \n",
              "135958  CC-BY 2.0 (France) Attribution: tatoeba.org #3...          34   \n",
              "169437  CC-BY 2.0 (France) Attribution: tatoeba.org #5...          43   \n",
              "\n",
              "        length_tar  \n",
              "151521          43  \n",
              "174118          66  \n",
              "148730          53  \n",
              "45944           31  \n",
              "94695           34  \n",
              "157971          47  \n",
              "124048          37  \n",
              "178207          48  \n",
              "135958          37  \n",
              "169437          51  "
            ],
            "text/html": [
              "\n",
              "  <div id=\"df-8b3ad19e-7c11-4c4a-8e01-7a18f93521e0\">\n",
              "    <div class=\"colab-df-container\">\n",
              "      <div>\n",
              "<style scoped>\n",
              "    .dataframe tbody tr th:only-of-type {\n",
              "        vertical-align: middle;\n",
              "    }\n",
              "\n",
              "    .dataframe tbody tr th {\n",
              "        vertical-align: top;\n",
              "    }\n",
              "\n",
              "    .dataframe thead th {\n",
              "        text-align: right;\n",
              "    }\n",
              "</style>\n",
              "<table border=\"1\" class=\"dataframe\">\n",
              "  <thead>\n",
              "    <tr style=\"text-align: right;\">\n",
              "      <th></th>\n",
              "      <th>src</th>\n",
              "      <th>tar</th>\n",
              "      <th>lic</th>\n",
              "      <th>length_src</th>\n",
              "      <th>length_tar</th>\n",
              "    </tr>\n",
              "  </thead>\n",
              "  <tbody>\n",
              "    <tr>\n",
              "      <th>151521</th>\n",
              "      <td>Don't forget to change the cat litter.</td>\n",
              "      <td>N'oublie pas de changer la litière du chat.</td>\n",
              "      <td>CC-BY 2.0 (France) Attribution: tatoeba.org #5...</td>\n",
              "      <td>38</td>\n",
              "      <td>43</td>\n",
              "    </tr>\n",
              "    <tr>\n",
              "      <th>174118</th>\n",
              "      <td>Camels are often used to travel in the desert.</td>\n",
              "      <td>Les dromadaires sont souvent utilisés pour voy...</td>\n",
              "      <td>CC-BY 2.0 (France) Attribution: tatoeba.org #2...</td>\n",
              "      <td>46</td>\n",
              "      <td>66</td>\n",
              "    </tr>\n",
              "    <tr>\n",
              "      <th>148730</th>\n",
              "      <td>I watched TV for two hours yesterday.</td>\n",
              "      <td>J'ai regardé la télévision pendant deux heures...</td>\n",
              "      <td>CC-BY 2.0 (France) Attribution: tatoeba.org #1...</td>\n",
              "      <td>37</td>\n",
              "      <td>53</td>\n",
              "    </tr>\n",
              "    <tr>\n",
              "      <th>45944</th>\n",
              "      <td>We're not your enemy.</td>\n",
              "      <td>Nous ne sommes pas tes ennemis.</td>\n",
              "      <td>CC-BY 2.0 (France) Attribution: tatoeba.org #2...</td>\n",
              "      <td>21</td>\n",
              "      <td>31</td>\n",
              "    </tr>\n",
              "    <tr>\n",
              "      <th>94695</th>\n",
              "      <td>I want you to be my partner.</td>\n",
              "      <td>Je veux que tu sois mon compagnon.</td>\n",
              "      <td>CC-BY 2.0 (France) Attribution: tatoeba.org #1...</td>\n",
              "      <td>28</td>\n",
              "      <td>34</td>\n",
              "    </tr>\n",
              "    <tr>\n",
              "      <th>157971</th>\n",
              "      <td>They knew how much danger they'd be in.</td>\n",
              "      <td>Elles savaient quels dangers elles encouraient.</td>\n",
              "      <td>CC-BY 2.0 (France) Attribution: tatoeba.org #3...</td>\n",
              "      <td>39</td>\n",
              "      <td>47</td>\n",
              "    </tr>\n",
              "    <tr>\n",
              "      <th>124048</th>\n",
              "      <td>She went with him to the movies.</td>\n",
              "      <td>Elle s'est rendue avec lui au cinéma.</td>\n",
              "      <td>CC-BY 2.0 (France) Attribution: tatoeba.org #8...</td>\n",
              "      <td>32</td>\n",
              "      <td>37</td>\n",
              "    </tr>\n",
              "    <tr>\n",
              "      <th>178207</th>\n",
              "      <td>If Tom has a problem with me, he should tell me.</td>\n",
              "      <td>Si Tom a un problème avec moi, qu'il me le dise.</td>\n",
              "      <td>CC-BY 2.0 (France) Attribution: tatoeba.org #2...</td>\n",
              "      <td>48</td>\n",
              "      <td>48</td>\n",
              "    </tr>\n",
              "    <tr>\n",
              "      <th>135958</th>\n",
              "      <td>They accused him of telling a lie.</td>\n",
              "      <td>Ils l'accusèrent de dire un mensonge.</td>\n",
              "      <td>CC-BY 2.0 (France) Attribution: tatoeba.org #3...</td>\n",
              "      <td>34</td>\n",
              "      <td>37</td>\n",
              "    </tr>\n",
              "    <tr>\n",
              "      <th>169437</th>\n",
              "      <td>There are way too many people in this room.</td>\n",
              "      <td>Il y a beaucoup trop de personnes dans cette p...</td>\n",
              "      <td>CC-BY 2.0 (France) Attribution: tatoeba.org #5...</td>\n",
              "      <td>43</td>\n",
              "      <td>51</td>\n",
              "    </tr>\n",
              "  </tbody>\n",
              "</table>\n",
              "</div>\n",
              "      <button class=\"colab-df-convert\" onclick=\"convertToInteractive('df-8b3ad19e-7c11-4c4a-8e01-7a18f93521e0')\"\n",
              "              title=\"Convert this dataframe to an interactive table.\"\n",
              "              style=\"display:none;\">\n",
              "        \n",
              "  <svg xmlns=\"http://www.w3.org/2000/svg\" height=\"24px\"viewBox=\"0 0 24 24\"\n",
              "       width=\"24px\">\n",
              "    <path d=\"M0 0h24v24H0V0z\" fill=\"none\"/>\n",
              "    <path d=\"M18.56 5.44l.94 2.06.94-2.06 2.06-.94-2.06-.94-.94-2.06-.94 2.06-2.06.94zm-11 1L8.5 8.5l.94-2.06 2.06-.94-2.06-.94L8.5 2.5l-.94 2.06-2.06.94zm10 10l.94 2.06.94-2.06 2.06-.94-2.06-.94-.94-2.06-.94 2.06-2.06.94z\"/><path d=\"M17.41 7.96l-1.37-1.37c-.4-.4-.92-.59-1.43-.59-.52 0-1.04.2-1.43.59L10.3 9.45l-7.72 7.72c-.78.78-.78 2.05 0 2.83L4 21.41c.39.39.9.59 1.41.59.51 0 1.02-.2 1.41-.59l7.78-7.78 2.81-2.81c.8-.78.8-2.07 0-2.86zM5.41 20L4 18.59l7.72-7.72 1.47 1.35L5.41 20z\"/>\n",
              "  </svg>\n",
              "      </button>\n",
              "      \n",
              "  <style>\n",
              "    .colab-df-container {\n",
              "      display:flex;\n",
              "      flex-wrap:wrap;\n",
              "      gap: 12px;\n",
              "    }\n",
              "\n",
              "    .colab-df-convert {\n",
              "      background-color: #E8F0FE;\n",
              "      border: none;\n",
              "      border-radius: 50%;\n",
              "      cursor: pointer;\n",
              "      display: none;\n",
              "      fill: #1967D2;\n",
              "      height: 32px;\n",
              "      padding: 0 0 0 0;\n",
              "      width: 32px;\n",
              "    }\n",
              "\n",
              "    .colab-df-convert:hover {\n",
              "      background-color: #E2EBFA;\n",
              "      box-shadow: 0px 1px 2px rgba(60, 64, 67, 0.3), 0px 1px 3px 1px rgba(60, 64, 67, 0.15);\n",
              "      fill: #174EA6;\n",
              "    }\n",
              "\n",
              "    [theme=dark] .colab-df-convert {\n",
              "      background-color: #3B4455;\n",
              "      fill: #D2E3FC;\n",
              "    }\n",
              "\n",
              "    [theme=dark] .colab-df-convert:hover {\n",
              "      background-color: #434B5C;\n",
              "      box-shadow: 0px 1px 3px 1px rgba(0, 0, 0, 0.15);\n",
              "      filter: drop-shadow(0px 1px 2px rgba(0, 0, 0, 0.3));\n",
              "      fill: #FFFFFF;\n",
              "    }\n",
              "  </style>\n",
              "\n",
              "      <script>\n",
              "        const buttonEl =\n",
              "          document.querySelector('#df-8b3ad19e-7c11-4c4a-8e01-7a18f93521e0 button.colab-df-convert');\n",
              "        buttonEl.style.display =\n",
              "          google.colab.kernel.accessAllowed ? 'block' : 'none';\n",
              "\n",
              "        async function convertToInteractive(key) {\n",
              "          const element = document.querySelector('#df-8b3ad19e-7c11-4c4a-8e01-7a18f93521e0');\n",
              "          const dataTable =\n",
              "            await google.colab.kernel.invokeFunction('convertToInteractive',\n",
              "                                                     [key], {});\n",
              "          if (!dataTable) return;\n",
              "\n",
              "          const docLinkHtml = 'Like what you see? Visit the ' +\n",
              "            '<a target=\"_blank\" href=https://colab.research.google.com/notebooks/data_table.ipynb>data table notebook</a>'\n",
              "            + ' to learn more about interactive tables.';\n",
              "          element.innerHTML = '';\n",
              "          dataTable['output_type'] = 'display_data';\n",
              "          await google.colab.output.renderOutput(dataTable, element);\n",
              "          const docLink = document.createElement('div');\n",
              "          docLink.innerHTML = docLinkHtml;\n",
              "          element.appendChild(docLink);\n",
              "        }\n",
              "      </script>\n",
              "    </div>\n",
              "  </div>\n",
              "  "
            ]
          },
          "metadata": {},
          "execution_count": 9
        }
      ]
    },
    {
      "cell_type": "code",
      "source": [
        "lines_30 = lines.loc[lines.length_src <= 30]"
      ],
      "metadata": {
        "id": "xv_hXovW3U0U"
      },
      "execution_count": 10,
      "outputs": []
    },
    {
      "cell_type": "code",
      "source": [
        "lines_30.shape"
      ],
      "metadata": {
        "colab": {
          "base_uri": "https://localhost:8080/"
        },
        "id": "o34wsXTL6_H7",
        "outputId": "c29d1720-f1be-4530-bca3-38c472d8c66d"
      },
      "execution_count": 11,
      "outputs": [
        {
          "output_type": "execute_result",
          "data": {
            "text/plain": [
              "(113350, 5)"
            ]
          },
          "metadata": {},
          "execution_count": 11
        }
      ]
    },
    {
      "cell_type": "code",
      "source": [
        "lines_30 = lines_30.reset_index()"
      ],
      "metadata": {
        "id": "7Bm22xDi7Gs0"
      },
      "execution_count": 12,
      "outputs": []
    },
    {
      "cell_type": "code",
      "source": [
        "lines_30"
      ],
      "metadata": {
        "colab": {
          "base_uri": "https://localhost:8080/",
          "height": 815
        },
        "id": "KUfo84rP7WpB",
        "outputId": "d56d7ecd-aba3-48af-9867-bc88763d405b"
      },
      "execution_count": 13,
      "outputs": [
        {
          "output_type": "execute_result",
          "data": {
            "text/plain": [
              "         index                             src  \\\n",
              "0            0                             Go.   \n",
              "1            1                             Go.   \n",
              "2            2                             Go.   \n",
              "3            3                             Hi.   \n",
              "4            4                             Hi.   \n",
              "...        ...                             ...   \n",
              "113345  119977  Do you like cake? \"Yes, I do.\"   \n",
              "113346  119978  Have you eaten? \"Yes, I have.\"   \n",
              "113347  119979  Have you eaten? \"Yes, I have.\"   \n",
              "113348  119980  How's it going? \"Not too bad.\"   \n",
              "113349  119981  Who is it? \"It's your mother.\"   \n",
              "\n",
              "                                                 tar  \\\n",
              "0                                               Va !   \n",
              "1                                            Marche.   \n",
              "2                                            Bouge !   \n",
              "3                                            Salut !   \n",
              "4                                             Salut.   \n",
              "...                                              ...   \n",
              "113345  «Aimez-vous les gâteaux ?» «Oui, j'aime ça.»   \n",
              "113346                    « As-tu mangé ? » « Oui. »   \n",
              "113347                « Avez-vous mangé ? » « Oui. »   \n",
              "113348         « Comment ça va ? » « Pas trop mal. »   \n",
              "113349           « Qui est-ce ? » « C'est ta mère. »   \n",
              "\n",
              "                                                      lic  length_src  \\\n",
              "0       CC-BY 2.0 (France) Attribution: tatoeba.org #2...           3   \n",
              "1       CC-BY 2.0 (France) Attribution: tatoeba.org #2...           3   \n",
              "2       CC-BY 2.0 (France) Attribution: tatoeba.org #2...           3   \n",
              "3       CC-BY 2.0 (France) Attribution: tatoeba.org #5...           3   \n",
              "4       CC-BY 2.0 (France) Attribution: tatoeba.org #5...           3   \n",
              "...                                                   ...         ...   \n",
              "113345  CC-BY 2.0 (France) Attribution: tatoeba.org #7...          30   \n",
              "113346  CC-BY 2.0 (France) Attribution: tatoeba.org #6...          30   \n",
              "113347  CC-BY 2.0 (France) Attribution: tatoeba.org #6...          30   \n",
              "113348  CC-BY 2.0 (France) Attribution: tatoeba.org #4...          30   \n",
              "113349  CC-BY 2.0 (France) Attribution: tatoeba.org #1...          30   \n",
              "\n",
              "        length_tar  \n",
              "0                4  \n",
              "1                7  \n",
              "2                7  \n",
              "3                7  \n",
              "4                6  \n",
              "...            ...  \n",
              "113345          44  \n",
              "113346          26  \n",
              "113347          30  \n",
              "113348          37  \n",
              "113349          35  \n",
              "\n",
              "[113350 rows x 6 columns]"
            ],
            "text/html": [
              "\n",
              "  <div id=\"df-4d8dfacd-caf0-434b-b5a0-a526260e45f2\">\n",
              "    <div class=\"colab-df-container\">\n",
              "      <div>\n",
              "<style scoped>\n",
              "    .dataframe tbody tr th:only-of-type {\n",
              "        vertical-align: middle;\n",
              "    }\n",
              "\n",
              "    .dataframe tbody tr th {\n",
              "        vertical-align: top;\n",
              "    }\n",
              "\n",
              "    .dataframe thead th {\n",
              "        text-align: right;\n",
              "    }\n",
              "</style>\n",
              "<table border=\"1\" class=\"dataframe\">\n",
              "  <thead>\n",
              "    <tr style=\"text-align: right;\">\n",
              "      <th></th>\n",
              "      <th>index</th>\n",
              "      <th>src</th>\n",
              "      <th>tar</th>\n",
              "      <th>lic</th>\n",
              "      <th>length_src</th>\n",
              "      <th>length_tar</th>\n",
              "    </tr>\n",
              "  </thead>\n",
              "  <tbody>\n",
              "    <tr>\n",
              "      <th>0</th>\n",
              "      <td>0</td>\n",
              "      <td>Go.</td>\n",
              "      <td>Va !</td>\n",
              "      <td>CC-BY 2.0 (France) Attribution: tatoeba.org #2...</td>\n",
              "      <td>3</td>\n",
              "      <td>4</td>\n",
              "    </tr>\n",
              "    <tr>\n",
              "      <th>1</th>\n",
              "      <td>1</td>\n",
              "      <td>Go.</td>\n",
              "      <td>Marche.</td>\n",
              "      <td>CC-BY 2.0 (France) Attribution: tatoeba.org #2...</td>\n",
              "      <td>3</td>\n",
              "      <td>7</td>\n",
              "    </tr>\n",
              "    <tr>\n",
              "      <th>2</th>\n",
              "      <td>2</td>\n",
              "      <td>Go.</td>\n",
              "      <td>Bouge !</td>\n",
              "      <td>CC-BY 2.0 (France) Attribution: tatoeba.org #2...</td>\n",
              "      <td>3</td>\n",
              "      <td>7</td>\n",
              "    </tr>\n",
              "    <tr>\n",
              "      <th>3</th>\n",
              "      <td>3</td>\n",
              "      <td>Hi.</td>\n",
              "      <td>Salut !</td>\n",
              "      <td>CC-BY 2.0 (France) Attribution: tatoeba.org #5...</td>\n",
              "      <td>3</td>\n",
              "      <td>7</td>\n",
              "    </tr>\n",
              "    <tr>\n",
              "      <th>4</th>\n",
              "      <td>4</td>\n",
              "      <td>Hi.</td>\n",
              "      <td>Salut.</td>\n",
              "      <td>CC-BY 2.0 (France) Attribution: tatoeba.org #5...</td>\n",
              "      <td>3</td>\n",
              "      <td>6</td>\n",
              "    </tr>\n",
              "    <tr>\n",
              "      <th>...</th>\n",
              "      <td>...</td>\n",
              "      <td>...</td>\n",
              "      <td>...</td>\n",
              "      <td>...</td>\n",
              "      <td>...</td>\n",
              "      <td>...</td>\n",
              "    </tr>\n",
              "    <tr>\n",
              "      <th>113345</th>\n",
              "      <td>119977</td>\n",
              "      <td>Do you like cake? \"Yes, I do.\"</td>\n",
              "      <td>«Aimez-vous les gâteaux ?» «Oui, j'aime ça.»</td>\n",
              "      <td>CC-BY 2.0 (France) Attribution: tatoeba.org #7...</td>\n",
              "      <td>30</td>\n",
              "      <td>44</td>\n",
              "    </tr>\n",
              "    <tr>\n",
              "      <th>113346</th>\n",
              "      <td>119978</td>\n",
              "      <td>Have you eaten? \"Yes, I have.\"</td>\n",
              "      <td>« As-tu mangé ? » « Oui. »</td>\n",
              "      <td>CC-BY 2.0 (France) Attribution: tatoeba.org #6...</td>\n",
              "      <td>30</td>\n",
              "      <td>26</td>\n",
              "    </tr>\n",
              "    <tr>\n",
              "      <th>113347</th>\n",
              "      <td>119979</td>\n",
              "      <td>Have you eaten? \"Yes, I have.\"</td>\n",
              "      <td>« Avez-vous mangé ? » « Oui. »</td>\n",
              "      <td>CC-BY 2.0 (France) Attribution: tatoeba.org #6...</td>\n",
              "      <td>30</td>\n",
              "      <td>30</td>\n",
              "    </tr>\n",
              "    <tr>\n",
              "      <th>113348</th>\n",
              "      <td>119980</td>\n",
              "      <td>How's it going? \"Not too bad.\"</td>\n",
              "      <td>« Comment ça va ? » « Pas trop mal. »</td>\n",
              "      <td>CC-BY 2.0 (France) Attribution: tatoeba.org #4...</td>\n",
              "      <td>30</td>\n",
              "      <td>37</td>\n",
              "    </tr>\n",
              "    <tr>\n",
              "      <th>113349</th>\n",
              "      <td>119981</td>\n",
              "      <td>Who is it? \"It's your mother.\"</td>\n",
              "      <td>« Qui est-ce ? » « C'est ta mère. »</td>\n",
              "      <td>CC-BY 2.0 (France) Attribution: tatoeba.org #1...</td>\n",
              "      <td>30</td>\n",
              "      <td>35</td>\n",
              "    </tr>\n",
              "  </tbody>\n",
              "</table>\n",
              "<p>113350 rows × 6 columns</p>\n",
              "</div>\n",
              "      <button class=\"colab-df-convert\" onclick=\"convertToInteractive('df-4d8dfacd-caf0-434b-b5a0-a526260e45f2')\"\n",
              "              title=\"Convert this dataframe to an interactive table.\"\n",
              "              style=\"display:none;\">\n",
              "        \n",
              "  <svg xmlns=\"http://www.w3.org/2000/svg\" height=\"24px\"viewBox=\"0 0 24 24\"\n",
              "       width=\"24px\">\n",
              "    <path d=\"M0 0h24v24H0V0z\" fill=\"none\"/>\n",
              "    <path d=\"M18.56 5.44l.94 2.06.94-2.06 2.06-.94-2.06-.94-.94-2.06-.94 2.06-2.06.94zm-11 1L8.5 8.5l.94-2.06 2.06-.94-2.06-.94L8.5 2.5l-.94 2.06-2.06.94zm10 10l.94 2.06.94-2.06 2.06-.94-2.06-.94-.94-2.06-.94 2.06-2.06.94z\"/><path d=\"M17.41 7.96l-1.37-1.37c-.4-.4-.92-.59-1.43-.59-.52 0-1.04.2-1.43.59L10.3 9.45l-7.72 7.72c-.78.78-.78 2.05 0 2.83L4 21.41c.39.39.9.59 1.41.59.51 0 1.02-.2 1.41-.59l7.78-7.78 2.81-2.81c.8-.78.8-2.07 0-2.86zM5.41 20L4 18.59l7.72-7.72 1.47 1.35L5.41 20z\"/>\n",
              "  </svg>\n",
              "      </button>\n",
              "      \n",
              "  <style>\n",
              "    .colab-df-container {\n",
              "      display:flex;\n",
              "      flex-wrap:wrap;\n",
              "      gap: 12px;\n",
              "    }\n",
              "\n",
              "    .colab-df-convert {\n",
              "      background-color: #E8F0FE;\n",
              "      border: none;\n",
              "      border-radius: 50%;\n",
              "      cursor: pointer;\n",
              "      display: none;\n",
              "      fill: #1967D2;\n",
              "      height: 32px;\n",
              "      padding: 0 0 0 0;\n",
              "      width: 32px;\n",
              "    }\n",
              "\n",
              "    .colab-df-convert:hover {\n",
              "      background-color: #E2EBFA;\n",
              "      box-shadow: 0px 1px 2px rgba(60, 64, 67, 0.3), 0px 1px 3px 1px rgba(60, 64, 67, 0.15);\n",
              "      fill: #174EA6;\n",
              "    }\n",
              "\n",
              "    [theme=dark] .colab-df-convert {\n",
              "      background-color: #3B4455;\n",
              "      fill: #D2E3FC;\n",
              "    }\n",
              "\n",
              "    [theme=dark] .colab-df-convert:hover {\n",
              "      background-color: #434B5C;\n",
              "      box-shadow: 0px 1px 3px 1px rgba(0, 0, 0, 0.15);\n",
              "      filter: drop-shadow(0px 1px 2px rgba(0, 0, 0, 0.3));\n",
              "      fill: #FFFFFF;\n",
              "    }\n",
              "  </style>\n",
              "\n",
              "      <script>\n",
              "        const buttonEl =\n",
              "          document.querySelector('#df-4d8dfacd-caf0-434b-b5a0-a526260e45f2 button.colab-df-convert');\n",
              "        buttonEl.style.display =\n",
              "          google.colab.kernel.accessAllowed ? 'block' : 'none';\n",
              "\n",
              "        async function convertToInteractive(key) {\n",
              "          const element = document.querySelector('#df-4d8dfacd-caf0-434b-b5a0-a526260e45f2');\n",
              "          const dataTable =\n",
              "            await google.colab.kernel.invokeFunction('convertToInteractive',\n",
              "                                                     [key], {});\n",
              "          if (!dataTable) return;\n",
              "\n",
              "          const docLinkHtml = 'Like what you see? Visit the ' +\n",
              "            '<a target=\"_blank\" href=https://colab.research.google.com/notebooks/data_table.ipynb>data table notebook</a>'\n",
              "            + ' to learn more about interactive tables.';\n",
              "          element.innerHTML = '';\n",
              "          dataTable['output_type'] = 'display_data';\n",
              "          await google.colab.output.renderOutput(dataTable, element);\n",
              "          const docLink = document.createElement('div');\n",
              "          docLink.innerHTML = docLinkHtml;\n",
              "          element.appendChild(docLink);\n",
              "        }\n",
              "      </script>\n",
              "    </div>\n",
              "  </div>\n",
              "  "
            ]
          },
          "metadata": {},
          "execution_count": 13
        }
      ]
    },
    {
      "cell_type": "code",
      "source": [
        "lines_30.columns"
      ],
      "metadata": {
        "colab": {
          "base_uri": "https://localhost:8080/"
        },
        "id": "jUe9gLXZ7cOS",
        "outputId": "9bf66969-bc5e-4ab5-e6ae-699762d6aabc"
      },
      "execution_count": 14,
      "outputs": [
        {
          "output_type": "execute_result",
          "data": {
            "text/plain": [
              "Index(['index', 'src', 'tar', 'lic', 'length_src', 'length_tar'], dtype='object')"
            ]
          },
          "metadata": {},
          "execution_count": 14
        }
      ]
    },
    {
      "cell_type": "code",
      "source": [
        "lines_30.drop(['index', 'lic', 'length_src', 'length_tar'], axis=1, inplace=True)"
      ],
      "metadata": {
        "id": "5LfMX8HE7hCc"
      },
      "execution_count": 15,
      "outputs": []
    },
    {
      "cell_type": "code",
      "source": [
        "lines_30.sample(10)"
      ],
      "metadata": {
        "colab": {
          "base_uri": "https://localhost:8080/",
          "height": 363
        },
        "id": "lhvIykor7s1s",
        "outputId": "6aeb0605-80d3-40c1-d639-f50bda56b943"
      },
      "execution_count": 16,
      "outputs": [
        {
          "output_type": "execute_result",
          "data": {
            "text/plain": [
              "                                src  \\\n",
              "22274             You're very good.   \n",
              "21804             Who's the author?   \n",
              "97182  Those were his actual words.   \n",
              "37501          She is hard on them.   \n",
              "19956             People are dying.   \n",
              "78699    I realized I couldn't win.   \n",
              "67214      We're having a barbecue.   \n",
              "63223      I have an older brother.   \n",
              "33756           You're out of luck.   \n",
              "33401           You can rely on me.   \n",
              "\n",
              "                                                     tar  \n",
              "22274                                  Tu es très bonne.  \n",
              "21804                                 Qui est l'auteur ?  \n",
              "97182                     Ce furent ses paroles exactes.  \n",
              "37501                            Elle est dure avec eux.  \n",
              "19956                                  Des gens meurent.  \n",
              "78699  J'ai pris conscience que je ne pouvais l'empor...  \n",
              "67214           Nous faisons des grillades en ce moment.  \n",
              "63223                                J'ai un frère aîné.  \n",
              "33756                             Ta chance est épuisée.  \n",
              "33401                        Tu peux me faire confiance.  "
            ],
            "text/html": [
              "\n",
              "  <div id=\"df-e4a54d21-f5ec-48a0-86fd-149292b1c84a\">\n",
              "    <div class=\"colab-df-container\">\n",
              "      <div>\n",
              "<style scoped>\n",
              "    .dataframe tbody tr th:only-of-type {\n",
              "        vertical-align: middle;\n",
              "    }\n",
              "\n",
              "    .dataframe tbody tr th {\n",
              "        vertical-align: top;\n",
              "    }\n",
              "\n",
              "    .dataframe thead th {\n",
              "        text-align: right;\n",
              "    }\n",
              "</style>\n",
              "<table border=\"1\" class=\"dataframe\">\n",
              "  <thead>\n",
              "    <tr style=\"text-align: right;\">\n",
              "      <th></th>\n",
              "      <th>src</th>\n",
              "      <th>tar</th>\n",
              "    </tr>\n",
              "  </thead>\n",
              "  <tbody>\n",
              "    <tr>\n",
              "      <th>22274</th>\n",
              "      <td>You're very good.</td>\n",
              "      <td>Tu es très bonne.</td>\n",
              "    </tr>\n",
              "    <tr>\n",
              "      <th>21804</th>\n",
              "      <td>Who's the author?</td>\n",
              "      <td>Qui est l'auteur ?</td>\n",
              "    </tr>\n",
              "    <tr>\n",
              "      <th>97182</th>\n",
              "      <td>Those were his actual words.</td>\n",
              "      <td>Ce furent ses paroles exactes.</td>\n",
              "    </tr>\n",
              "    <tr>\n",
              "      <th>37501</th>\n",
              "      <td>She is hard on them.</td>\n",
              "      <td>Elle est dure avec eux.</td>\n",
              "    </tr>\n",
              "    <tr>\n",
              "      <th>19956</th>\n",
              "      <td>People are dying.</td>\n",
              "      <td>Des gens meurent.</td>\n",
              "    </tr>\n",
              "    <tr>\n",
              "      <th>78699</th>\n",
              "      <td>I realized I couldn't win.</td>\n",
              "      <td>J'ai pris conscience que je ne pouvais l'empor...</td>\n",
              "    </tr>\n",
              "    <tr>\n",
              "      <th>67214</th>\n",
              "      <td>We're having a barbecue.</td>\n",
              "      <td>Nous faisons des grillades en ce moment.</td>\n",
              "    </tr>\n",
              "    <tr>\n",
              "      <th>63223</th>\n",
              "      <td>I have an older brother.</td>\n",
              "      <td>J'ai un frère aîné.</td>\n",
              "    </tr>\n",
              "    <tr>\n",
              "      <th>33756</th>\n",
              "      <td>You're out of luck.</td>\n",
              "      <td>Ta chance est épuisée.</td>\n",
              "    </tr>\n",
              "    <tr>\n",
              "      <th>33401</th>\n",
              "      <td>You can rely on me.</td>\n",
              "      <td>Tu peux me faire confiance.</td>\n",
              "    </tr>\n",
              "  </tbody>\n",
              "</table>\n",
              "</div>\n",
              "      <button class=\"colab-df-convert\" onclick=\"convertToInteractive('df-e4a54d21-f5ec-48a0-86fd-149292b1c84a')\"\n",
              "              title=\"Convert this dataframe to an interactive table.\"\n",
              "              style=\"display:none;\">\n",
              "        \n",
              "  <svg xmlns=\"http://www.w3.org/2000/svg\" height=\"24px\"viewBox=\"0 0 24 24\"\n",
              "       width=\"24px\">\n",
              "    <path d=\"M0 0h24v24H0V0z\" fill=\"none\"/>\n",
              "    <path d=\"M18.56 5.44l.94 2.06.94-2.06 2.06-.94-2.06-.94-.94-2.06-.94 2.06-2.06.94zm-11 1L8.5 8.5l.94-2.06 2.06-.94-2.06-.94L8.5 2.5l-.94 2.06-2.06.94zm10 10l.94 2.06.94-2.06 2.06-.94-2.06-.94-.94-2.06-.94 2.06-2.06.94z\"/><path d=\"M17.41 7.96l-1.37-1.37c-.4-.4-.92-.59-1.43-.59-.52 0-1.04.2-1.43.59L10.3 9.45l-7.72 7.72c-.78.78-.78 2.05 0 2.83L4 21.41c.39.39.9.59 1.41.59.51 0 1.02-.2 1.41-.59l7.78-7.78 2.81-2.81c.8-.78.8-2.07 0-2.86zM5.41 20L4 18.59l7.72-7.72 1.47 1.35L5.41 20z\"/>\n",
              "  </svg>\n",
              "      </button>\n",
              "      \n",
              "  <style>\n",
              "    .colab-df-container {\n",
              "      display:flex;\n",
              "      flex-wrap:wrap;\n",
              "      gap: 12px;\n",
              "    }\n",
              "\n",
              "    .colab-df-convert {\n",
              "      background-color: #E8F0FE;\n",
              "      border: none;\n",
              "      border-radius: 50%;\n",
              "      cursor: pointer;\n",
              "      display: none;\n",
              "      fill: #1967D2;\n",
              "      height: 32px;\n",
              "      padding: 0 0 0 0;\n",
              "      width: 32px;\n",
              "    }\n",
              "\n",
              "    .colab-df-convert:hover {\n",
              "      background-color: #E2EBFA;\n",
              "      box-shadow: 0px 1px 2px rgba(60, 64, 67, 0.3), 0px 1px 3px 1px rgba(60, 64, 67, 0.15);\n",
              "      fill: #174EA6;\n",
              "    }\n",
              "\n",
              "    [theme=dark] .colab-df-convert {\n",
              "      background-color: #3B4455;\n",
              "      fill: #D2E3FC;\n",
              "    }\n",
              "\n",
              "    [theme=dark] .colab-df-convert:hover {\n",
              "      background-color: #434B5C;\n",
              "      box-shadow: 0px 1px 3px 1px rgba(0, 0, 0, 0.15);\n",
              "      filter: drop-shadow(0px 1px 2px rgba(0, 0, 0, 0.3));\n",
              "      fill: #FFFFFF;\n",
              "    }\n",
              "  </style>\n",
              "\n",
              "      <script>\n",
              "        const buttonEl =\n",
              "          document.querySelector('#df-e4a54d21-f5ec-48a0-86fd-149292b1c84a button.colab-df-convert');\n",
              "        buttonEl.style.display =\n",
              "          google.colab.kernel.accessAllowed ? 'block' : 'none';\n",
              "\n",
              "        async function convertToInteractive(key) {\n",
              "          const element = document.querySelector('#df-e4a54d21-f5ec-48a0-86fd-149292b1c84a');\n",
              "          const dataTable =\n",
              "            await google.colab.kernel.invokeFunction('convertToInteractive',\n",
              "                                                     [key], {});\n",
              "          if (!dataTable) return;\n",
              "\n",
              "          const docLinkHtml = 'Like what you see? Visit the ' +\n",
              "            '<a target=\"_blank\" href=https://colab.research.google.com/notebooks/data_table.ipynb>data table notebook</a>'\n",
              "            + ' to learn more about interactive tables.';\n",
              "          element.innerHTML = '';\n",
              "          dataTable['output_type'] = 'display_data';\n",
              "          await google.colab.output.renderOutput(dataTable, element);\n",
              "          const docLink = document.createElement('div');\n",
              "          docLink.innerHTML = docLinkHtml;\n",
              "          element.appendChild(docLink);\n",
              "        }\n",
              "      </script>\n",
              "    </div>\n",
              "  </div>\n",
              "  "
            ]
          },
          "metadata": {},
          "execution_count": 16
        }
      ]
    },
    {
      "cell_type": "code",
      "source": [
        "# <sos> : \\t\n",
        "# <eos> : \\n\n",
        "lines_30['tar'] = lines_30.tar.apply(lambda x: '\\t ' + x + ' \\n')"
      ],
      "metadata": {
        "id": "LrH-U2i67wnQ"
      },
      "execution_count": 17,
      "outputs": []
    },
    {
      "cell_type": "code",
      "source": [
        "lines_30.sample(10)"
      ],
      "metadata": {
        "colab": {
          "base_uri": "https://localhost:8080/",
          "height": 363
        },
        "id": "OnY5LAbp93Dx",
        "outputId": "d6a786a0-23bd-4c5f-cb93-0b60a18f659a"
      },
      "execution_count": 18,
      "outputs": [
        {
          "output_type": "execute_result",
          "data": {
            "text/plain": [
              "                                  src  \\\n",
              "92713    He is roasting coffee beans.   \n",
              "14147                I live here now.   \n",
              "35679            I hope you're wrong.   \n",
              "56459         I saw it in a magazine.   \n",
              "13040                Are you unlucky?   \n",
              "56805         I woke up on the couch.   \n",
              "71993       I'm so happy to meet you.   \n",
              "104438  This is what we want to know.   \n",
              "71572       I will have to help them.   \n",
              "3632                     Look at Tom.   \n",
              "\n",
              "                                               tar  \n",
              "92713         \\t Il torréfie des fèves de café. \\n  \n",
              "14147        \\t Je vis ici, à l'heure actuelle. \\n  \n",
              "35679           \\t J'espère que vous avez tort. \\n  \n",
              "56459           \\t Je l'ai vu dans un magazine. \\n  \n",
              "13040                \\t Êtes-vous malchanceux ? \\n  \n",
              "56805     \\t Je me suis réveillé sur le canapé. \\n  \n",
              "71993   \\t Je suis si heureux de te rencontrer. \\n  \n",
              "104438     \\t C’est ce que nous voulons savoir. \\n  \n",
              "71572                   \\t Je devrai les aider. \\n  \n",
              "3632                            \\t Regarde Tom. \\n  "
            ],
            "text/html": [
              "\n",
              "  <div id=\"df-77a87bd0-e710-4106-936d-9d12bcc25c55\">\n",
              "    <div class=\"colab-df-container\">\n",
              "      <div>\n",
              "<style scoped>\n",
              "    .dataframe tbody tr th:only-of-type {\n",
              "        vertical-align: middle;\n",
              "    }\n",
              "\n",
              "    .dataframe tbody tr th {\n",
              "        vertical-align: top;\n",
              "    }\n",
              "\n",
              "    .dataframe thead th {\n",
              "        text-align: right;\n",
              "    }\n",
              "</style>\n",
              "<table border=\"1\" class=\"dataframe\">\n",
              "  <thead>\n",
              "    <tr style=\"text-align: right;\">\n",
              "      <th></th>\n",
              "      <th>src</th>\n",
              "      <th>tar</th>\n",
              "    </tr>\n",
              "  </thead>\n",
              "  <tbody>\n",
              "    <tr>\n",
              "      <th>92713</th>\n",
              "      <td>He is roasting coffee beans.</td>\n",
              "      <td>\\t Il torréfie des fèves de café. \\n</td>\n",
              "    </tr>\n",
              "    <tr>\n",
              "      <th>14147</th>\n",
              "      <td>I live here now.</td>\n",
              "      <td>\\t Je vis ici, à l'heure actuelle. \\n</td>\n",
              "    </tr>\n",
              "    <tr>\n",
              "      <th>35679</th>\n",
              "      <td>I hope you're wrong.</td>\n",
              "      <td>\\t J'espère que vous avez tort. \\n</td>\n",
              "    </tr>\n",
              "    <tr>\n",
              "      <th>56459</th>\n",
              "      <td>I saw it in a magazine.</td>\n",
              "      <td>\\t Je l'ai vu dans un magazine. \\n</td>\n",
              "    </tr>\n",
              "    <tr>\n",
              "      <th>13040</th>\n",
              "      <td>Are you unlucky?</td>\n",
              "      <td>\\t Êtes-vous malchanceux ? \\n</td>\n",
              "    </tr>\n",
              "    <tr>\n",
              "      <th>56805</th>\n",
              "      <td>I woke up on the couch.</td>\n",
              "      <td>\\t Je me suis réveillé sur le canapé. \\n</td>\n",
              "    </tr>\n",
              "    <tr>\n",
              "      <th>71993</th>\n",
              "      <td>I'm so happy to meet you.</td>\n",
              "      <td>\\t Je suis si heureux de te rencontrer. \\n</td>\n",
              "    </tr>\n",
              "    <tr>\n",
              "      <th>104438</th>\n",
              "      <td>This is what we want to know.</td>\n",
              "      <td>\\t C’est ce que nous voulons savoir. \\n</td>\n",
              "    </tr>\n",
              "    <tr>\n",
              "      <th>71572</th>\n",
              "      <td>I will have to help them.</td>\n",
              "      <td>\\t Je devrai les aider. \\n</td>\n",
              "    </tr>\n",
              "    <tr>\n",
              "      <th>3632</th>\n",
              "      <td>Look at Tom.</td>\n",
              "      <td>\\t Regarde Tom. \\n</td>\n",
              "    </tr>\n",
              "  </tbody>\n",
              "</table>\n",
              "</div>\n",
              "      <button class=\"colab-df-convert\" onclick=\"convertToInteractive('df-77a87bd0-e710-4106-936d-9d12bcc25c55')\"\n",
              "              title=\"Convert this dataframe to an interactive table.\"\n",
              "              style=\"display:none;\">\n",
              "        \n",
              "  <svg xmlns=\"http://www.w3.org/2000/svg\" height=\"24px\"viewBox=\"0 0 24 24\"\n",
              "       width=\"24px\">\n",
              "    <path d=\"M0 0h24v24H0V0z\" fill=\"none\"/>\n",
              "    <path d=\"M18.56 5.44l.94 2.06.94-2.06 2.06-.94-2.06-.94-.94-2.06-.94 2.06-2.06.94zm-11 1L8.5 8.5l.94-2.06 2.06-.94-2.06-.94L8.5 2.5l-.94 2.06-2.06.94zm10 10l.94 2.06.94-2.06 2.06-.94-2.06-.94-.94-2.06-.94 2.06-2.06.94z\"/><path d=\"M17.41 7.96l-1.37-1.37c-.4-.4-.92-.59-1.43-.59-.52 0-1.04.2-1.43.59L10.3 9.45l-7.72 7.72c-.78.78-.78 2.05 0 2.83L4 21.41c.39.39.9.59 1.41.59.51 0 1.02-.2 1.41-.59l7.78-7.78 2.81-2.81c.8-.78.8-2.07 0-2.86zM5.41 20L4 18.59l7.72-7.72 1.47 1.35L5.41 20z\"/>\n",
              "  </svg>\n",
              "      </button>\n",
              "      \n",
              "  <style>\n",
              "    .colab-df-container {\n",
              "      display:flex;\n",
              "      flex-wrap:wrap;\n",
              "      gap: 12px;\n",
              "    }\n",
              "\n",
              "    .colab-df-convert {\n",
              "      background-color: #E8F0FE;\n",
              "      border: none;\n",
              "      border-radius: 50%;\n",
              "      cursor: pointer;\n",
              "      display: none;\n",
              "      fill: #1967D2;\n",
              "      height: 32px;\n",
              "      padding: 0 0 0 0;\n",
              "      width: 32px;\n",
              "    }\n",
              "\n",
              "    .colab-df-convert:hover {\n",
              "      background-color: #E2EBFA;\n",
              "      box-shadow: 0px 1px 2px rgba(60, 64, 67, 0.3), 0px 1px 3px 1px rgba(60, 64, 67, 0.15);\n",
              "      fill: #174EA6;\n",
              "    }\n",
              "\n",
              "    [theme=dark] .colab-df-convert {\n",
              "      background-color: #3B4455;\n",
              "      fill: #D2E3FC;\n",
              "    }\n",
              "\n",
              "    [theme=dark] .colab-df-convert:hover {\n",
              "      background-color: #434B5C;\n",
              "      box-shadow: 0px 1px 3px 1px rgba(0, 0, 0, 0.15);\n",
              "      filter: drop-shadow(0px 1px 2px rgba(0, 0, 0, 0.3));\n",
              "      fill: #FFFFFF;\n",
              "    }\n",
              "  </style>\n",
              "\n",
              "      <script>\n",
              "        const buttonEl =\n",
              "          document.querySelector('#df-77a87bd0-e710-4106-936d-9d12bcc25c55 button.colab-df-convert');\n",
              "        buttonEl.style.display =\n",
              "          google.colab.kernel.accessAllowed ? 'block' : 'none';\n",
              "\n",
              "        async function convertToInteractive(key) {\n",
              "          const element = document.querySelector('#df-77a87bd0-e710-4106-936d-9d12bcc25c55');\n",
              "          const dataTable =\n",
              "            await google.colab.kernel.invokeFunction('convertToInteractive',\n",
              "                                                     [key], {});\n",
              "          if (!dataTable) return;\n",
              "\n",
              "          const docLinkHtml = 'Like what you see? Visit the ' +\n",
              "            '<a target=\"_blank\" href=https://colab.research.google.com/notebooks/data_table.ipynb>data table notebook</a>'\n",
              "            + ' to learn more about interactive tables.';\n",
              "          element.innerHTML = '';\n",
              "          dataTable['output_type'] = 'display_data';\n",
              "          await google.colab.output.renderOutput(dataTable, element);\n",
              "          const docLink = document.createElement('div');\n",
              "          docLink.innerHTML = docLinkHtml;\n",
              "          element.appendChild(docLink);\n",
              "        }\n",
              "      </script>\n",
              "    </div>\n",
              "  </div>\n",
              "  "
            ]
          },
          "metadata": {},
          "execution_count": 18
        }
      ]
    },
    {
      "cell_type": "code",
      "source": [
        "src_vocab = set()\n",
        "for line in lines_30.src:\n",
        "  for char in line:\n",
        "    src_vocab.add(char)\n",
        "\n",
        "tar_vocab = set()\n",
        "for line in lines_30.tar:\n",
        "  for char in line:\n",
        "    tar_vocab.add(char)"
      ],
      "metadata": {
        "id": "RpnfWoMe-Kke"
      },
      "execution_count": 19,
      "outputs": []
    },
    {
      "cell_type": "code",
      "source": [
        "print('src_vocab', '\\n', src_vocab)\n",
        "print('src_vocab length: ', len(src_vocab))\n",
        "print('tar_vocab', '\\n', tar_vocab)\n",
        "print('tar_vocab length: ', len(tar_vocab))"
      ],
      "metadata": {
        "colab": {
          "base_uri": "https://localhost:8080/"
        },
        "id": "n-km6xtK-0PL",
        "outputId": "80cbb073-111a-4d5a-d573-9e0c07b59ad2"
      },
      "execution_count": 20,
      "outputs": [
        {
          "output_type": "stream",
          "name": "stdout",
          "text": [
            "src_vocab \n",
            " {'Y', '%', '.', '4', 'F', 'f', 'w', 'c', 'y', ',', \"'\", '8', 'e', '€', 'G', 'V', 's', 'é', 'a', 'U', 'l', '?', 'm', 'h', 'S', 'T', '/', '\"', '1', '0', 'u', 'J', 'K', '&', 'n', ' ', 'O', 'x', 'q', 'X', 'A', '3', '’', ':', 'p', 'k', '\\xa0', '‘', 'r', '6', 'o', 'R', 'P', 'z', '-', 'I', 't', 'i', 'E', 'M', '!', 'd', '$', 'H', 'b', 'Q', '7', 'D', '5', 'v', 'L', 'j', 'B', 'C', '2', 'W', 'Z', 'N', '9', '°', 'g'}\n",
            "src_vocab length:  81\n",
            "tar_vocab \n",
            " {'Y', '%', '.', '4', 'F', 'f', 'w', 'c', 'y', ',', \"'\", 'ù', 'œ', 'ï', '8', 'e', 'V', 'G', 's', 'é', 'a', 'U', 'l', '?', 'ê', '(', 'm', 'h', 'S', 'T', '\"', '1', 'û', '0', 'u', 'J', 'K', 'â', '&', 'n', ' ', 'O', '«', 'x', 'q', 'è', 'X', 'A', '3', '’', 'ü', ':', 'p', 'k', 'Ç', '\\xa0', '\\u202f', '‘', 'r', '6', 'o', 'R', '+', 'P', 'z', '-', 'Ô', 'I', 't', 'ë', 'i', 'E', 'À', ')', 'Ê', 'M', '!', 'd', '$', '\\u200b', 'b', 'à', 'Q', '7', 'D', '5', 'v', 'L', 'j', 'B', '»', 'C', 'g', 'î', 'É', '\\n', '2', '‽', 'W', '\\u2009', 'Z', 'N', '9', 'ç', '\\t', 'H', 'ô'}\n",
            "tar_vocab length:  107\n"
          ]
        }
      ]
    },
    {
      "cell_type": "code",
      "source": [
        "src_vocab_size = len(src_vocab) + 1\n",
        "tar_vocab_size = len(tar_vocab) + 1\n",
        "print('src_vocab_size: ', src_vocab_size)\n",
        "print('tar_vocab_size: ', tar_vocab_size)"
      ],
      "metadata": {
        "colab": {
          "base_uri": "https://localhost:8080/"
        },
        "id": "LovXX7Xj_bzf",
        "outputId": "21871b4d-b551-425e-c561-bc97ce2f3f90"
      },
      "execution_count": 21,
      "outputs": [
        {
          "output_type": "stream",
          "name": "stdout",
          "text": [
            "src_vocab_size:  82\n",
            "tar_vocab_size:  108\n"
          ]
        }
      ]
    },
    {
      "cell_type": "code",
      "source": [
        "src_vocab = sorted(src_vocab)\n",
        "tar_vocab = sorted(tar_vocab)"
      ],
      "metadata": {
        "id": "0_fwmYk_AlKS"
      },
      "execution_count": 22,
      "outputs": []
    },
    {
      "cell_type": "code",
      "source": [
        "print(src_vocab[50:75])\n",
        "print(tar_vocab[50:75])"
      ],
      "metadata": {
        "colab": {
          "base_uri": "https://localhost:8080/"
        },
        "id": "okYFVJVPBAAG",
        "outputId": "b30fb5b3-7d94-4fc9-d89c-3932832d55fa"
      },
      "execution_count": 23,
      "outputs": [
        {
          "output_type": "stream",
          "name": "stdout",
          "text": [
            "['b', 'c', 'd', 'e', 'f', 'g', 'h', 'i', 'j', 'k', 'l', 'm', 'n', 'o', 'p', 'q', 'r', 's', 't', 'u', 'v', 'w', 'x', 'y', 'z']\n",
            "['X', 'Y', 'Z', 'a', 'b', 'c', 'd', 'e', 'f', 'g', 'h', 'i', 'j', 'k', 'l', 'm', 'n', 'o', 'p', 'q', 'r', 's', 't', 'u', 'v']\n"
          ]
        }
      ]
    },
    {
      "cell_type": "code",
      "source": [
        "print(src_vocab[:2])\n",
        "print(tar_vocab[:2])"
      ],
      "metadata": {
        "colab": {
          "base_uri": "https://localhost:8080/"
        },
        "id": "AZEgpPpcBHKN",
        "outputId": "d8c7fdde-f72f-4403-e8d0-702eda164aed"
      },
      "execution_count": 24,
      "outputs": [
        {
          "output_type": "stream",
          "name": "stdout",
          "text": [
            "[' ', '!']\n",
            "['\\t', '\\n']\n"
          ]
        }
      ]
    },
    {
      "cell_type": "code",
      "source": [
        "# dict([('a', 'b')])\n",
        "src_to_index = dict([(word, i+1) for i, word in enumerate(src_vocab)])\n",
        "tar_to_index = dict([(word, i+1) for i, word in enumerate(tar_vocab)])"
      ],
      "metadata": {
        "id": "UcUdykqpBkR-"
      },
      "execution_count": 25,
      "outputs": []
    },
    {
      "cell_type": "code",
      "source": [
        "print(src_to_index)\n",
        "print(tar_to_index)"
      ],
      "metadata": {
        "colab": {
          "base_uri": "https://localhost:8080/"
        },
        "id": "VGt2M24aB0jo",
        "outputId": "bffb07f9-55b5-4577-92a6-ee9ff8d774c6"
      },
      "execution_count": 26,
      "outputs": [
        {
          "output_type": "stream",
          "name": "stdout",
          "text": [
            "{' ': 1, '!': 2, '\"': 3, '$': 4, '%': 5, '&': 6, \"'\": 7, ',': 8, '-': 9, '.': 10, '/': 11, '0': 12, '1': 13, '2': 14, '3': 15, '4': 16, '5': 17, '6': 18, '7': 19, '8': 20, '9': 21, ':': 22, '?': 23, 'A': 24, 'B': 25, 'C': 26, 'D': 27, 'E': 28, 'F': 29, 'G': 30, 'H': 31, 'I': 32, 'J': 33, 'K': 34, 'L': 35, 'M': 36, 'N': 37, 'O': 38, 'P': 39, 'Q': 40, 'R': 41, 'S': 42, 'T': 43, 'U': 44, 'V': 45, 'W': 46, 'X': 47, 'Y': 48, 'Z': 49, 'a': 50, 'b': 51, 'c': 52, 'd': 53, 'e': 54, 'f': 55, 'g': 56, 'h': 57, 'i': 58, 'j': 59, 'k': 60, 'l': 61, 'm': 62, 'n': 63, 'o': 64, 'p': 65, 'q': 66, 'r': 67, 's': 68, 't': 69, 'u': 70, 'v': 71, 'w': 72, 'x': 73, 'y': 74, 'z': 75, '\\xa0': 76, '°': 77, 'é': 78, '‘': 79, '’': 80, '€': 81}\n",
            "{'\\t': 1, '\\n': 2, ' ': 3, '!': 4, '\"': 5, '$': 6, '%': 7, '&': 8, \"'\": 9, '(': 10, ')': 11, '+': 12, ',': 13, '-': 14, '.': 15, '0': 16, '1': 17, '2': 18, '3': 19, '4': 20, '5': 21, '6': 22, '7': 23, '8': 24, '9': 25, ':': 26, '?': 27, 'A': 28, 'B': 29, 'C': 30, 'D': 31, 'E': 32, 'F': 33, 'G': 34, 'H': 35, 'I': 36, 'J': 37, 'K': 38, 'L': 39, 'M': 40, 'N': 41, 'O': 42, 'P': 43, 'Q': 44, 'R': 45, 'S': 46, 'T': 47, 'U': 48, 'V': 49, 'W': 50, 'X': 51, 'Y': 52, 'Z': 53, 'a': 54, 'b': 55, 'c': 56, 'd': 57, 'e': 58, 'f': 59, 'g': 60, 'h': 61, 'i': 62, 'j': 63, 'k': 64, 'l': 65, 'm': 66, 'n': 67, 'o': 68, 'p': 69, 'q': 70, 'r': 71, 's': 72, 't': 73, 'u': 74, 'v': 75, 'w': 76, 'x': 77, 'y': 78, 'z': 79, '\\xa0': 80, '«': 81, '»': 82, 'À': 83, 'Ç': 84, 'É': 85, 'Ê': 86, 'Ô': 87, 'à': 88, 'â': 89, 'ç': 90, 'è': 91, 'é': 92, 'ê': 93, 'ë': 94, 'î': 95, 'ï': 96, 'ô': 97, 'ù': 98, 'û': 99, 'ü': 100, 'œ': 101, '\\u2009': 102, '\\u200b': 103, '‘': 104, '’': 105, '\\u202f': 106, '‽': 107}\n"
          ]
        }
      ]
    },
    {
      "cell_type": "code",
      "source": [
        "src_to_index['a']"
      ],
      "metadata": {
        "colab": {
          "base_uri": "https://localhost:8080/"
        },
        "id": "9eGGNQjbH2k5",
        "outputId": "6e2c69ef-3824-4f30-aaa0-7c9f2aab64d2"
      },
      "execution_count": 27,
      "outputs": [
        {
          "output_type": "execute_result",
          "data": {
            "text/plain": [
              "50"
            ]
          },
          "metadata": {},
          "execution_count": 27
        }
      ]
    },
    {
      "cell_type": "code",
      "source": [
        "encoder_input = []\n",
        "\n",
        "for line in lines_30.src:\n",
        "  encoded_line = []\n",
        "  for char in line:\n",
        "    encoded_line.append(src_to_index[char])\n",
        "  encoder_input.append(encoded_line)"
      ],
      "metadata": {
        "id": "7l_fXuvFC9AO"
      },
      "execution_count": 28,
      "outputs": []
    },
    {
      "cell_type": "code",
      "source": [
        "print('src 문장 인코딩: ', encoder_input[:5])\n",
        "print('src 문장 원본  : ', '\\n', lines_30.src[:5])"
      ],
      "metadata": {
        "colab": {
          "base_uri": "https://localhost:8080/"
        },
        "id": "TAKq3Jz5IUXR",
        "outputId": "628b5e6a-3cbd-4fb3-b6cc-fb6f24ef0f72"
      },
      "execution_count": 29,
      "outputs": [
        {
          "output_type": "stream",
          "name": "stdout",
          "text": [
            "src 문장 인코딩:  [[30, 64, 10], [30, 64, 10], [30, 64, 10], [31, 58, 10], [31, 58, 10]]\n",
            "src 문장 원본  :  \n",
            " 0    Go.\n",
            "1    Go.\n",
            "2    Go.\n",
            "3    Hi.\n",
            "4    Hi.\n",
            "Name: src, dtype: object\n"
          ]
        }
      ]
    },
    {
      "cell_type": "code",
      "source": [
        "print('src 문장 인코딩 last : ', encoder_input[-1])"
      ],
      "metadata": {
        "colab": {
          "base_uri": "https://localhost:8080/"
        },
        "id": "B05b2ce3Ia-N",
        "outputId": "0b4b381a-4ec7-4c16-f548-b6cd76d3e3f2"
      },
      "execution_count": 30,
      "outputs": [
        {
          "output_type": "stream",
          "name": "stdout",
          "text": [
            "src 문장 인코딩 last :  [46, 57, 64, 1, 58, 68, 1, 58, 69, 23, 1, 3, 32, 69, 7, 68, 1, 74, 64, 70, 67, 1, 62, 64, 69, 57, 54, 67, 10, 3]\n"
          ]
        }
      ]
    },
    {
      "cell_type": "code",
      "source": [
        "decoder_input = []\n",
        "\n",
        "for line in lines_30.tar:\n",
        "  decoded_line = []\n",
        "  for char in line:\n",
        "    decoded_line.append(tar_to_index[char])\n",
        "  decoder_input.append(decoded_line)"
      ],
      "metadata": {
        "id": "_y6Q8jZjJRVz"
      },
      "execution_count": 31,
      "outputs": []
    },
    {
      "cell_type": "code",
      "source": [
        "print('tar 문장 인코딩: ', decoder_input[:5])\n",
        "print('tar 문장 원본  : ', '\\n', lines_30.tar[:5])"
      ],
      "metadata": {
        "colab": {
          "base_uri": "https://localhost:8080/"
        },
        "id": "23yGQ8jhJz3G",
        "outputId": "70a7afa9-e474-4e85-8f9b-853898531a2d"
      },
      "execution_count": 32,
      "outputs": [
        {
          "output_type": "stream",
          "name": "stdout",
          "text": [
            "tar 문장 인코딩:  [[1, 3, 49, 54, 3, 4, 3, 2], [1, 3, 40, 54, 71, 56, 61, 58, 15, 3, 2], [1, 3, 29, 68, 74, 60, 58, 3, 4, 3, 2], [1, 3, 46, 54, 65, 74, 73, 3, 4, 3, 2], [1, 3, 46, 54, 65, 74, 73, 15, 3, 2]]\n",
            "tar 문장 원본  :  \n",
            " 0       \\t Va ! \\n\n",
            "1    \\t Marche. \\n\n",
            "2    \\t Bouge ! \\n\n",
            "3    \\t Salut ! \\n\n",
            "4     \\t Salut. \\n\n",
            "Name: tar, dtype: object\n"
          ]
        }
      ]
    },
    {
      "cell_type": "code",
      "source": [
        "decoder_target = []\n",
        "\n",
        "for line in lines_30.tar:\n",
        "  timestep = 0\n",
        "  encoded_line = []\n",
        "  for char in line:\n",
        "    if timestep > 0:\n",
        "      encoded_line.append(tar_to_index[char])\n",
        "    timestep += 1\n",
        "  decoder_target.append(encoded_line)"
      ],
      "metadata": {
        "id": "dHToC0ddJ6E7"
      },
      "execution_count": 33,
      "outputs": []
    },
    {
      "cell_type": "code",
      "source": [
        "print(encoder_input[:5])\n",
        "print(decoder_input[:5])\n",
        "print(decoder_target[:5])"
      ],
      "metadata": {
        "colab": {
          "base_uri": "https://localhost:8080/"
        },
        "id": "qiBO54oBMGGS",
        "outputId": "3482c15c-248e-45ba-a374-97f33c2ac379"
      },
      "execution_count": 34,
      "outputs": [
        {
          "output_type": "stream",
          "name": "stdout",
          "text": [
            "[[30, 64, 10], [30, 64, 10], [30, 64, 10], [31, 58, 10], [31, 58, 10]]\n",
            "[[1, 3, 49, 54, 3, 4, 3, 2], [1, 3, 40, 54, 71, 56, 61, 58, 15, 3, 2], [1, 3, 29, 68, 74, 60, 58, 3, 4, 3, 2], [1, 3, 46, 54, 65, 74, 73, 3, 4, 3, 2], [1, 3, 46, 54, 65, 74, 73, 15, 3, 2]]\n",
            "[[3, 49, 54, 3, 4, 3, 2], [3, 40, 54, 71, 56, 61, 58, 15, 3, 2], [3, 29, 68, 74, 60, 58, 3, 4, 3, 2], [3, 46, 54, 65, 74, 73, 3, 4, 3, 2], [3, 46, 54, 65, 74, 73, 15, 3, 2]]\n"
          ]
        }
      ]
    },
    {
      "cell_type": "code",
      "source": [
        "# lines_100.tar.apply(lambda x: x[1:])"
      ],
      "metadata": {
        "id": "A-1VHnzGMaxv"
      },
      "execution_count": 35,
      "outputs": []
    },
    {
      "cell_type": "code",
      "source": [
        "max_src_len = max([len(line) for line in lines_30.src])\n",
        "max_tar_len = max([len(line) for line in lines_30.tar])\n",
        "print('max_src_len: ', max_src_len)\n",
        "print('max_tar_len: ', max_tar_len)"
      ],
      "metadata": {
        "colab": {
          "base_uri": "https://localhost:8080/"
        },
        "id": "B3Q8vdYWM6zy",
        "outputId": "1b9ba6bb-0cde-4524-d944-9082380d7894"
      },
      "execution_count": 36,
      "outputs": [
        {
          "output_type": "stream",
          "name": "stdout",
          "text": [
            "max_src_len:  30\n",
            "max_tar_len:  80\n"
          ]
        }
      ]
    },
    {
      "cell_type": "code",
      "source": [
        "encoder_input = pad_sequences(encoder_input, maxlen=max_src_len, padding='post')\n",
        "decoder_input = pad_sequences(decoder_input, maxlen=max_tar_len, padding='post')\n",
        "decoder_target = pad_sequences(decoder_target, maxlen=max_tar_len, padding='post')"
      ],
      "metadata": {
        "id": "30sbv1bxNqKB"
      },
      "execution_count": 37,
      "outputs": []
    },
    {
      "cell_type": "code",
      "source": [
        "print(encoder_input[0])\n",
        "print(len(encoder_input[0]))\n",
        "print(decoder_input[0])\n",
        "print(len(decoder_input[0]))\n",
        "print(decoder_target[0])\n",
        "print(len(decoder_target[0]))"
      ],
      "metadata": {
        "colab": {
          "base_uri": "https://localhost:8080/"
        },
        "id": "0khhtfuJN4h5",
        "outputId": "adbcc6f7-ecd2-4d6e-dd07-5212c637c2ce"
      },
      "execution_count": 38,
      "outputs": [
        {
          "output_type": "stream",
          "name": "stdout",
          "text": [
            "[30 64 10  0  0  0  0  0  0  0  0  0  0  0  0  0  0  0  0  0  0  0  0  0\n",
            "  0  0  0  0  0  0]\n",
            "30\n",
            "[ 1  3 49 54  3  4  3  2  0  0  0  0  0  0  0  0  0  0  0  0  0  0  0  0\n",
            "  0  0  0  0  0  0  0  0  0  0  0  0  0  0  0  0  0  0  0  0  0  0  0  0\n",
            "  0  0  0  0  0  0  0  0  0  0  0  0  0  0  0  0  0  0  0  0  0  0  0  0\n",
            "  0  0  0  0  0  0  0  0]\n",
            "80\n",
            "[ 3 49 54  3  4  3  2  0  0  0  0  0  0  0  0  0  0  0  0  0  0  0  0  0\n",
            "  0  0  0  0  0  0  0  0  0  0  0  0  0  0  0  0  0  0  0  0  0  0  0  0\n",
            "  0  0  0  0  0  0  0  0  0  0  0  0  0  0  0  0  0  0  0  0  0  0  0  0\n",
            "  0  0  0  0  0  0  0  0]\n",
            "80\n"
          ]
        }
      ]
    },
    {
      "cell_type": "code",
      "source": [
        "encoder_input = to_categorical(encoder_input)\n",
        "decoder_input = to_categorical(decoder_input)\n",
        "decoder_target = to_categorical(decoder_target)"
      ],
      "metadata": {
        "id": "xn_wHHndOcqV"
      },
      "execution_count": 39,
      "outputs": []
    },
    {
      "cell_type": "code",
      "source": [
        "print('encoder input dim: ', encoder_input.shape)\n",
        "print('number of samples: ', lines_30.shape[0])\n",
        "print('src_vocab_size: ', src_vocab_size)\n",
        "print('max_src_len: ', max_src_len)\n",
        "print('-'*40)\n",
        "print('decoder input dim: ', decoder_input.shape)\n",
        "print('number of samples: ', lines_30.shape[0])\n",
        "print('tar_vocab_size: ', tar_vocab_size)\n",
        "print('max_tar_len: ', max_tar_len)\n",
        "print('-'*40)\n",
        "print('decoder target dim: ', decoder_target.shape)"
      ],
      "metadata": {
        "colab": {
          "base_uri": "https://localhost:8080/"
        },
        "id": "mljpjbUWPInI",
        "outputId": "1938d913-4366-4cd3-eb8b-5ff3b1491493"
      },
      "execution_count": 41,
      "outputs": [
        {
          "output_type": "stream",
          "name": "stdout",
          "text": [
            "encoder input dim:  (113350, 30, 82)\n",
            "number of samples:  113350\n",
            "src_vocab_size:  82\n",
            "max_src_len:  30\n",
            "----------------------------------------\n",
            "decoder input dim:  (113350, 80, 108)\n",
            "number of samples:  113350\n",
            "tar_vocab_size:  108\n",
            "max_tar_len:  80\n",
            "----------------------------------------\n",
            "decoder target dim:  (113350, 80, 108)\n"
          ]
        }
      ]
    },
    {
      "cell_type": "code",
      "source": [
        "from tensorflow.keras.layers import Input, SimpleRNN, LSTM, Embedding, Dense\n",
        "from tensorflow.keras.models import Model\n",
        "import numpy as np"
      ],
      "metadata": {
        "id": "lYgPiROkS1BL"
      },
      "execution_count": 42,
      "outputs": []
    },
    {
      "cell_type": "code",
      "source": [
        "print(Input(82))\n",
        "print(Input(shape=(82)))\n",
        "print(Input(shape=(None, src_vocab_size)))"
      ],
      "metadata": {
        "colab": {
          "base_uri": "https://localhost:8080/"
        },
        "id": "zdC4fTswVRpt",
        "outputId": "03aeae5d-4d3d-406e-8ebd-4b28e4ab296c"
      },
      "execution_count": 43,
      "outputs": [
        {
          "output_type": "stream",
          "name": "stdout",
          "text": [
            "KerasTensor(type_spec=TensorSpec(shape=(None, 82), dtype=tf.float32, name='input_1'), name='input_1', description=\"created by layer 'input_1'\")\n",
            "KerasTensor(type_spec=TensorSpec(shape=(None, 82), dtype=tf.float32, name='input_2'), name='input_2', description=\"created by layer 'input_2'\")\n",
            "KerasTensor(type_spec=TensorSpec(shape=(None, None, 82), dtype=tf.float32, name='input_3'), name='input_3', description=\"created by layer 'input_3'\")\n"
          ]
        }
      ]
    },
    {
      "cell_type": "code",
      "source": [
        "encoder_input_test = Input(82)\n",
        "encoder_input = Input(shape=(None, src_vocab_size))"
      ],
      "metadata": {
        "id": "hUA2z99LVjG1"
      },
      "execution_count": 45,
      "outputs": []
    },
    {
      "cell_type": "code",
      "source": [
        "print(LSTM(units=256)(encoder_input))\n",
        "print(LSTM(units=256, return_sequences=True, return_state=False)(encoder_input))\n",
        "print(LSTM(units=256, return_sequences=False, return_state=True)(encoder_input))\n",
        "print(LSTM(units=256, return_sequences=True, return_state=True)(encoder_input))"
      ],
      "metadata": {
        "colab": {
          "base_uri": "https://localhost:8080/"
        },
        "id": "ssT6EoG2V2ZX",
        "outputId": "0648002c-3856-42b0-eb6b-248f4ac36e54"
      },
      "execution_count": 47,
      "outputs": [
        {
          "output_type": "stream",
          "name": "stdout",
          "text": [
            "KerasTensor(type_spec=TensorSpec(shape=(None, 256), dtype=tf.float32, name=None), name='lstm_1/PartitionedCall:0', description=\"created by layer 'lstm_1'\")\n",
            "KerasTensor(type_spec=TensorSpec(shape=(None, None, 256), dtype=tf.float32, name=None), name='lstm_2/PartitionedCall:1', description=\"created by layer 'lstm_2'\")\n",
            "[<KerasTensor: shape=(None, 256) dtype=float32 (created by layer 'lstm_3')>, <KerasTensor: shape=(None, 256) dtype=float32 (created by layer 'lstm_3')>, <KerasTensor: shape=(None, 256) dtype=float32 (created by layer 'lstm_3')>]\n",
            "[<KerasTensor: shape=(None, None, 256) dtype=float32 (created by layer 'lstm_4')>, <KerasTensor: shape=(None, 256) dtype=float32 (created by layer 'lstm_4')>, <KerasTensor: shape=(None, 256) dtype=float32 (created by layer 'lstm_4')>]\n"
          ]
        }
      ]
    },
    {
      "cell_type": "code",
      "source": [
        "print(SimpleRNN(256, return_sequences=True)(encoder_input))"
      ],
      "metadata": {
        "colab": {
          "base_uri": "https://localhost:8080/"
        },
        "id": "GWHDp-gAwEk2",
        "outputId": "1d3f93bb-225e-4018-936e-994fee8a2d3a"
      },
      "execution_count": 48,
      "outputs": [
        {
          "output_type": "stream",
          "name": "stdout",
          "text": [
            "KerasTensor(type_spec=TensorSpec(shape=(None, None, 256), dtype=tf.float32, name=None), name='simple_rnn/transpose_1:0', description=\"created by layer 'simple_rnn'\")\n"
          ]
        }
      ]
    },
    {
      "cell_type": "code",
      "source": [
        "# print(LSTM(units=256)(encoder_input_test)) error 발색"
      ],
      "metadata": {
        "id": "uhln47UdWZo5"
      },
      "execution_count": null,
      "outputs": []
    },
    {
      "cell_type": "code",
      "source": [
        "print('2 states_value (인코더 모델 히든, 셀 상태 출력을 예측 시 입력)')\n",
        "print('' 75)\n",
        "print('states_value:', '\\n', states_value)\n",
        "print('len(states_value):', len(states_value))\n",
        "print('' 75)\n",
        "print('2.1 히든 상태값 (state_value[0])')\n",
        "print('-' * 70)\n",
        "print(states_value[0])\n",
        "print('states_value[0].shape:', states_value[0].shape)\n",
        "print('-' * 70, '\\n')\n",
        "\n",
        "print('2.2 셀 상태값 (state_value[1])')\n",
        "print('-' * 70)\n",
        "print(states_value[1])\n",
        "print('states_value[1].shape:', states_value[1].shape)\n",
        "print('-' * 70, '\\n')"
      ],
      "metadata": {
        "id": "85jD4E2HVbZf"
      },
      "execution_count": null,
      "outputs": []
    },
    {
      "cell_type": "code",
      "source": [
        "def decode_sequence(input_seq):\n",
        "  # 입력으로부터 인코더의 상태를 얻음\n",
        "  states_value = encoder_model.predict(input_seq)\n",
        "\n",
        "  # <SOS>에 해당하는 원-핫 벡터 생성\n",
        "  target_seq = np.zeros((1, 1, tar_vocab_size))\n",
        "  target_seq[0, 0, tar_to_index['\\t']] = 1.\n",
        "\n",
        "  stop_condition = False\n",
        "  decoded_sentence = \"\"\n",
        "\n",
        "  # stop_condition이 True가 될 때까지 루프 반복\n",
        "  while not stop_condition:\n",
        "    # 이점 시점의 상태 states_value를 현 시점의 초기 상태로 사용\n",
        "    output_tokens, h, c = decoder_model.predict([target_seq] + states_value)\n",
        "\n",
        "    # 예측 결과를 문자로 변환\n",
        "    sampled_token_index = np.argmax(output_tokens[0, -1, :])\n",
        "    sampled_char = index_to_tar[sampled_token_index]\n",
        "\n",
        "    # 현재 시점의 예측 문자를 예측 문장에 추가\n",
        "    decoded_sentence += sampled_char\n",
        "\n",
        "    # <eos>에 도달하거나 최대 길이를 넘으면 중단.\n",
        "    if (sampled_char == '\\n' or\n",
        "        len(decoded_sentence) > max_tar_len):\n",
        "        stop_condition = True\n",
        "\n",
        "    # 현재 시점의 예측 결과를 다음 시점의 입력으로 사용하기 위해 저장\n",
        "    target_seq = np.zeros((1, 1, tar_vocab_size))\n",
        "    target_seq[0, 0, sampled_token_index] = 1.\n",
        "\n",
        "    # 현재 시점의 상태를 다음 시점의 상태로 사용하기 위해 저장\n",
        "    states_value = [h, c]\n",
        "\n",
        "  return decoded_sentence"
      ],
      "metadata": {
        "id": "GCnGHTqtkFiy"
      },
      "execution_count": null,
      "outputs": []
    }
  ]
}